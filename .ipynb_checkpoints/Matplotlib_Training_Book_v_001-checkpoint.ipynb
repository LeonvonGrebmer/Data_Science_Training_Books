{
 "cells": [
  {
   "cell_type": "markdown",
   "metadata": {},
   "source": [
    "# Matplotlib Training Book\n",
    "\n",
    "### Why I made this notebook?\n",
    "\n",
    "This Notebook is here to train the Matplotlib.pyplot Library. \n",
    "It contains quizzles for all fundamental plt attributes, methods and more. \n",
    "The goal is to **master the mechanics through repetition**. \n",
    "The work here is based on the book \"Python Data Science Handbook\" written by Jack VanderPlas, which I really enjoyed reading.\n",
    "\n",
    "### Requirements\n",
    "\n",
    "You should know the theory behind matplotlib.pyplot and have an understanding why the following tasks work.\n",
    "This book is just about knowing how to use the code."
   ]
  },
  {
   "cell_type": "markdown",
   "metadata": {},
   "source": [
    "### Let's get started"
   ]
  },
  {
   "cell_type": "code",
   "execution_count": null,
   "metadata": {},
   "outputs": [],
   "source": []
  }
 ],
 "metadata": {
  "kernelspec": {
   "display_name": "Python 3",
   "language": "python",
   "name": "python3"
  },
  "language_info": {
   "codemirror_mode": {
    "name": "ipython",
    "version": 3
   },
   "file_extension": ".py",
   "mimetype": "text/x-python",
   "name": "python",
   "nbconvert_exporter": "python",
   "pygments_lexer": "ipython3",
   "version": "3.8.2"
  }
 },
 "nbformat": 4,
 "nbformat_minor": 4
}
