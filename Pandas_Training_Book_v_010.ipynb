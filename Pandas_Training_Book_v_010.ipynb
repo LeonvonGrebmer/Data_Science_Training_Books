{
 "cells": [
  {
   "cell_type": "markdown",
   "metadata": {},
   "source": [
    "# Pandas Training Book\n",
    "\n",
    "### Why I made this notebook?\n",
    "\n",
    "This Notebook is here to train the Pandas Library. \n",
    "It contains quizzles for all fundamental Pandas attributes, methods and more. \n",
    "The goal is to **master the mechanics through repetition**. \n",
    "The work here is based on the book \"Python Data Science Handbook\" written by Jack VanderPlas, which I really enjoyed reading.\n",
    "\n",
    "### Requirements\n",
    "\n",
    "You should know the theory behind numpy and have an understanding why the following tasks work.\n",
    "This book is just about knowing how to use the code."
   ]
  },
  {
   "cell_type": "markdown",
   "metadata": {},
   "source": [
    "### Let's get started"
   ]
  },
  {
   "cell_type": "markdown",
   "metadata": {
    "solution2": "hidden",
    "solution2_first": true
   },
   "source": [
    "#### Task 1 Installation\n",
    "\n",
    "1.1 Import Pandas"
   ]
  },
  {
   "cell_type": "code",
   "execution_count": 1,
   "metadata": {
    "solution2": "hidden"
   },
   "outputs": [],
   "source": [
    "import pandas as pd"
   ]
  },
  {
   "cell_type": "code",
   "execution_count": 2,
   "metadata": {},
   "outputs": [],
   "source": [
    "#enter solution\n"
   ]
  },
  {
   "cell_type": "markdown",
   "metadata": {
    "solution2": "hidden",
    "solution2_first": true
   },
   "source": [
    "1.2 Show Pandas version"
   ]
  },
  {
   "cell_type": "code",
   "execution_count": 3,
   "metadata": {
    "solution2": "hidden"
   },
   "outputs": [
    {
     "data": {
      "text/plain": [
       "'1.0.3'"
      ]
     },
     "execution_count": 3,
     "metadata": {},
     "output_type": "execute_result"
    }
   ],
   "source": [
    "pd.__version__"
   ]
  },
  {
   "cell_type": "code",
   "execution_count": 4,
   "metadata": {},
   "outputs": [],
   "source": [
    "#enter solution\n"
   ]
  },
  {
   "cell_type": "markdown",
   "metadata": {
    "solution2": "hidden",
    "solution2_first": true
   },
   "source": [
    "1.3 Import the other library, that panda works with"
   ]
  },
  {
   "cell_type": "code",
   "execution_count": 5,
   "metadata": {
    "solution2": "hidden"
   },
   "outputs": [],
   "source": [
    "import numpy as np"
   ]
  },
  {
   "cell_type": "code",
   "execution_count": 6,
   "metadata": {},
   "outputs": [],
   "source": [
    "#enter solution\n"
   ]
  },
  {
   "cell_type": "markdown",
   "metadata": {
    "solution2": "hidden",
    "solution2_first": true
   },
   "source": [
    "#### Task 2 Introducing Pandas Objects\n",
    "\n",
    "2.1 Create a pandas series with the values 1, 2 , 3 , 4 and save it in the variable **data**"
   ]
  },
  {
   "cell_type": "code",
   "execution_count": 7,
   "metadata": {
    "solution2": "hidden"
   },
   "outputs": [
    {
     "data": {
      "text/plain": [
       "0    1\n",
       "1    2\n",
       "2    3\n",
       "3    4\n",
       "dtype: int64"
      ]
     },
     "execution_count": 7,
     "metadata": {},
     "output_type": "execute_result"
    }
   ],
   "source": [
    "data = pd.Series([1, 2, 3, 4])\n",
    "data"
   ]
  },
  {
   "cell_type": "code",
   "execution_count": 8,
   "metadata": {},
   "outputs": [],
   "source": [
    "#enter solution\n"
   ]
  },
  {
   "cell_type": "markdown",
   "metadata": {
    "solution2": "hidden",
    "solution2_first": true
   },
   "source": [
    "2.2 Get the values from the **data** object"
   ]
  },
  {
   "cell_type": "code",
   "execution_count": 9,
   "metadata": {
    "solution2": "hidden"
   },
   "outputs": [
    {
     "data": {
      "text/plain": [
       "array([1, 2, 3, 4], dtype=int64)"
      ]
     },
     "execution_count": 9,
     "metadata": {},
     "output_type": "execute_result"
    }
   ],
   "source": [
    "data.values"
   ]
  },
  {
   "cell_type": "code",
   "execution_count": 10,
   "metadata": {},
   "outputs": [],
   "source": [
    "#enter solution\n"
   ]
  },
  {
   "cell_type": "markdown",
   "metadata": {
    "solution2": "hidden",
    "solution2_first": true
   },
   "source": [
    "2.3 Show the index-range from the **data** object"
   ]
  },
  {
   "cell_type": "code",
   "execution_count": 11,
   "metadata": {
    "solution2": "hidden"
   },
   "outputs": [
    {
     "data": {
      "text/plain": [
       "RangeIndex(start=0, stop=4, step=1)"
      ]
     },
     "execution_count": 11,
     "metadata": {},
     "output_type": "execute_result"
    }
   ],
   "source": [
    "data.index"
   ]
  },
  {
   "cell_type": "code",
   "execution_count": 12,
   "metadata": {},
   "outputs": [],
   "source": [
    "#enter solution\n"
   ]
  },
  {
   "cell_type": "markdown",
   "metadata": {
    "solution2": "hidden",
    "solution2_first": true
   },
   "source": [
    "2.4 Get the second item from the **data** object"
   ]
  },
  {
   "cell_type": "code",
   "execution_count": 13,
   "metadata": {
    "solution2": "hidden"
   },
   "outputs": [
    {
     "data": {
      "text/plain": [
       "2"
      ]
     },
     "execution_count": 13,
     "metadata": {},
     "output_type": "execute_result"
    }
   ],
   "source": [
    "data[1]"
   ]
  },
  {
   "cell_type": "code",
   "execution_count": 14,
   "metadata": {},
   "outputs": [],
   "source": [
    "#enter solution\n"
   ]
  },
  {
   "cell_type": "markdown",
   "metadata": {
    "solution2": "hidden",
    "solution2_first": true
   },
   "source": [
    "2.5 Get the values from index 1 to 2"
   ]
  },
  {
   "cell_type": "code",
   "execution_count": 15,
   "metadata": {
    "solution2": "hidden"
   },
   "outputs": [
    {
     "data": {
      "text/plain": [
       "1    2\n",
       "2    3\n",
       "dtype: int64"
      ]
     },
     "execution_count": 15,
     "metadata": {},
     "output_type": "execute_result"
    }
   ],
   "source": [
    "data[1:3]"
   ]
  },
  {
   "cell_type": "code",
   "execution_count": 16,
   "metadata": {},
   "outputs": [],
   "source": [
    "#enter solution\n"
   ]
  },
  {
   "cell_type": "markdown",
   "metadata": {
    "solution2": "hidden",
    "solution2_first": true
   },
   "source": [
    "2.6 create a pandas series with the values 1, 2, 3, 4 and indices a, b, c, d and save it in the varibale **data**"
   ]
  },
  {
   "cell_type": "code",
   "execution_count": 17,
   "metadata": {
    "solution2": "hidden"
   },
   "outputs": [
    {
     "data": {
      "text/plain": [
       "a    1\n",
       "b    2\n",
       "c    3\n",
       "d    4\n",
       "dtype: int64"
      ]
     },
     "execution_count": 17,
     "metadata": {},
     "output_type": "execute_result"
    }
   ],
   "source": [
    "data = pd.Series([1,2,3,4], index=[\"a\", \"b\", \"c\", \"d\"])\n",
    "data"
   ]
  },
  {
   "cell_type": "code",
   "execution_count": 18,
   "metadata": {},
   "outputs": [],
   "source": [
    "#enter solution\n"
   ]
  },
  {
   "cell_type": "markdown",
   "metadata": {
    "solution2": "hidden",
    "solution2_first": true
   },
   "source": [
    "2.7 Get the item for the index \"b\""
   ]
  },
  {
   "cell_type": "code",
   "execution_count": 19,
   "metadata": {
    "solution2": "hidden"
   },
   "outputs": [
    {
     "data": {
      "text/plain": [
       "2"
      ]
     },
     "execution_count": 19,
     "metadata": {},
     "output_type": "execute_result"
    }
   ],
   "source": [
    "data[\"b\"]"
   ]
  },
  {
   "cell_type": "code",
   "execution_count": 20,
   "metadata": {},
   "outputs": [],
   "source": [
    "#enter solution\n"
   ]
  },
  {
   "cell_type": "markdown",
   "metadata": {
    "solution2": "hidden",
    "solution2_first": true
   },
   "source": [
    "2.8 Create a dictionary with the keys \"Person1\", \"Person2\", \"Person3\", \"Person4\" and the values, 12 ,13 ,15 ,11\n",
    "save it as **person_dict**. Create a pandas series out of this dictionary and save it as **person_pd**."
   ]
  },
  {
   "cell_type": "code",
   "execution_count": 21,
   "metadata": {
    "solution2": "hidden"
   },
   "outputs": [
    {
     "name": "stdout",
     "output_type": "stream",
     "text": [
      "{'Person1': 12, 'Person2': 13, 'Person3': 15, 'Person4': 11}\n"
     ]
    },
    {
     "data": {
      "text/plain": [
       "Person1    12\n",
       "Person2    13\n",
       "Person3    15\n",
       "Person4    11\n",
       "dtype: int64"
      ]
     },
     "execution_count": 21,
     "metadata": {},
     "output_type": "execute_result"
    }
   ],
   "source": [
    "person_dict = {\"Person1\": 12, \"Person2\": 13, \"Person3\": 15, \"Person4\": 11}\n",
    "print(person_dict)\n",
    "person_pd = pd.Series(person_dict)\n",
    "person_pd"
   ]
  },
  {
   "cell_type": "code",
   "execution_count": 22,
   "metadata": {},
   "outputs": [],
   "source": [
    "#enter solution\n"
   ]
  },
  {
   "cell_type": "markdown",
   "metadata": {
    "solution2": "hidden",
    "solution2_first": true
   },
   "source": [
    "2.9 Get the values for Person3"
   ]
  },
  {
   "cell_type": "code",
   "execution_count": 23,
   "metadata": {
    "solution2": "hidden"
   },
   "outputs": [
    {
     "data": {
      "text/plain": [
       "15"
      ]
     },
     "execution_count": 23,
     "metadata": {},
     "output_type": "execute_result"
    }
   ],
   "source": [
    "person_pd[\"Person3\"]"
   ]
  },
  {
   "cell_type": "code",
   "execution_count": 24,
   "metadata": {},
   "outputs": [],
   "source": [
    "#enter solution\n"
   ]
  },
  {
   "cell_type": "markdown",
   "metadata": {
    "solution2": "hidden",
    "solution2_first": true
   },
   "source": [
    "2.10 Get the values from Person2 to Person4"
   ]
  },
  {
   "cell_type": "code",
   "execution_count": 25,
   "metadata": {
    "solution2": "hidden"
   },
   "outputs": [
    {
     "data": {
      "text/plain": [
       "Person2    13\n",
       "Person3    15\n",
       "Person4    11\n",
       "dtype: int64"
      ]
     },
     "execution_count": 25,
     "metadata": {},
     "output_type": "execute_result"
    }
   ],
   "source": [
    "person_pd[\"Person2\":\"Person4\"]"
   ]
  },
  {
   "cell_type": "code",
   "execution_count": 26,
   "metadata": {},
   "outputs": [],
   "source": [
    "#enter solution\n"
   ]
  },
  {
   "cell_type": "markdown",
   "metadata": {
    "solution2": "hidden",
    "solution2_first": true
   },
   "source": [
    "2.11 Get a pandas series from the following dictionary with only index 3 and 2 "
   ]
  },
  {
   "cell_type": "code",
   "execution_count": 27,
   "metadata": {
    "solution2": "hidden"
   },
   "outputs": [
    {
     "data": {
      "text/plain": [
       "3    c\n",
       "2    a\n",
       "dtype: object"
      ]
     },
     "execution_count": 27,
     "metadata": {},
     "output_type": "execute_result"
    }
   ],
   "source": [
    "test_dict = {2: \"a\", 3: \"c\", 1: \"a\"}\n",
    "\n",
    "data = pd.Series(test_dict, index= [3,2])\n",
    "data"
   ]
  },
  {
   "cell_type": "code",
   "execution_count": 28,
   "metadata": {},
   "outputs": [],
   "source": [
    "#enter solution\n"
   ]
  },
  {
   "cell_type": "markdown",
   "metadata": {
    "solution2": "hidden",
    "solution2_first": true
   },
   "source": [
    "#### Task 3 Pandas DataFrame Object\n",
    "\n",
    "3.1 Create two dictionaries named person_number_dict and person_wage dict with the keys \"Person1\", \"Person2\", \"Person3\", \"Person4\". \n",
    "The values for person_number_dict: 123 , 124 , 125 , 126\n",
    "The values for person_wage_dict: 10000, 12000 , 9000, 5000"
   ]
  },
  {
   "cell_type": "code",
   "execution_count": 29,
   "metadata": {
    "solution2": "hidden"
   },
   "outputs": [],
   "source": [
    "person_number_dict = {\"Person1\": 123, \"Person2\": 124, \"Person3\": 125, \"Person4\": 126}\n",
    "person_wage_dict = {\"Person1\": 10000, \"Person2\": 12000, \"Person3\": 9000, \"Person4\": 5000}"
   ]
  },
  {
   "cell_type": "code",
   "execution_count": 30,
   "metadata": {},
   "outputs": [],
   "source": [
    "#enter solution\n"
   ]
  },
  {
   "cell_type": "markdown",
   "metadata": {
    "solution2": "hidden",
    "solution2_first": true
   },
   "source": [
    "3.2 Create two pandas series with the dictionaries before. Named person_number_pd and person_wage_pd."
   ]
  },
  {
   "cell_type": "code",
   "execution_count": 31,
   "metadata": {
    "solution2": "hidden"
   },
   "outputs": [],
   "source": [
    "person_number_pd = pd.Series(person_number_dict)\n",
    "person_wage_pd = pd.Series(person_wage_dict)"
   ]
  },
  {
   "cell_type": "code",
   "execution_count": 32,
   "metadata": {},
   "outputs": [],
   "source": [
    "#enter solution\n"
   ]
  },
  {
   "cell_type": "markdown",
   "metadata": {
    "solution2": "hidden",
    "solution2_first": true
   },
   "source": [
    "3.3 Create a data frame with the index set as \"Person1\", \"Person2\" ... etc. and the column named as \"per. number\" and \"wage\". Fill in the pandas series from before. Save it in the variable **data**"
   ]
  },
  {
   "cell_type": "code",
   "execution_count": 33,
   "metadata": {
    "solution2": "hidden"
   },
   "outputs": [
    {
     "name": "stdout",
     "output_type": "stream",
     "text": [
      "         per. number   wage\n",
      "Person1          123  10000\n",
      "Person2          124  12000\n",
      "Person3          125   9000\n",
      "Person4          126   5000\n"
     ]
    }
   ],
   "source": [
    "data = pd.DataFrame({\"per. number\": person_number_pd, \"wage\": person_wage_pd})\n",
    "print(data)"
   ]
  },
  {
   "cell_type": "code",
   "execution_count": 34,
   "metadata": {},
   "outputs": [],
   "source": [
    "#enter solution\n"
   ]
  },
  {
   "cell_type": "markdown",
   "metadata": {
    "solution2": "hidden",
    "solution2_first": true
   },
   "source": [
    "3.4 Get the indices from the **data** set"
   ]
  },
  {
   "cell_type": "code",
   "execution_count": 35,
   "metadata": {
    "solution2": "hidden"
   },
   "outputs": [
    {
     "data": {
      "text/plain": [
       "Index(['Person1', 'Person2', 'Person3', 'Person4'], dtype='object')"
      ]
     },
     "execution_count": 35,
     "metadata": {},
     "output_type": "execute_result"
    }
   ],
   "source": [
    "data.index"
   ]
  },
  {
   "cell_type": "code",
   "execution_count": 36,
   "metadata": {},
   "outputs": [],
   "source": [
    "#enter solution\n"
   ]
  },
  {
   "cell_type": "markdown",
   "metadata": {
    "solution2": "hidden",
    "solution2_first": true
   },
   "source": [
    "3.5 Get the column names from the **data** set"
   ]
  },
  {
   "cell_type": "code",
   "execution_count": 37,
   "metadata": {
    "solution2": "hidden"
   },
   "outputs": [
    {
     "data": {
      "text/plain": [
       "Index(['per. number', 'wage'], dtype='object')"
      ]
     },
     "execution_count": 37,
     "metadata": {},
     "output_type": "execute_result"
    }
   ],
   "source": [
    "data.columns"
   ]
  },
  {
   "cell_type": "code",
   "execution_count": 38,
   "metadata": {},
   "outputs": [],
   "source": [
    "#enter solution\n"
   ]
  },
  {
   "cell_type": "markdown",
   "metadata": {
    "solution2": "hidden",
    "solution2_first": true
   },
   "source": [
    "3.6 Get the column for \"wage\" from the **data** set"
   ]
  },
  {
   "cell_type": "code",
   "execution_count": 39,
   "metadata": {
    "solution2": "hidden"
   },
   "outputs": [
    {
     "data": {
      "text/plain": [
       "Person1    10000\n",
       "Person2    12000\n",
       "Person3     9000\n",
       "Person4     5000\n",
       "Name: wage, dtype: int64"
      ]
     },
     "execution_count": 39,
     "metadata": {},
     "output_type": "execute_result"
    }
   ],
   "source": [
    "data[\"wage\"]"
   ]
  },
  {
   "cell_type": "code",
   "execution_count": 40,
   "metadata": {},
   "outputs": [],
   "source": [
    "#enter solution\n"
   ]
  },
  {
   "cell_type": "markdown",
   "metadata": {
    "solution2": "hidden",
    "solution2_first": true
   },
   "source": [
    "#### Task 4 Create Panda DataFrames\n",
    "\n",
    "4.1 Create a Panda DataFrame from **person_wage_pd**"
   ]
  },
  {
   "cell_type": "code",
   "execution_count": 41,
   "metadata": {
    "solution2": "hidden"
   },
   "outputs": [
    {
     "data": {
      "text/html": [
       "<div>\n",
       "<style scoped>\n",
       "    .dataframe tbody tr th:only-of-type {\n",
       "        vertical-align: middle;\n",
       "    }\n",
       "\n",
       "    .dataframe tbody tr th {\n",
       "        vertical-align: top;\n",
       "    }\n",
       "\n",
       "    .dataframe thead th {\n",
       "        text-align: right;\n",
       "    }\n",
       "</style>\n",
       "<table border=\"1\" class=\"dataframe\">\n",
       "  <thead>\n",
       "    <tr style=\"text-align: right;\">\n",
       "      <th></th>\n",
       "      <th>wage</th>\n",
       "    </tr>\n",
       "  </thead>\n",
       "  <tbody>\n",
       "    <tr>\n",
       "      <th>Person1</th>\n",
       "      <td>10000</td>\n",
       "    </tr>\n",
       "    <tr>\n",
       "      <th>Person2</th>\n",
       "      <td>12000</td>\n",
       "    </tr>\n",
       "    <tr>\n",
       "      <th>Person3</th>\n",
       "      <td>9000</td>\n",
       "    </tr>\n",
       "    <tr>\n",
       "      <th>Person4</th>\n",
       "      <td>5000</td>\n",
       "    </tr>\n",
       "  </tbody>\n",
       "</table>\n",
       "</div>"
      ],
      "text/plain": [
       "          wage\n",
       "Person1  10000\n",
       "Person2  12000\n",
       "Person3   9000\n",
       "Person4   5000"
      ]
     },
     "execution_count": 41,
     "metadata": {},
     "output_type": "execute_result"
    }
   ],
   "source": [
    "data = pd.DataFrame(person_wage_pd, columns= [\"wage\"])\n",
    "data"
   ]
  },
  {
   "cell_type": "code",
   "execution_count": 42,
   "metadata": {},
   "outputs": [],
   "source": [
    "#enter solution\n"
   ]
  },
  {
   "cell_type": "markdown",
   "metadata": {
    "solution2": "hidden",
    "solution2_first": true
   },
   "source": [
    "4.2 Create a Panda DataFrame from the given dictionary"
   ]
  },
  {
   "cell_type": "code",
   "execution_count": 43,
   "metadata": {
    "solution2": "hidden"
   },
   "outputs": [
    {
     "data": {
      "text/html": [
       "<div>\n",
       "<style scoped>\n",
       "    .dataframe tbody tr th:only-of-type {\n",
       "        vertical-align: middle;\n",
       "    }\n",
       "\n",
       "    .dataframe tbody tr th {\n",
       "        vertical-align: top;\n",
       "    }\n",
       "\n",
       "    .dataframe thead th {\n",
       "        text-align: right;\n",
       "    }\n",
       "</style>\n",
       "<table border=\"1\" class=\"dataframe\">\n",
       "  <thead>\n",
       "    <tr style=\"text-align: right;\">\n",
       "      <th></th>\n",
       "      <th>a</th>\n",
       "      <th>b</th>\n",
       "      <th>c</th>\n",
       "    </tr>\n",
       "  </thead>\n",
       "  <tbody>\n",
       "    <tr>\n",
       "      <th>0</th>\n",
       "      <td>0</td>\n",
       "      <td>0</td>\n",
       "      <td>0</td>\n",
       "    </tr>\n",
       "    <tr>\n",
       "      <th>1</th>\n",
       "      <td>1</td>\n",
       "      <td>2</td>\n",
       "      <td>1</td>\n",
       "    </tr>\n",
       "    <tr>\n",
       "      <th>2</th>\n",
       "      <td>2</td>\n",
       "      <td>4</td>\n",
       "      <td>8</td>\n",
       "    </tr>\n",
       "  </tbody>\n",
       "</table>\n",
       "</div>"
      ],
      "text/plain": [
       "   a  b  c\n",
       "0  0  0  0\n",
       "1  1  2  1\n",
       "2  2  4  8"
      ]
     },
     "execution_count": 43,
     "metadata": {},
     "output_type": "execute_result"
    }
   ],
   "source": [
    "x_dict = [{\"a\":i ,\"b\":i*2 , \"c\": i**3} for i in range(3)]\n",
    "\n",
    "pd.DataFrame(x_dict)"
   ]
  },
  {
   "cell_type": "code",
   "execution_count": 44,
   "metadata": {},
   "outputs": [],
   "source": [
    "x_dict = [{\"a\":i ,\"b\":i*2 , \"c\": i**3} for i in range(3)]\n",
    "\n",
    "#enter solution\n"
   ]
  },
  {
   "cell_type": "markdown",
   "metadata": {
    "solution2": "hidden",
    "solution2_first": true
   },
   "source": [
    "4.3 Create a Panda DataFrame from the two following dictionaries"
   ]
  },
  {
   "cell_type": "code",
   "execution_count": 45,
   "metadata": {
    "solution2": "hidden"
   },
   "outputs": [
    {
     "data": {
      "text/html": [
       "<div>\n",
       "<style scoped>\n",
       "    .dataframe tbody tr th:only-of-type {\n",
       "        vertical-align: middle;\n",
       "    }\n",
       "\n",
       "    .dataframe tbody tr th {\n",
       "        vertical-align: top;\n",
       "    }\n",
       "\n",
       "    .dataframe thead th {\n",
       "        text-align: right;\n",
       "    }\n",
       "</style>\n",
       "<table border=\"1\" class=\"dataframe\">\n",
       "  <thead>\n",
       "    <tr style=\"text-align: right;\">\n",
       "      <th></th>\n",
       "      <th>a</th>\n",
       "      <th>b</th>\n",
       "      <th>c</th>\n",
       "    </tr>\n",
       "  </thead>\n",
       "  <tbody>\n",
       "    <tr>\n",
       "      <th>0</th>\n",
       "      <td>1.0</td>\n",
       "      <td>2</td>\n",
       "      <td>NaN</td>\n",
       "    </tr>\n",
       "    <tr>\n",
       "      <th>1</th>\n",
       "      <td>NaN</td>\n",
       "      <td>4</td>\n",
       "      <td>3.0</td>\n",
       "    </tr>\n",
       "  </tbody>\n",
       "</table>\n",
       "</div>"
      ],
      "text/plain": [
       "     a  b    c\n",
       "0  1.0  2  NaN\n",
       "1  NaN  4  3.0"
      ]
     },
     "execution_count": 45,
     "metadata": {},
     "output_type": "execute_result"
    }
   ],
   "source": [
    "x_dict = {\"a\": 1, \"b\": 2}\n",
    "y_dict = {\"b\": 4, \"c\": 3}\n",
    "\n",
    "x_pd = pd.DataFrame([x_dict, y_dict])\n",
    "x_pd"
   ]
  },
  {
   "cell_type": "code",
   "execution_count": 46,
   "metadata": {},
   "outputs": [],
   "source": [
    "x_dict = {\"a\": 1, \"b\": 2}\n",
    "y_dict = {\"b\": 4, \"c\": 3}\n",
    "\n",
    "#enter solution\n"
   ]
  },
  {
   "cell_type": "markdown",
   "metadata": {
    "solution2": "hidden",
    "solution2_first": true
   },
   "source": [
    "4.4 Create a Panda DataFrame from the following Numpy array and lists"
   ]
  },
  {
   "cell_type": "code",
   "execution_count": 47,
   "metadata": {
    "solution2": "hidden"
   },
   "outputs": [
    {
     "data": {
      "text/html": [
       "<div>\n",
       "<style scoped>\n",
       "    .dataframe tbody tr th:only-of-type {\n",
       "        vertical-align: middle;\n",
       "    }\n",
       "\n",
       "    .dataframe tbody tr th {\n",
       "        vertical-align: top;\n",
       "    }\n",
       "\n",
       "    .dataframe thead th {\n",
       "        text-align: right;\n",
       "    }\n",
       "</style>\n",
       "<table border=\"1\" class=\"dataframe\">\n",
       "  <thead>\n",
       "    <tr style=\"text-align: right;\">\n",
       "      <th></th>\n",
       "      <th>foo</th>\n",
       "      <th>bar</th>\n",
       "    </tr>\n",
       "  </thead>\n",
       "  <tbody>\n",
       "    <tr>\n",
       "      <th>a</th>\n",
       "      <td>0.374540</td>\n",
       "      <td>0.950714</td>\n",
       "    </tr>\n",
       "    <tr>\n",
       "      <th>b</th>\n",
       "      <td>0.731994</td>\n",
       "      <td>0.598658</td>\n",
       "    </tr>\n",
       "    <tr>\n",
       "      <th>c</th>\n",
       "      <td>0.156019</td>\n",
       "      <td>0.155995</td>\n",
       "    </tr>\n",
       "  </tbody>\n",
       "</table>\n",
       "</div>"
      ],
      "text/plain": [
       "        foo       bar\n",
       "a  0.374540  0.950714\n",
       "b  0.731994  0.598658\n",
       "c  0.156019  0.155995"
      ]
     },
     "execution_count": 47,
     "metadata": {},
     "output_type": "execute_result"
    }
   ],
   "source": [
    "np.random.seed(42)\n",
    "np_data = np.random.rand(3,2)\n",
    "cols = [\"foo\", \"bar\"]\n",
    "ind = [\"a\", \"b\", \"c\"]\n",
    "\n",
    "pd.DataFrame(np_data, columns=cols, index= ind)"
   ]
  },
  {
   "cell_type": "code",
   "execution_count": 48,
   "metadata": {},
   "outputs": [],
   "source": [
    "np.random.seed(42)\n",
    "np_data = np.random.rand(3,2)\n",
    "cols = [\"foo\", \"bar\"]\n",
    "ind = [\"a\", \"b\", \"c\"]\n",
    "\n",
    "#enter solution\n"
   ]
  },
  {
   "cell_type": "markdown",
   "metadata": {
    "solution2": "hidden",
    "solution2_first": true
   },
   "source": [
    "4.5 Get the intersection of the follwing two indices"
   ]
  },
  {
   "cell_type": "code",
   "execution_count": 49,
   "metadata": {
    "solution2": "hidden"
   },
   "outputs": [
    {
     "data": {
      "text/plain": [
       "Int64Index([3, 5, 7], dtype='int64')"
      ]
     },
     "execution_count": 49,
     "metadata": {},
     "output_type": "execute_result"
    }
   ],
   "source": [
    "indA = pd.Index([1,3,5,7,9])\n",
    "indB = pd.Index([2,3,5,7,11])\n",
    "\n",
    "indA & indB"
   ]
  },
  {
   "cell_type": "code",
   "execution_count": 50,
   "metadata": {},
   "outputs": [],
   "source": [
    "indA = pd.Index([1,3,5,7,9])\n",
    "indB = pd.Index([2,3,5,7,11])\n",
    "\n",
    "#enter solution\n"
   ]
  },
  {
   "cell_type": "markdown",
   "metadata": {
    "solution2": "hidden",
    "solution2_first": true
   },
   "source": [
    "4.6 Get the union of **indA** and **indB**"
   ]
  },
  {
   "cell_type": "code",
   "execution_count": 51,
   "metadata": {
    "solution2": "hidden"
   },
   "outputs": [
    {
     "data": {
      "text/plain": [
       "Int64Index([1, 2, 3, 5, 7, 9, 11], dtype='int64')"
      ]
     },
     "execution_count": 51,
     "metadata": {},
     "output_type": "execute_result"
    }
   ],
   "source": [
    "indA | indB"
   ]
  },
  {
   "cell_type": "code",
   "execution_count": 52,
   "metadata": {},
   "outputs": [],
   "source": [
    "#enter solution\n"
   ]
  },
  {
   "cell_type": "markdown",
   "metadata": {
    "solution2": "hidden",
    "solution2_first": true
   },
   "source": [
    "4.7 Get the symmetric difference of **indA** and **indB**"
   ]
  },
  {
   "cell_type": "code",
   "execution_count": 53,
   "metadata": {
    "solution2": "hidden"
   },
   "outputs": [
    {
     "data": {
      "text/plain": [
       "Int64Index([1, 2, 9, 11], dtype='int64')"
      ]
     },
     "execution_count": 53,
     "metadata": {},
     "output_type": "execute_result"
    }
   ],
   "source": [
    "indA ^ indB"
   ]
  },
  {
   "cell_type": "code",
   "execution_count": 54,
   "metadata": {},
   "outputs": [],
   "source": [
    "#enter solution\n"
   ]
  },
  {
   "cell_type": "markdown",
   "metadata": {
    "solution2": "hidden",
    "solution2_first": true
   },
   "source": [
    "#### Task 5 Data Indexing and Selection \n",
    "\n",
    "5.1 Add 1.25 as index \"e\" to the Series below"
   ]
  },
  {
   "cell_type": "code",
   "execution_count": 55,
   "metadata": {
    "solution2": "hidden"
   },
   "outputs": [
    {
     "data": {
      "text/plain": [
       "a    0.25\n",
       "b    0.50\n",
       "c    0.75\n",
       "d    1.00\n",
       "e    1.25\n",
       "dtype: float64"
      ]
     },
     "execution_count": 55,
     "metadata": {},
     "output_type": "execute_result"
    }
   ],
   "source": [
    "data = pd.Series([0.25, 0.5, 0.75, 1.0], index= [\"a\", \"b\", \"c\", \"d\"])\n",
    "data[\"e\"] = 1.25\n",
    "data"
   ]
  },
  {
   "cell_type": "code",
   "execution_count": 56,
   "metadata": {},
   "outputs": [],
   "source": [
    "#enter solution\n"
   ]
  },
  {
   "cell_type": "markdown",
   "metadata": {
    "solution2": "hidden",
    "solution2_first": true
   },
   "source": [
    "5.2 Get all data between 0.3 and 0.8 from **data**"
   ]
  },
  {
   "cell_type": "code",
   "execution_count": 57,
   "metadata": {
    "solution2": "hidden"
   },
   "outputs": [
    {
     "data": {
      "text/plain": [
       "b    0.50\n",
       "c    0.75\n",
       "dtype: float64"
      ]
     },
     "execution_count": 57,
     "metadata": {},
     "output_type": "execute_result"
    }
   ],
   "source": [
    "data[(data > 0.3) & (data < 0.8)]"
   ]
  },
  {
   "cell_type": "code",
   "execution_count": 58,
   "metadata": {},
   "outputs": [],
   "source": [
    "#enter solution\n"
   ]
  },
  {
   "cell_type": "markdown",
   "metadata": {
    "solution2": "hidden",
    "solution2_first": true
   },
   "source": [
    "5.3 Get the explicit index 1 from the following data set"
   ]
  },
  {
   "cell_type": "code",
   "execution_count": 59,
   "metadata": {
    "solution2": "hidden"
   },
   "outputs": [
    {
     "name": "stdout",
     "output_type": "stream",
     "text": [
      "  First\n",
      "1     a\n",
      "2     b\n",
      "3     c\n",
      "4     d\n",
      "5     e\n"
     ]
    },
    {
     "data": {
      "text/plain": [
       "First    a\n",
       "Name: 1, dtype: object"
      ]
     },
     "execution_count": 59,
     "metadata": {},
     "output_type": "execute_result"
    }
   ],
   "source": [
    "data = pd.DataFrame([\"a\", \"b\", \"c\", \"d\", \"e\"], index= [1,2,3,4,5],columns= [\"First\"])\n",
    "print(data)\n",
    "data.loc[1]"
   ]
  },
  {
   "cell_type": "code",
   "execution_count": 60,
   "metadata": {},
   "outputs": [],
   "source": [
    "data = pd.DataFrame([\"a\", \"b\", \"c\", \"d\", \"e\"], index= [1,2,3,4,5],columns= [\"First\"])\n",
    "\n",
    "#enter solution\n"
   ]
  },
  {
   "cell_type": "markdown",
   "metadata": {
    "solution2": "hidden",
    "solution2_first": true
   },
   "source": [
    "5.4 Get the implicit index 1 from **data**"
   ]
  },
  {
   "cell_type": "code",
   "execution_count": 61,
   "metadata": {
    "solution2": "hidden"
   },
   "outputs": [
    {
     "data": {
      "text/plain": [
       "First    b\n",
       "Name: 2, dtype: object"
      ]
     },
     "execution_count": 61,
     "metadata": {},
     "output_type": "execute_result"
    }
   ],
   "source": [
    "data.iloc[1]"
   ]
  },
  {
   "cell_type": "code",
   "execution_count": 62,
   "metadata": {},
   "outputs": [],
   "source": [
    "#enter solution\n"
   ]
  },
  {
   "cell_type": "markdown",
   "metadata": {
    "solution2": "hidden",
    "solution2_first": true
   },
   "source": [
    "5.5 Add a column \"Yearly wage\" with the wages x12 for the following dataset."
   ]
  },
  {
   "cell_type": "code",
   "execution_count": 63,
   "metadata": {
    "solution2": "hidden"
   },
   "outputs": [
    {
     "name": "stdout",
     "output_type": "stream",
     "text": [
      "         Person Number  Person wage\n",
      "Person1            123        10000\n",
      "Person2            124        12000\n",
      "Person3            125         7000\n",
      "Person4            126         5000\n"
     ]
    },
    {
     "data": {
      "text/html": [
       "<div>\n",
       "<style scoped>\n",
       "    .dataframe tbody tr th:only-of-type {\n",
       "        vertical-align: middle;\n",
       "    }\n",
       "\n",
       "    .dataframe tbody tr th {\n",
       "        vertical-align: top;\n",
       "    }\n",
       "\n",
       "    .dataframe thead th {\n",
       "        text-align: right;\n",
       "    }\n",
       "</style>\n",
       "<table border=\"1\" class=\"dataframe\">\n",
       "  <thead>\n",
       "    <tr style=\"text-align: right;\">\n",
       "      <th></th>\n",
       "      <th>Person Number</th>\n",
       "      <th>Person wage</th>\n",
       "      <th>Yearly wage</th>\n",
       "    </tr>\n",
       "  </thead>\n",
       "  <tbody>\n",
       "    <tr>\n",
       "      <th>Person1</th>\n",
       "      <td>123</td>\n",
       "      <td>10000</td>\n",
       "      <td>120000</td>\n",
       "    </tr>\n",
       "    <tr>\n",
       "      <th>Person2</th>\n",
       "      <td>124</td>\n",
       "      <td>12000</td>\n",
       "      <td>144000</td>\n",
       "    </tr>\n",
       "    <tr>\n",
       "      <th>Person3</th>\n",
       "      <td>125</td>\n",
       "      <td>7000</td>\n",
       "      <td>84000</td>\n",
       "    </tr>\n",
       "    <tr>\n",
       "      <th>Person4</th>\n",
       "      <td>126</td>\n",
       "      <td>5000</td>\n",
       "      <td>60000</td>\n",
       "    </tr>\n",
       "  </tbody>\n",
       "</table>\n",
       "</div>"
      ],
      "text/plain": [
       "         Person Number  Person wage  Yearly wage\n",
       "Person1            123        10000       120000\n",
       "Person2            124        12000       144000\n",
       "Person3            125         7000        84000\n",
       "Person4            126         5000        60000"
      ]
     },
     "execution_count": 63,
     "metadata": {},
     "output_type": "execute_result"
    }
   ],
   "source": [
    "person_wage_dict = {\"Person1\": 10000, \"Person2\": 12000, \"Person3\": 7000, \"Person4\":5000}\n",
    "person_number_dict = {\"Person1\": 123, \"Person2\": 124, \"Person3\": 125, \"Person4\": 126}\n",
    "person_wage_pd = pd.Series(person_wage_dict)\n",
    "person_number_pd = pd.Series(person_number_dict)\n",
    "data = pd.DataFrame({\"Person Number\": person_number_pd,\"Person wage\": person_wage_pd})\n",
    "print(data)\n",
    "\n",
    "data[\"Yearly wage\"] = data[\"Person wage\"] * 12\n",
    "data\n"
   ]
  },
  {
   "cell_type": "code",
   "execution_count": 64,
   "metadata": {},
   "outputs": [],
   "source": [
    "person_wage_dict = {\"Person1\": 10000, \"Person2\": 12000, \"Person3\": 7000, \"Person4\":5000}\n",
    "person_number_dict = {\"Person1\": 123, \"Person2\": 124, \"Person3\": 125, \"Person4\": 126}\n",
    "person_wage_pd = pd.Series(person_wage_dict)\n",
    "person_number_pd = pd.Series(person_number_dict)\n",
    "data = pd.DataFrame({\"Person Number\": person_number_pd,\"Person wage\": person_wage_pd})\n",
    "\n",
    "#enter solution\n"
   ]
  },
  {
   "cell_type": "markdown",
   "metadata": {
    "solution2": "hidden",
    "solution2_first": true
   },
   "source": [
    "5.6 Get the values from **data** as a NumPy array"
   ]
  },
  {
   "cell_type": "code",
   "execution_count": 65,
   "metadata": {
    "solution2": "hidden"
   },
   "outputs": [
    {
     "data": {
      "text/plain": [
       "array([[  123, 10000],\n",
       "       [  124, 12000],\n",
       "       [  125,  7000],\n",
       "       [  126,  5000]], dtype=int64)"
      ]
     },
     "execution_count": 65,
     "metadata": {},
     "output_type": "execute_result"
    }
   ],
   "source": [
    "data.values"
   ]
  },
  {
   "cell_type": "code",
   "execution_count": 66,
   "metadata": {},
   "outputs": [],
   "source": [
    "#enter solution\n"
   ]
  },
  {
   "cell_type": "markdown",
   "metadata": {
    "solution2": "hidden",
    "solution2_first": true
   },
   "source": [
    "5.7 Transpose **data**"
   ]
  },
  {
   "cell_type": "code",
   "execution_count": 67,
   "metadata": {
    "solution2": "hidden"
   },
   "outputs": [
    {
     "data": {
      "text/html": [
       "<div>\n",
       "<style scoped>\n",
       "    .dataframe tbody tr th:only-of-type {\n",
       "        vertical-align: middle;\n",
       "    }\n",
       "\n",
       "    .dataframe tbody tr th {\n",
       "        vertical-align: top;\n",
       "    }\n",
       "\n",
       "    .dataframe thead th {\n",
       "        text-align: right;\n",
       "    }\n",
       "</style>\n",
       "<table border=\"1\" class=\"dataframe\">\n",
       "  <thead>\n",
       "    <tr style=\"text-align: right;\">\n",
       "      <th></th>\n",
       "      <th>Person1</th>\n",
       "      <th>Person2</th>\n",
       "      <th>Person3</th>\n",
       "      <th>Person4</th>\n",
       "    </tr>\n",
       "  </thead>\n",
       "  <tbody>\n",
       "    <tr>\n",
       "      <th>Person Number</th>\n",
       "      <td>123</td>\n",
       "      <td>124</td>\n",
       "      <td>125</td>\n",
       "      <td>126</td>\n",
       "    </tr>\n",
       "    <tr>\n",
       "      <th>Person wage</th>\n",
       "      <td>10000</td>\n",
       "      <td>12000</td>\n",
       "      <td>7000</td>\n",
       "      <td>5000</td>\n",
       "    </tr>\n",
       "  </tbody>\n",
       "</table>\n",
       "</div>"
      ],
      "text/plain": [
       "               Person1  Person2  Person3  Person4\n",
       "Person Number      123      124      125      126\n",
       "Person wage      10000    12000     7000     5000"
      ]
     },
     "execution_count": 67,
     "metadata": {},
     "output_type": "execute_result"
    }
   ],
   "source": [
    "data.T"
   ]
  },
  {
   "cell_type": "code",
   "execution_count": 68,
   "metadata": {},
   "outputs": [],
   "source": [
    "#enter solution\n"
   ]
  },
  {
   "cell_type": "markdown",
   "metadata": {
    "solution2": "hidden",
    "solution2_first": true
   },
   "source": [
    "5.8 Get the second row from **data** as a NumPy array"
   ]
  },
  {
   "cell_type": "code",
   "execution_count": 69,
   "metadata": {
    "solution2": "hidden"
   },
   "outputs": [
    {
     "data": {
      "text/plain": [
       "array([  124, 12000], dtype=int64)"
      ]
     },
     "execution_count": 69,
     "metadata": {},
     "output_type": "execute_result"
    }
   ],
   "source": [
    "data.values[1]"
   ]
  },
  {
   "cell_type": "code",
   "execution_count": 70,
   "metadata": {},
   "outputs": [],
   "source": [
    "#enter solution\n"
   ]
  },
  {
   "cell_type": "markdown",
   "metadata": {
    "solution2": "hidden",
    "solution2_first": true
   },
   "source": [
    "5.9 Get the column for ***Person wage*** from **data**"
   ]
  },
  {
   "cell_type": "code",
   "execution_count": 71,
   "metadata": {
    "solution2": "hidden"
   },
   "outputs": [
    {
     "data": {
      "text/plain": [
       "Person1    10000\n",
       "Person2    12000\n",
       "Person3     7000\n",
       "Person4     5000\n",
       "Name: Person wage, dtype: int64"
      ]
     },
     "execution_count": 71,
     "metadata": {},
     "output_type": "execute_result"
    }
   ],
   "source": [
    "data[\"Person wage\"]"
   ]
  },
  {
   "cell_type": "code",
   "execution_count": 72,
   "metadata": {},
   "outputs": [],
   "source": [
    "#enter solution\n"
   ]
  },
  {
   "cell_type": "markdown",
   "metadata": {
    "solution2": "hidden",
    "solution2_first": true
   },
   "source": [
    "5.10 Get the implicit indices for the first three rows and first two columns from **data**"
   ]
  },
  {
   "cell_type": "code",
   "execution_count": 73,
   "metadata": {
    "solution2": "hidden"
   },
   "outputs": [
    {
     "data": {
      "text/html": [
       "<div>\n",
       "<style scoped>\n",
       "    .dataframe tbody tr th:only-of-type {\n",
       "        vertical-align: middle;\n",
       "    }\n",
       "\n",
       "    .dataframe tbody tr th {\n",
       "        vertical-align: top;\n",
       "    }\n",
       "\n",
       "    .dataframe thead th {\n",
       "        text-align: right;\n",
       "    }\n",
       "</style>\n",
       "<table border=\"1\" class=\"dataframe\">\n",
       "  <thead>\n",
       "    <tr style=\"text-align: right;\">\n",
       "      <th></th>\n",
       "      <th>Person Number</th>\n",
       "      <th>Person wage</th>\n",
       "    </tr>\n",
       "  </thead>\n",
       "  <tbody>\n",
       "    <tr>\n",
       "      <th>Person1</th>\n",
       "      <td>123</td>\n",
       "      <td>10000</td>\n",
       "    </tr>\n",
       "    <tr>\n",
       "      <th>Person2</th>\n",
       "      <td>124</td>\n",
       "      <td>12000</td>\n",
       "    </tr>\n",
       "    <tr>\n",
       "      <th>Person3</th>\n",
       "      <td>125</td>\n",
       "      <td>7000</td>\n",
       "    </tr>\n",
       "  </tbody>\n",
       "</table>\n",
       "</div>"
      ],
      "text/plain": [
       "         Person Number  Person wage\n",
       "Person1            123        10000\n",
       "Person2            124        12000\n",
       "Person3            125         7000"
      ]
     },
     "execution_count": 73,
     "metadata": {},
     "output_type": "execute_result"
    }
   ],
   "source": [
    "data.iloc[:3, :2]"
   ]
  },
  {
   "cell_type": "code",
   "execution_count": 74,
   "metadata": {},
   "outputs": [],
   "source": [
    "#enter solution\n"
   ]
  },
  {
   "cell_type": "markdown",
   "metadata": {
    "solution2": "hidden",
    "solution2_first": true
   },
   "source": [
    "5.11 Get the data for Person1 to Person3 and the columns Person number and Person wage from **data**"
   ]
  },
  {
   "cell_type": "code",
   "execution_count": 75,
   "metadata": {
    "solution2": "hidden"
   },
   "outputs": [
    {
     "data": {
      "text/html": [
       "<div>\n",
       "<style scoped>\n",
       "    .dataframe tbody tr th:only-of-type {\n",
       "        vertical-align: middle;\n",
       "    }\n",
       "\n",
       "    .dataframe tbody tr th {\n",
       "        vertical-align: top;\n",
       "    }\n",
       "\n",
       "    .dataframe thead th {\n",
       "        text-align: right;\n",
       "    }\n",
       "</style>\n",
       "<table border=\"1\" class=\"dataframe\">\n",
       "  <thead>\n",
       "    <tr style=\"text-align: right;\">\n",
       "      <th></th>\n",
       "      <th>Person Number</th>\n",
       "      <th>Person wage</th>\n",
       "    </tr>\n",
       "  </thead>\n",
       "  <tbody>\n",
       "    <tr>\n",
       "      <th>Person1</th>\n",
       "      <td>123</td>\n",
       "      <td>10000</td>\n",
       "    </tr>\n",
       "    <tr>\n",
       "      <th>Person2</th>\n",
       "      <td>124</td>\n",
       "      <td>12000</td>\n",
       "    </tr>\n",
       "    <tr>\n",
       "      <th>Person3</th>\n",
       "      <td>125</td>\n",
       "      <td>7000</td>\n",
       "    </tr>\n",
       "  </tbody>\n",
       "</table>\n",
       "</div>"
      ],
      "text/plain": [
       "         Person Number  Person wage\n",
       "Person1            123        10000\n",
       "Person2            124        12000\n",
       "Person3            125         7000"
      ]
     },
     "execution_count": 75,
     "metadata": {},
     "output_type": "execute_result"
    }
   ],
   "source": [
    "data.loc[:\"Person3\", : \"Person wage\"]"
   ]
  },
  {
   "cell_type": "code",
   "execution_count": 76,
   "metadata": {},
   "outputs": [],
   "source": [
    "#enter solution\n"
   ]
  },
  {
   "cell_type": "markdown",
   "metadata": {
    "solution2": "hidden",
    "solution2_first": true
   },
   "source": [
    "#### Task 6 Operations in Pandas\n",
    "\n",
    "6.1 Add the following Series together and fill the missing values in A or B with 0"
   ]
  },
  {
   "cell_type": "code",
   "execution_count": 79,
   "metadata": {
    "solution2": "hidden"
   },
   "outputs": [
    {
     "data": {
      "text/plain": [
       "0    2.0\n",
       "1    5.0\n",
       "2    9.0\n",
       "3    5.0\n",
       "dtype: float64"
      ]
     },
     "execution_count": 79,
     "metadata": {},
     "output_type": "execute_result"
    }
   ],
   "source": [
    "A = pd.Series([2,4,6], index=[0,1,2])\n",
    "B = pd.Series([1,3,5], index=[1,2,3])\n",
    "\n",
    "A.add(B, fill_value= 0)"
   ]
  },
  {
   "cell_type": "code",
   "execution_count": 80,
   "metadata": {},
   "outputs": [],
   "source": [
    "#enter solution\n"
   ]
  },
  {
   "cell_type": "markdown",
   "metadata": {
    "solution2": "hidden",
    "solution2_first": true
   },
   "source": [
    "6.2 Add the following Series together and replace missing values in **A** with the mean of **A.stack()**"
   ]
  },
  {
   "cell_type": "code",
   "execution_count": 102,
   "metadata": {
    "solution2": "hidden"
   },
   "outputs": [
    {
     "name": "stdout",
     "output_type": "stream",
     "text": [
      "    A   B\n",
      "0  14   8\n",
      "1  19  16\n",
      "   B  A  C\n",
      "0  0  9  3\n",
      "1  6  1  2\n",
      "2  0  4  0\n",
      "       A      B      C\n",
      "0  23.00   8.00  17.25\n",
      "1  20.00  22.00  16.25\n",
      "2  18.25  14.25  14.25\n"
     ]
    }
   ],
   "source": [
    "A = pd.DataFrame(np.random.randint(0,20, (2,2)),columns=list(\"AB\"))\n",
    "B = pd.DataFrame(np.random.randint(0,10, (3,3)),columns=list(\"BAC\"))\n",
    "print(A)\n",
    "print(B)\n",
    "fill = A.stack().mean()\n",
    "print(A.add(B, fill_value=fill))"
   ]
  },
  {
   "cell_type": "code",
   "execution_count": null,
   "metadata": {},
   "outputs": [],
   "source": [
    "#enter solution\n"
   ]
  },
  {
   "cell_type": "markdown",
   "metadata": {
    "solution2": "hidden",
    "solution2_first": true
   },
   "source": [
    "6.3 Substract **B** from **A** (use Pandas operator and Pandas method)"
   ]
  },
  {
   "cell_type": "code",
   "execution_count": 107,
   "metadata": {
    "solution2": "hidden"
   },
   "outputs": [
    {
     "data": {
      "text/html": [
       "<div>\n",
       "<style scoped>\n",
       "    .dataframe tbody tr th:only-of-type {\n",
       "        vertical-align: middle;\n",
       "    }\n",
       "\n",
       "    .dataframe tbody tr th {\n",
       "        vertical-align: top;\n",
       "    }\n",
       "\n",
       "    .dataframe thead th {\n",
       "        text-align: right;\n",
       "    }\n",
       "</style>\n",
       "<table border=\"1\" class=\"dataframe\">\n",
       "  <thead>\n",
       "    <tr style=\"text-align: right;\">\n",
       "      <th></th>\n",
       "      <th>A</th>\n",
       "      <th>B</th>\n",
       "      <th>C</th>\n",
       "    </tr>\n",
       "  </thead>\n",
       "  <tbody>\n",
       "    <tr>\n",
       "      <th>0</th>\n",
       "      <td>5.0</td>\n",
       "      <td>8.0</td>\n",
       "      <td>NaN</td>\n",
       "    </tr>\n",
       "    <tr>\n",
       "      <th>1</th>\n",
       "      <td>18.0</td>\n",
       "      <td>10.0</td>\n",
       "      <td>NaN</td>\n",
       "    </tr>\n",
       "    <tr>\n",
       "      <th>2</th>\n",
       "      <td>NaN</td>\n",
       "      <td>NaN</td>\n",
       "      <td>NaN</td>\n",
       "    </tr>\n",
       "  </tbody>\n",
       "</table>\n",
       "</div>"
      ],
      "text/plain": [
       "      A     B   C\n",
       "0   5.0   8.0 NaN\n",
       "1  18.0  10.0 NaN\n",
       "2   NaN   NaN NaN"
      ]
     },
     "execution_count": 107,
     "metadata": {},
     "output_type": "execute_result"
    }
   ],
   "source": [
    "A - B\n",
    "A.sub(B)"
   ]
  },
  {
   "cell_type": "code",
   "execution_count": 108,
   "metadata": {},
   "outputs": [],
   "source": [
    "#enter solution\n"
   ]
  },
  {
   "cell_type": "markdown",
   "metadata": {
    "solution2": "hidden",
    "solution2_first": true
   },
   "source": [
    "6.4 Multiply **A** with **B** (use Pandas operator and Pandas method)"
   ]
  },
  {
   "cell_type": "code",
   "execution_count": 109,
   "metadata": {
    "solution2": "hidden"
   },
   "outputs": [
    {
     "data": {
      "text/html": [
       "<div>\n",
       "<style scoped>\n",
       "    .dataframe tbody tr th:only-of-type {\n",
       "        vertical-align: middle;\n",
       "    }\n",
       "\n",
       "    .dataframe tbody tr th {\n",
       "        vertical-align: top;\n",
       "    }\n",
       "\n",
       "    .dataframe thead th {\n",
       "        text-align: right;\n",
       "    }\n",
       "</style>\n",
       "<table border=\"1\" class=\"dataframe\">\n",
       "  <thead>\n",
       "    <tr style=\"text-align: right;\">\n",
       "      <th></th>\n",
       "      <th>A</th>\n",
       "      <th>B</th>\n",
       "      <th>C</th>\n",
       "    </tr>\n",
       "  </thead>\n",
       "  <tbody>\n",
       "    <tr>\n",
       "      <th>0</th>\n",
       "      <td>126.0</td>\n",
       "      <td>0.0</td>\n",
       "      <td>NaN</td>\n",
       "    </tr>\n",
       "    <tr>\n",
       "      <th>1</th>\n",
       "      <td>19.0</td>\n",
       "      <td>96.0</td>\n",
       "      <td>NaN</td>\n",
       "    </tr>\n",
       "    <tr>\n",
       "      <th>2</th>\n",
       "      <td>NaN</td>\n",
       "      <td>NaN</td>\n",
       "      <td>NaN</td>\n",
       "    </tr>\n",
       "  </tbody>\n",
       "</table>\n",
       "</div>"
      ],
      "text/plain": [
       "       A     B   C\n",
       "0  126.0   0.0 NaN\n",
       "1   19.0  96.0 NaN\n",
       "2    NaN   NaN NaN"
      ]
     },
     "execution_count": 109,
     "metadata": {},
     "output_type": "execute_result"
    }
   ],
   "source": [
    "A * B\n",
    "A.mul(B)"
   ]
  },
  {
   "cell_type": "code",
   "execution_count": 110,
   "metadata": {},
   "outputs": [],
   "source": [
    "#enter solution\n"
   ]
  },
  {
   "cell_type": "markdown",
   "metadata": {
    "solution2": "hidden",
    "solution2_first": true
   },
   "source": [
    "6.5 Divide **A** by **B** (use Pandas operator and Pandas method)"
   ]
  },
  {
   "cell_type": "code",
   "execution_count": 116,
   "metadata": {
    "solution2": "hidden"
   },
   "outputs": [
    {
     "data": {
      "text/html": [
       "<div>\n",
       "<style scoped>\n",
       "    .dataframe tbody tr th:only-of-type {\n",
       "        vertical-align: middle;\n",
       "    }\n",
       "\n",
       "    .dataframe tbody tr th {\n",
       "        vertical-align: top;\n",
       "    }\n",
       "\n",
       "    .dataframe thead th {\n",
       "        text-align: right;\n",
       "    }\n",
       "</style>\n",
       "<table border=\"1\" class=\"dataframe\">\n",
       "  <thead>\n",
       "    <tr style=\"text-align: right;\">\n",
       "      <th></th>\n",
       "      <th>A</th>\n",
       "      <th>B</th>\n",
       "      <th>C</th>\n",
       "    </tr>\n",
       "  </thead>\n",
       "  <tbody>\n",
       "    <tr>\n",
       "      <th>0</th>\n",
       "      <td>1.555556</td>\n",
       "      <td>inf</td>\n",
       "      <td>NaN</td>\n",
       "    </tr>\n",
       "    <tr>\n",
       "      <th>1</th>\n",
       "      <td>19.000000</td>\n",
       "      <td>2.666667</td>\n",
       "      <td>NaN</td>\n",
       "    </tr>\n",
       "    <tr>\n",
       "      <th>2</th>\n",
       "      <td>NaN</td>\n",
       "      <td>NaN</td>\n",
       "      <td>NaN</td>\n",
       "    </tr>\n",
       "  </tbody>\n",
       "</table>\n",
       "</div>"
      ],
      "text/plain": [
       "           A         B   C\n",
       "0   1.555556       inf NaN\n",
       "1  19.000000  2.666667 NaN\n",
       "2        NaN       NaN NaN"
      ]
     },
     "execution_count": 116,
     "metadata": {},
     "output_type": "execute_result"
    }
   ],
   "source": [
    "A / B\n",
    "A.div(B)"
   ]
  },
  {
   "cell_type": "code",
   "execution_count": 117,
   "metadata": {},
   "outputs": [],
   "source": [
    "#enter solution\n"
   ]
  },
  {
   "cell_type": "markdown",
   "metadata": {
    "solution2": "hidden",
    "solution2_first": true
   },
   "source": [
    "6.6 Get the modulus of **A** divided by **B** (use Pandas operator and Pandas method)"
   ]
  },
  {
   "cell_type": "code",
   "execution_count": 119,
   "metadata": {
    "solution2": "hidden"
   },
   "outputs": [
    {
     "data": {
      "text/html": [
       "<div>\n",
       "<style scoped>\n",
       "    .dataframe tbody tr th:only-of-type {\n",
       "        vertical-align: middle;\n",
       "    }\n",
       "\n",
       "    .dataframe tbody tr th {\n",
       "        vertical-align: top;\n",
       "    }\n",
       "\n",
       "    .dataframe thead th {\n",
       "        text-align: right;\n",
       "    }\n",
       "</style>\n",
       "<table border=\"1\" class=\"dataframe\">\n",
       "  <thead>\n",
       "    <tr style=\"text-align: right;\">\n",
       "      <th></th>\n",
       "      <th>A</th>\n",
       "      <th>B</th>\n",
       "      <th>C</th>\n",
       "    </tr>\n",
       "  </thead>\n",
       "  <tbody>\n",
       "    <tr>\n",
       "      <th>0</th>\n",
       "      <td>5.0</td>\n",
       "      <td>NaN</td>\n",
       "      <td>NaN</td>\n",
       "    </tr>\n",
       "    <tr>\n",
       "      <th>1</th>\n",
       "      <td>0.0</td>\n",
       "      <td>4.0</td>\n",
       "      <td>NaN</td>\n",
       "    </tr>\n",
       "    <tr>\n",
       "      <th>2</th>\n",
       "      <td>NaN</td>\n",
       "      <td>NaN</td>\n",
       "      <td>NaN</td>\n",
       "    </tr>\n",
       "  </tbody>\n",
       "</table>\n",
       "</div>"
      ],
      "text/plain": [
       "     A    B   C\n",
       "0  5.0  NaN NaN\n",
       "1  0.0  4.0 NaN\n",
       "2  NaN  NaN NaN"
      ]
     },
     "execution_count": 119,
     "metadata": {},
     "output_type": "execute_result"
    }
   ],
   "source": [
    "A % B\n",
    "A.mod(B)"
   ]
  },
  {
   "cell_type": "code",
   "execution_count": 120,
   "metadata": {},
   "outputs": [],
   "source": [
    "#enter solution\n"
   ]
  },
  {
   "cell_type": "markdown",
   "metadata": {
    "solution2": "hidden",
    "solution2_first": true
   },
   "source": [
    "6.7 Get **A** to the power of **B** (use Pandas operator and Pandas method)"
   ]
  },
  {
   "cell_type": "code",
   "execution_count": 123,
   "metadata": {
    "solution2": "hidden"
   },
   "outputs": [
    {
     "data": {
      "text/html": [
       "<div>\n",
       "<style scoped>\n",
       "    .dataframe tbody tr th:only-of-type {\n",
       "        vertical-align: middle;\n",
       "    }\n",
       "\n",
       "    .dataframe tbody tr th {\n",
       "        vertical-align: top;\n",
       "    }\n",
       "\n",
       "    .dataframe thead th {\n",
       "        text-align: right;\n",
       "    }\n",
       "</style>\n",
       "<table border=\"1\" class=\"dataframe\">\n",
       "  <thead>\n",
       "    <tr style=\"text-align: right;\">\n",
       "      <th></th>\n",
       "      <th>A</th>\n",
       "      <th>B</th>\n",
       "      <th>C</th>\n",
       "    </tr>\n",
       "  </thead>\n",
       "  <tbody>\n",
       "    <tr>\n",
       "      <th>0</th>\n",
       "      <td>2.066105e+10</td>\n",
       "      <td>1.0</td>\n",
       "      <td>NaN</td>\n",
       "    </tr>\n",
       "    <tr>\n",
       "      <th>1</th>\n",
       "      <td>1.900000e+01</td>\n",
       "      <td>16777216.0</td>\n",
       "      <td>NaN</td>\n",
       "    </tr>\n",
       "    <tr>\n",
       "      <th>2</th>\n",
       "      <td>NaN</td>\n",
       "      <td>1.0</td>\n",
       "      <td>1.0</td>\n",
       "    </tr>\n",
       "  </tbody>\n",
       "</table>\n",
       "</div>"
      ],
      "text/plain": [
       "              A           B    C\n",
       "0  2.066105e+10         1.0  NaN\n",
       "1  1.900000e+01  16777216.0  NaN\n",
       "2           NaN         1.0  1.0"
      ]
     },
     "execution_count": 123,
     "metadata": {},
     "output_type": "execute_result"
    }
   ],
   "source": [
    "A ** B\n",
    "A.pow(B)"
   ]
  },
  {
   "cell_type": "code",
   "execution_count": 124,
   "metadata": {},
   "outputs": [],
   "source": [
    "#enter solution\n"
   ]
  },
  {
   "cell_type": "markdown",
   "metadata": {
    "solution2": "hidden",
    "solution2_first": true
   },
   "source": [
    "#### Task 7 Handling missing data\n",
    "\n",
    "7.1 Get the sum of the following array"
   ]
  },
  {
   "cell_type": "code",
   "execution_count": 128,
   "metadata": {
    "solution2": "hidden"
   },
   "outputs": [
    {
     "data": {
      "text/plain": [
       "8.0"
      ]
     },
     "execution_count": 128,
     "metadata": {},
     "output_type": "execute_result"
    }
   ],
   "source": [
    "data = np.array([1, np.nan, 3, 4])\n",
    "\n",
    "np.nansum(data)"
   ]
  },
  {
   "cell_type": "code",
   "execution_count": 129,
   "metadata": {},
   "outputs": [],
   "source": [
    "data = np.array([1, np.nan, 3, 4])\n",
    "\n",
    "#enter solution\n"
   ]
  },
  {
   "cell_type": "markdown",
   "metadata": {
    "solution2": "hidden",
    "solution2_first": true
   },
   "source": [
    "7.2 Get the minimum from **data**"
   ]
  },
  {
   "cell_type": "code",
   "execution_count": 130,
   "metadata": {
    "solution2": "hidden"
   },
   "outputs": [
    {
     "data": {
      "text/plain": [
       "1.0"
      ]
     },
     "execution_count": 130,
     "metadata": {},
     "output_type": "execute_result"
    }
   ],
   "source": [
    "np.nanmin(data)"
   ]
  },
  {
   "cell_type": "code",
   "execution_count": 131,
   "metadata": {},
   "outputs": [],
   "source": [
    "#enter solution\n"
   ]
  },
  {
   "cell_type": "markdown",
   "metadata": {
    "solution2": "hidden",
    "solution2_first": true
   },
   "source": [
    "7.3 Get the maximum from **data**"
   ]
  },
  {
   "cell_type": "code",
   "execution_count": 132,
   "metadata": {
    "solution2": "hidden"
   },
   "outputs": [
    {
     "data": {
      "text/plain": [
       "4.0"
      ]
     },
     "execution_count": 132,
     "metadata": {},
     "output_type": "execute_result"
    }
   ],
   "source": [
    "np.nanmax(data)"
   ]
  },
  {
   "cell_type": "code",
   "execution_count": 133,
   "metadata": {},
   "outputs": [],
   "source": [
    "#enter solution\n"
   ]
  },
  {
   "cell_type": "markdown",
   "metadata": {
    "solution2": "hidden",
    "solution2_first": true
   },
   "source": [
    "7.4 Check which elements are Null values in the following Series"
   ]
  },
  {
   "cell_type": "code",
   "execution_count": 134,
   "metadata": {
    "solution2": "hidden"
   },
   "outputs": [
    {
     "data": {
      "text/plain": [
       "0    False\n",
       "1     True\n",
       "2    False\n",
       "3     True\n",
       "dtype: bool"
      ]
     },
     "execution_count": 134,
     "metadata": {},
     "output_type": "execute_result"
    }
   ],
   "source": [
    "data = pd.Series([1, np.nan, \"hello\", None])\n",
    "\n",
    "data.isnull()"
   ]
  },
  {
   "cell_type": "code",
   "execution_count": 135,
   "metadata": {},
   "outputs": [],
   "source": [
    "#enter solution\n"
   ]
  },
  {
   "cell_type": "markdown",
   "metadata": {
    "solution2": "hidden",
    "solution2_first": true
   },
   "source": [
    "7.5 Get the elements in a new Series whithout Null values"
   ]
  },
  {
   "cell_type": "code",
   "execution_count": 142,
   "metadata": {
    "solution2": "hidden"
   },
   "outputs": [
    {
     "data": {
      "text/plain": [
       "0        1\n",
       "2    hello\n",
       "dtype: object"
      ]
     },
     "execution_count": 142,
     "metadata": {},
     "output_type": "execute_result"
    }
   ],
   "source": [
    "data[data.isnull() == False]\n",
    "#or\n",
    "data[data.notnull()]\n",
    "#or\n",
    "data.dropna()"
   ]
  },
  {
   "cell_type": "code",
   "execution_count": 139,
   "metadata": {},
   "outputs": [],
   "source": [
    "#enter solution\n"
   ]
  },
  {
   "cell_type": "markdown",
   "metadata": {
    "solution2": "hidden",
    "solution2_first": true
   },
   "source": [
    "7.6 Drop the elements that are Null values from the following DataFrame"
   ]
  },
  {
   "cell_type": "code",
   "execution_count": 144,
   "metadata": {
    "solution2": "hidden"
   },
   "outputs": [
    {
     "name": "stdout",
     "output_type": "stream",
     "text": [
      "     0    1  2\n",
      "0  1.0  NaN  2\n",
      "1  2.0  3.0  5\n",
      "2  NaN  4.0  6\n"
     ]
    },
    {
     "data": {
      "text/html": [
       "<div>\n",
       "<style scoped>\n",
       "    .dataframe tbody tr th:only-of-type {\n",
       "        vertical-align: middle;\n",
       "    }\n",
       "\n",
       "    .dataframe tbody tr th {\n",
       "        vertical-align: top;\n",
       "    }\n",
       "\n",
       "    .dataframe thead th {\n",
       "        text-align: right;\n",
       "    }\n",
       "</style>\n",
       "<table border=\"1\" class=\"dataframe\">\n",
       "  <thead>\n",
       "    <tr style=\"text-align: right;\">\n",
       "      <th></th>\n",
       "      <th>0</th>\n",
       "      <th>1</th>\n",
       "      <th>2</th>\n",
       "    </tr>\n",
       "  </thead>\n",
       "  <tbody>\n",
       "    <tr>\n",
       "      <th>1</th>\n",
       "      <td>2.0</td>\n",
       "      <td>3.0</td>\n",
       "      <td>5</td>\n",
       "    </tr>\n",
       "  </tbody>\n",
       "</table>\n",
       "</div>"
      ],
      "text/plain": [
       "     0    1  2\n",
       "1  2.0  3.0  5"
      ]
     },
     "execution_count": 144,
     "metadata": {},
     "output_type": "execute_result"
    }
   ],
   "source": [
    "data = pd.DataFrame([[1, np.nan, 2 ],\n",
    "                     [2, 3 ,5 ],\n",
    "                     [np.nan, 4, 6 ]])\n",
    "print(data)\n",
    "data.dropna()"
   ]
  },
  {
   "cell_type": "code",
   "execution_count": 145,
   "metadata": {},
   "outputs": [],
   "source": [
    "#enter solution\n"
   ]
  },
  {
   "cell_type": "markdown",
   "metadata": {
    "solution2": "hidden",
    "solution2_first": true
   },
   "source": [
    "7.7 Drop the columns with Null value elements from **data**"
   ]
  },
  {
   "cell_type": "code",
   "execution_count": 146,
   "metadata": {
    "solution2": "hidden"
   },
   "outputs": [
    {
     "data": {
      "text/html": [
       "<div>\n",
       "<style scoped>\n",
       "    .dataframe tbody tr th:only-of-type {\n",
       "        vertical-align: middle;\n",
       "    }\n",
       "\n",
       "    .dataframe tbody tr th {\n",
       "        vertical-align: top;\n",
       "    }\n",
       "\n",
       "    .dataframe thead th {\n",
       "        text-align: right;\n",
       "    }\n",
       "</style>\n",
       "<table border=\"1\" class=\"dataframe\">\n",
       "  <thead>\n",
       "    <tr style=\"text-align: right;\">\n",
       "      <th></th>\n",
       "      <th>2</th>\n",
       "    </tr>\n",
       "  </thead>\n",
       "  <tbody>\n",
       "    <tr>\n",
       "      <th>0</th>\n",
       "      <td>2</td>\n",
       "    </tr>\n",
       "    <tr>\n",
       "      <th>1</th>\n",
       "      <td>5</td>\n",
       "    </tr>\n",
       "    <tr>\n",
       "      <th>2</th>\n",
       "      <td>6</td>\n",
       "    </tr>\n",
       "  </tbody>\n",
       "</table>\n",
       "</div>"
      ],
      "text/plain": [
       "   2\n",
       "0  2\n",
       "1  5\n",
       "2  6"
      ]
     },
     "execution_count": 146,
     "metadata": {},
     "output_type": "execute_result"
    }
   ],
   "source": [
    "data.dropna(axis= \"columns\")"
   ]
  },
  {
   "cell_type": "code",
   "execution_count": 147,
   "metadata": {},
   "outputs": [],
   "source": [
    "#enter solution\n"
   ]
  },
  {
   "cell_type": "markdown",
   "metadata": {
    "solution2": "hidden",
    "solution2_first": true
   },
   "source": [
    "7.8 Add a column with Null value to **data**"
   ]
  },
  {
   "cell_type": "code",
   "execution_count": 149,
   "metadata": {
    "solution2": "hidden"
   },
   "outputs": [
    {
     "data": {
      "text/html": [
       "<div>\n",
       "<style scoped>\n",
       "    .dataframe tbody tr th:only-of-type {\n",
       "        vertical-align: middle;\n",
       "    }\n",
       "\n",
       "    .dataframe tbody tr th {\n",
       "        vertical-align: top;\n",
       "    }\n",
       "\n",
       "    .dataframe thead th {\n",
       "        text-align: right;\n",
       "    }\n",
       "</style>\n",
       "<table border=\"1\" class=\"dataframe\">\n",
       "  <thead>\n",
       "    <tr style=\"text-align: right;\">\n",
       "      <th></th>\n",
       "      <th>0</th>\n",
       "      <th>1</th>\n",
       "      <th>2</th>\n",
       "      <th>3</th>\n",
       "    </tr>\n",
       "  </thead>\n",
       "  <tbody>\n",
       "    <tr>\n",
       "      <th>0</th>\n",
       "      <td>1.0</td>\n",
       "      <td>NaN</td>\n",
       "      <td>2</td>\n",
       "      <td>NaN</td>\n",
       "    </tr>\n",
       "    <tr>\n",
       "      <th>1</th>\n",
       "      <td>2.0</td>\n",
       "      <td>3.0</td>\n",
       "      <td>5</td>\n",
       "      <td>NaN</td>\n",
       "    </tr>\n",
       "    <tr>\n",
       "      <th>2</th>\n",
       "      <td>NaN</td>\n",
       "      <td>4.0</td>\n",
       "      <td>6</td>\n",
       "      <td>NaN</td>\n",
       "    </tr>\n",
       "  </tbody>\n",
       "</table>\n",
       "</div>"
      ],
      "text/plain": [
       "     0    1  2   3\n",
       "0  1.0  NaN  2 NaN\n",
       "1  2.0  3.0  5 NaN\n",
       "2  NaN  4.0  6 NaN"
      ]
     },
     "execution_count": 149,
     "metadata": {},
     "output_type": "execute_result"
    }
   ],
   "source": [
    "data[3] = np.nan\n",
    "data"
   ]
  },
  {
   "cell_type": "code",
   "execution_count": 150,
   "metadata": {},
   "outputs": [],
   "source": [
    "#enter solution\n"
   ]
  },
  {
   "cell_type": "markdown",
   "metadata": {
    "solution2": "hidden",
    "solution2_first": true
   },
   "source": [
    "7.9 Drop only the columns where all elements are Null value from **data**"
   ]
  },
  {
   "cell_type": "code",
   "execution_count": 151,
   "metadata": {
    "solution2": "hidden"
   },
   "outputs": [
    {
     "data": {
      "text/html": [
       "<div>\n",
       "<style scoped>\n",
       "    .dataframe tbody tr th:only-of-type {\n",
       "        vertical-align: middle;\n",
       "    }\n",
       "\n",
       "    .dataframe tbody tr th {\n",
       "        vertical-align: top;\n",
       "    }\n",
       "\n",
       "    .dataframe thead th {\n",
       "        text-align: right;\n",
       "    }\n",
       "</style>\n",
       "<table border=\"1\" class=\"dataframe\">\n",
       "  <thead>\n",
       "    <tr style=\"text-align: right;\">\n",
       "      <th></th>\n",
       "      <th>0</th>\n",
       "      <th>1</th>\n",
       "      <th>2</th>\n",
       "    </tr>\n",
       "  </thead>\n",
       "  <tbody>\n",
       "    <tr>\n",
       "      <th>0</th>\n",
       "      <td>1.0</td>\n",
       "      <td>NaN</td>\n",
       "      <td>2</td>\n",
       "    </tr>\n",
       "    <tr>\n",
       "      <th>1</th>\n",
       "      <td>2.0</td>\n",
       "      <td>3.0</td>\n",
       "      <td>5</td>\n",
       "    </tr>\n",
       "    <tr>\n",
       "      <th>2</th>\n",
       "      <td>NaN</td>\n",
       "      <td>4.0</td>\n",
       "      <td>6</td>\n",
       "    </tr>\n",
       "  </tbody>\n",
       "</table>\n",
       "</div>"
      ],
      "text/plain": [
       "     0    1  2\n",
       "0  1.0  NaN  2\n",
       "1  2.0  3.0  5\n",
       "2  NaN  4.0  6"
      ]
     },
     "execution_count": 151,
     "metadata": {},
     "output_type": "execute_result"
    }
   ],
   "source": [
    "data.dropna(axis= \"columns\", how= \"all\")"
   ]
  },
  {
   "cell_type": "code",
   "execution_count": 152,
   "metadata": {},
   "outputs": [],
   "source": [
    "#enter solution\n"
   ]
  },
  {
   "cell_type": "markdown",
   "metadata": {
    "solution2": "hidden",
    "solution2_first": true
   },
   "source": [
    "7.10 Fill the following Null values with zeros"
   ]
  },
  {
   "cell_type": "code",
   "execution_count": 157,
   "metadata": {
    "solution2": "hidden"
   },
   "outputs": [
    {
     "name": "stdout",
     "output_type": "stream",
     "text": [
      "a    1.0\n",
      "b    NaN\n",
      "c    2.0\n",
      "d    NaN\n",
      "e    3.0\n",
      "dtype: float64\n"
     ]
    },
    {
     "data": {
      "text/plain": [
       "a    1.0\n",
       "b    0.0\n",
       "c    2.0\n",
       "d    0.0\n",
       "e    3.0\n",
       "dtype: float64"
      ]
     },
     "execution_count": 157,
     "metadata": {},
     "output_type": "execute_result"
    }
   ],
   "source": [
    "data = pd.Series([1, np.nan, 2, None, 3], index= list(\"abcde\"))\n",
    "print(data)\n",
    "data.fillna(0)"
   ]
  },
  {
   "cell_type": "code",
   "execution_count": 158,
   "metadata": {},
   "outputs": [],
   "source": [
    "#enter solution\n"
   ]
  },
  {
   "cell_type": "markdown",
   "metadata": {
    "solution2": "hidden",
    "solution2_first": true
   },
   "source": [
    "7.11 Forward-fill the missing data with the previous value"
   ]
  },
  {
   "cell_type": "code",
   "execution_count": 159,
   "metadata": {
    "solution2": "hidden"
   },
   "outputs": [
    {
     "data": {
      "text/plain": [
       "a    1.0\n",
       "b    1.0\n",
       "c    2.0\n",
       "d    2.0\n",
       "e    3.0\n",
       "dtype: float64"
      ]
     },
     "execution_count": 159,
     "metadata": {},
     "output_type": "execute_result"
    }
   ],
   "source": [
    "data.fillna(method= \"ffill\")"
   ]
  },
  {
   "cell_type": "code",
   "execution_count": 160,
   "metadata": {},
   "outputs": [],
   "source": [
    "#enter solution\n"
   ]
  },
  {
   "cell_type": "markdown",
   "metadata": {
    "solution2": "hidden",
    "solution2_first": true
   },
   "source": [
    "7.12 Back-fill the missing data with the next value backwards"
   ]
  },
  {
   "cell_type": "code",
   "execution_count": 163,
   "metadata": {
    "solution2": "hidden"
   },
   "outputs": [
    {
     "data": {
      "text/plain": [
       "a    1.0\n",
       "b    2.0\n",
       "c    2.0\n",
       "d    3.0\n",
       "e    3.0\n",
       "dtype: float64"
      ]
     },
     "execution_count": 163,
     "metadata": {},
     "output_type": "execute_result"
    }
   ],
   "source": [
    "data.fillna(method= \"bfill\")"
   ]
  },
  {
   "cell_type": "code",
   "execution_count": null,
   "metadata": {},
   "outputs": [],
   "source": [
    "#enter solution\n"
   ]
  },
  {
   "cell_type": "markdown",
   "metadata": {
    "solution2": "hidden",
    "solution2_first": true
   },
   "source": [
    "#### Task 8 Hierachical Indexing\n",
    "\n",
    "8.1  Set a multi-index with the following list of tuples"
   ]
  },
  {
   "cell_type": "code",
   "execution_count": 166,
   "metadata": {
    "solution2": "hidden"
   },
   "outputs": [
    {
     "name": "stdout",
     "output_type": "stream",
     "text": [
      "MultiIndex([('California', 2000),\n",
      "            ('California', 2010),\n",
      "            (  'New York', 2000),\n",
      "            (  'New York', 2010),\n",
      "            (     'Texas', 2000),\n",
      "            (     'Texas', 2010)],\n",
      "           )\n"
     ]
    }
   ],
   "source": [
    "index = [(\"California\", 2000), (\"California\", 2010), (\"New York\", 2000), \n",
    "         (\"New York\", 2010), (\"Texas\", 2000), (\"Texas\", 2010)]\n",
    "\n",
    "index = pd.MultiIndex.from_tuples(index)\n",
    "print(index)"
   ]
  },
  {
   "cell_type": "code",
   "execution_count": null,
   "metadata": {},
   "outputs": [],
   "source": [
    "#enter solution\n"
   ]
  },
  {
   "cell_type": "markdown",
   "metadata": {
    "solution2": "hidden",
    "solution2_first": true
   },
   "source": [
    "8.2 Create a Series with the following populations and multi-index **index**"
   ]
  },
  {
   "cell_type": "code",
   "execution_count": 169,
   "metadata": {
    "solution2": "hidden"
   },
   "outputs": [
    {
     "data": {
      "text/plain": [
       "California  2000    33871648\n",
       "            2010    37253956\n",
       "New York    2000    18976457\n",
       "            2010    19378102\n",
       "Texas       2000    20851820\n",
       "            2010    25145561\n",
       "dtype: int64"
      ]
     },
     "execution_count": 169,
     "metadata": {},
     "output_type": "execute_result"
    }
   ],
   "source": [
    "populations = [33871648, 37253956, 18976457, 19378102, 20851820, 25145561]\n",
    "\n",
    "pop = pd.Series(populations, index = index)\n",
    "pop"
   ]
  },
  {
   "cell_type": "code",
   "execution_count": 170,
   "metadata": {},
   "outputs": [],
   "source": [
    "#enter solution\n"
   ]
  },
  {
   "cell_type": "markdown",
   "metadata": {
    "solution2": "hidden",
    "solution2_first": true
   },
   "source": [
    "8.3 Get the data for all cities in the year 2010 from pop"
   ]
  },
  {
   "cell_type": "code",
   "execution_count": 173,
   "metadata": {
    "solution2": "hidden"
   },
   "outputs": [
    {
     "data": {
      "text/plain": [
       "California    37253956\n",
       "New York      19378102\n",
       "Texas         25145561\n",
       "dtype: int64"
      ]
     },
     "execution_count": 173,
     "metadata": {},
     "output_type": "execute_result"
    }
   ],
   "source": [
    "pop[:, 2010]"
   ]
  },
  {
   "cell_type": "code",
   "execution_count": 174,
   "metadata": {},
   "outputs": [],
   "source": [
    "#enter solution\n"
   ]
  },
  {
   "cell_type": "markdown",
   "metadata": {
    "solution2": "hidden",
    "solution2_first": true
   },
   "source": [
    "8.4 Convert the multi-index **pop** to a simple DataFrame"
   ]
  },
  {
   "cell_type": "code",
   "execution_count": 175,
   "metadata": {
    "solution2": "hidden"
   },
   "outputs": [
    {
     "data": {
      "text/html": [
       "<div>\n",
       "<style scoped>\n",
       "    .dataframe tbody tr th:only-of-type {\n",
       "        vertical-align: middle;\n",
       "    }\n",
       "\n",
       "    .dataframe tbody tr th {\n",
       "        vertical-align: top;\n",
       "    }\n",
       "\n",
       "    .dataframe thead th {\n",
       "        text-align: right;\n",
       "    }\n",
       "</style>\n",
       "<table border=\"1\" class=\"dataframe\">\n",
       "  <thead>\n",
       "    <tr style=\"text-align: right;\">\n",
       "      <th></th>\n",
       "      <th>2000</th>\n",
       "      <th>2010</th>\n",
       "    </tr>\n",
       "  </thead>\n",
       "  <tbody>\n",
       "    <tr>\n",
       "      <th>California</th>\n",
       "      <td>33871648</td>\n",
       "      <td>37253956</td>\n",
       "    </tr>\n",
       "    <tr>\n",
       "      <th>New York</th>\n",
       "      <td>18976457</td>\n",
       "      <td>19378102</td>\n",
       "    </tr>\n",
       "    <tr>\n",
       "      <th>Texas</th>\n",
       "      <td>20851820</td>\n",
       "      <td>25145561</td>\n",
       "    </tr>\n",
       "  </tbody>\n",
       "</table>\n",
       "</div>"
      ],
      "text/plain": [
       "                2000      2010\n",
       "California  33871648  37253956\n",
       "New York    18976457  19378102\n",
       "Texas       20851820  25145561"
      ]
     },
     "execution_count": 175,
     "metadata": {},
     "output_type": "execute_result"
    }
   ],
   "source": [
    "pop_df = pop.unstack()\n",
    "pop_df"
   ]
  },
  {
   "cell_type": "code",
   "execution_count": 176,
   "metadata": {},
   "outputs": [],
   "source": [
    "#enter solution\n"
   ]
  },
  {
   "cell_type": "markdown",
   "metadata": {
    "solution2": "hidden",
    "solution2_first": true
   },
   "source": [
    "8.5 Convert the DataFrame back to a multi-index DataFrame"
   ]
  },
  {
   "cell_type": "code",
   "execution_count": null,
   "metadata": {},
   "outputs": [],
   "source": [
    "#enter solution\n"
   ]
  },
  {
   "cell_type": "code",
   "execution_count": 178,
   "metadata": {
    "solution2": "hidden"
   },
   "outputs": [
    {
     "data": {
      "text/plain": [
       "California  2000    33871648\n",
       "            2010    37253956\n",
       "New York    2000    18976457\n",
       "            2010    19378102\n",
       "Texas       2000    20851820\n",
       "            2010    25145561\n",
       "dtype: int64"
      ]
     },
     "execution_count": 178,
     "metadata": {},
     "output_type": "execute_result"
    }
   ],
   "source": [
    "pop_df = pop_df.stack()\n",
    "pop_df"
   ]
  },
  {
   "cell_type": "markdown",
   "metadata": {
    "solution2": "hidden",
    "solution2_first": true
   },
   "source": [
    "8.6 Add the following list as a new column to the **pop_df** and name it \"under18\", name the first column \"total\""
   ]
  },
  {
   "cell_type": "code",
   "execution_count": 181,
   "metadata": {
    "solution2": "hidden"
   },
   "outputs": [
    {
     "data": {
      "text/html": [
       "<div>\n",
       "<style scoped>\n",
       "    .dataframe tbody tr th:only-of-type {\n",
       "        vertical-align: middle;\n",
       "    }\n",
       "\n",
       "    .dataframe tbody tr th {\n",
       "        vertical-align: top;\n",
       "    }\n",
       "\n",
       "    .dataframe thead th {\n",
       "        text-align: right;\n",
       "    }\n",
       "</style>\n",
       "<table border=\"1\" class=\"dataframe\">\n",
       "  <thead>\n",
       "    <tr style=\"text-align: right;\">\n",
       "      <th></th>\n",
       "      <th></th>\n",
       "      <th>total</th>\n",
       "      <th>under18</th>\n",
       "    </tr>\n",
       "  </thead>\n",
       "  <tbody>\n",
       "    <tr>\n",
       "      <th rowspan=\"2\" valign=\"top\">California</th>\n",
       "      <th>2000</th>\n",
       "      <td>33871648</td>\n",
       "      <td>9267089</td>\n",
       "    </tr>\n",
       "    <tr>\n",
       "      <th>2010</th>\n",
       "      <td>37253956</td>\n",
       "      <td>9284094</td>\n",
       "    </tr>\n",
       "    <tr>\n",
       "      <th rowspan=\"2\" valign=\"top\">New York</th>\n",
       "      <th>2000</th>\n",
       "      <td>18976457</td>\n",
       "      <td>4687374</td>\n",
       "    </tr>\n",
       "    <tr>\n",
       "      <th>2010</th>\n",
       "      <td>19378102</td>\n",
       "      <td>4318033</td>\n",
       "    </tr>\n",
       "    <tr>\n",
       "      <th rowspan=\"2\" valign=\"top\">Texas</th>\n",
       "      <th>2000</th>\n",
       "      <td>20851820</td>\n",
       "      <td>5906301</td>\n",
       "    </tr>\n",
       "    <tr>\n",
       "      <th>2010</th>\n",
       "      <td>25145561</td>\n",
       "      <td>6879014</td>\n",
       "    </tr>\n",
       "  </tbody>\n",
       "</table>\n",
       "</div>"
      ],
      "text/plain": [
       "                    total  under18\n",
       "California 2000  33871648  9267089\n",
       "           2010  37253956  9284094\n",
       "New York   2000  18976457  4687374\n",
       "           2010  19378102  4318033\n",
       "Texas      2000  20851820  5906301\n",
       "           2010  25145561  6879014"
      ]
     },
     "execution_count": 181,
     "metadata": {},
     "output_type": "execute_result"
    }
   ],
   "source": [
    "under18 = [9267089, 9284094, 4687374, 4318033, 5906301, 6879014]\n",
    "\n",
    "pop_df = pd.DataFrame({\"total\": pop, \"under18\": under18})\n",
    "pop_df"
   ]
  },
  {
   "cell_type": "code",
   "execution_count": 182,
   "metadata": {},
   "outputs": [],
   "source": [
    "#enter solution\n"
   ]
  },
  {
   "cell_type": "markdown",
   "metadata": {
    "solution2": "hidden",
    "solution2_first": true
   },
   "source": [
    "8.7 Add a third column that shows the fraction in percent numbers of under18 from the total and name it \"fu18\""
   ]
  },
  {
   "cell_type": "code",
   "execution_count": 191,
   "metadata": {
    "solution2": "hidden"
   },
   "outputs": [
    {
     "data": {
      "text/html": [
       "<div>\n",
       "<style scoped>\n",
       "    .dataframe tbody tr th:only-of-type {\n",
       "        vertical-align: middle;\n",
       "    }\n",
       "\n",
       "    .dataframe tbody tr th {\n",
       "        vertical-align: top;\n",
       "    }\n",
       "\n",
       "    .dataframe thead th {\n",
       "        text-align: right;\n",
       "    }\n",
       "</style>\n",
       "<table border=\"1\" class=\"dataframe\">\n",
       "  <thead>\n",
       "    <tr style=\"text-align: right;\">\n",
       "      <th></th>\n",
       "      <th></th>\n",
       "      <th>total</th>\n",
       "      <th>under18</th>\n",
       "      <th>fu18</th>\n",
       "    </tr>\n",
       "  </thead>\n",
       "  <tbody>\n",
       "    <tr>\n",
       "      <th rowspan=\"2\" valign=\"top\">California</th>\n",
       "      <th>2000</th>\n",
       "      <td>33871648</td>\n",
       "      <td>9267089</td>\n",
       "      <td>27.359428</td>\n",
       "    </tr>\n",
       "    <tr>\n",
       "      <th>2010</th>\n",
       "      <td>37253956</td>\n",
       "      <td>9284094</td>\n",
       "      <td>24.921096</td>\n",
       "    </tr>\n",
       "    <tr>\n",
       "      <th rowspan=\"2\" valign=\"top\">New York</th>\n",
       "      <th>2000</th>\n",
       "      <td>18976457</td>\n",
       "      <td>4687374</td>\n",
       "      <td>24.700997</td>\n",
       "    </tr>\n",
       "    <tr>\n",
       "      <th>2010</th>\n",
       "      <td>19378102</td>\n",
       "      <td>4318033</td>\n",
       "      <td>22.283054</td>\n",
       "    </tr>\n",
       "    <tr>\n",
       "      <th rowspan=\"2\" valign=\"top\">Texas</th>\n",
       "      <th>2000</th>\n",
       "      <td>20851820</td>\n",
       "      <td>5906301</td>\n",
       "      <td>28.325110</td>\n",
       "    </tr>\n",
       "    <tr>\n",
       "      <th>2010</th>\n",
       "      <td>25145561</td>\n",
       "      <td>6879014</td>\n",
       "      <td>27.356773</td>\n",
       "    </tr>\n",
       "  </tbody>\n",
       "</table>\n",
       "</div>"
      ],
      "text/plain": [
       "                    total  under18       fu18\n",
       "California 2000  33871648  9267089  27.359428\n",
       "           2010  37253956  9284094  24.921096\n",
       "New York   2000  18976457  4687374  24.700997\n",
       "           2010  19378102  4318033  22.283054\n",
       "Texas      2000  20851820  5906301  28.325110\n",
       "           2010  25145561  6879014  27.356773"
      ]
     },
     "execution_count": 191,
     "metadata": {},
     "output_type": "execute_result"
    }
   ],
   "source": [
    "pop_df[\"fu18\"] = (pop_df[\"under18\"] / pop_df[\"total\"]) *100 \n",
    "pop_df"
   ]
  },
  {
   "cell_type": "code",
   "execution_count": 192,
   "metadata": {},
   "outputs": [],
   "source": [
    "#enter solution\n"
   ]
  },
  {
   "cell_type": "markdown",
   "metadata": {
    "solution2": "hidden",
    "solution2_first": true
   },
   "source": [
    "8.8 Create a multi-index from arrays using:\n",
    "   \n",
    "    [[\"a\", \"a\", \"b\", \"b\"], [1,2,1,2]]"
   ]
  },
  {
   "cell_type": "code",
   "execution_count": 193,
   "metadata": {
    "solution2": "hidden"
   },
   "outputs": [
    {
     "data": {
      "text/plain": [
       "MultiIndex([('a', 1),\n",
       "            ('a', 2),\n",
       "            ('b', 1),\n",
       "            ('b', 2)],\n",
       "           )"
      ]
     },
     "execution_count": 193,
     "metadata": {},
     "output_type": "execute_result"
    }
   ],
   "source": [
    "[[\"a\", \"a\", \"b\", \"b\"], [1,2,1,2]]\n",
    "\n",
    "pd.MultiIndex.from_arrays([[\"a\", \"a\", \"b\", \"b\"], [1,2,1,2]])"
   ]
  },
  {
   "cell_type": "code",
   "execution_count": 194,
   "metadata": {},
   "outputs": [],
   "source": [
    "#enter solution\n"
   ]
  },
  {
   "cell_type": "markdown",
   "metadata": {
    "solution2": "hidden",
    "solution2_first": true
   },
   "source": [
    "8.9 Create the same multi-index from tuples"
   ]
  },
  {
   "cell_type": "code",
   "execution_count": 195,
   "metadata": {
    "solution2": "hidden"
   },
   "outputs": [
    {
     "data": {
      "text/plain": [
       "MultiIndex([('a', 1),\n",
       "            ('a', 2),\n",
       "            ('b', 1),\n",
       "            ('b', 2)],\n",
       "           )"
      ]
     },
     "execution_count": 195,
     "metadata": {},
     "output_type": "execute_result"
    }
   ],
   "source": [
    "pd.MultiIndex.from_tuples([(\"a\",1),(\"a\", 2),(\"b\", 1), (\"b\",2)])"
   ]
  },
  {
   "cell_type": "code",
   "execution_count": 196,
   "metadata": {},
   "outputs": [],
   "source": [
    "#enter solution\n"
   ]
  },
  {
   "cell_type": "markdown",
   "metadata": {
    "solution2": "hidden",
    "solution2_first": true
   },
   "source": [
    "8.10 Create the same multi-index from a Cartesian product"
   ]
  },
  {
   "cell_type": "code",
   "execution_count": 197,
   "metadata": {
    "solution2": "hidden"
   },
   "outputs": [
    {
     "data": {
      "text/plain": [
       "MultiIndex([('a', 1),\n",
       "            ('a', 2),\n",
       "            ('b', 1),\n",
       "            ('b', 2)],\n",
       "           )"
      ]
     },
     "execution_count": 197,
     "metadata": {},
     "output_type": "execute_result"
    }
   ],
   "source": [
    "pd.MultiIndex.from_product([[\"a\", \"b\"], [1,2]])"
   ]
  },
  {
   "cell_type": "code",
   "execution_count": null,
   "metadata": {},
   "outputs": [],
   "source": [
    "#enter solution\n"
   ]
  },
  {
   "cell_type": "markdown",
   "metadata": {
    "solution2": "hidden",
    "solution2_first": true
   },
   "source": [
    "8.11 Create the same multi-index from using levels and labels "
   ]
  },
  {
   "cell_type": "code",
   "execution_count": 212,
   "metadata": {
    "solution2": "hidden"
   },
   "outputs": [
    {
     "data": {
      "text/plain": [
       "MultiIndex([('a', 1),\n",
       "            ('a', 2),\n",
       "            ('b', 1),\n",
       "            ('b', 2)],\n",
       "           )"
      ]
     },
     "execution_count": 212,
     "metadata": {},
     "output_type": "execute_result"
    }
   ],
   "source": [
    "pd.MultiIndex(levels=[[\"a\",\"b\"],[1,2]], codes= [[0,0,1,1], [0,1,0,1]])\n",
    "\n",
    "# In the book the key-word says \"labels\" instead \"codes\". If you read the docstring by putting the command \n",
    "# below you can see, that it got updated.\n",
    "#pd.MultiIndex?"
   ]
  },
  {
   "cell_type": "code",
   "execution_count": 211,
   "metadata": {},
   "outputs": [],
   "source": [
    "#enter solution\n"
   ]
  },
  {
   "cell_type": "markdown",
   "metadata": {
    "solution2": "hidden",
    "solution2_first": true
   },
   "source": [
    "8.12 Set the names attribute for the two indices from **pop_df** \"state\" and \"year\""
   ]
  },
  {
   "cell_type": "code",
   "execution_count": 214,
   "metadata": {
    "solution2": "hidden"
   },
   "outputs": [
    {
     "data": {
      "text/html": [
       "<div>\n",
       "<style scoped>\n",
       "    .dataframe tbody tr th:only-of-type {\n",
       "        vertical-align: middle;\n",
       "    }\n",
       "\n",
       "    .dataframe tbody tr th {\n",
       "        vertical-align: top;\n",
       "    }\n",
       "\n",
       "    .dataframe thead th {\n",
       "        text-align: right;\n",
       "    }\n",
       "</style>\n",
       "<table border=\"1\" class=\"dataframe\">\n",
       "  <thead>\n",
       "    <tr style=\"text-align: right;\">\n",
       "      <th></th>\n",
       "      <th></th>\n",
       "      <th>total</th>\n",
       "      <th>under18</th>\n",
       "      <th>fu18</th>\n",
       "    </tr>\n",
       "    <tr>\n",
       "      <th>state</th>\n",
       "      <th>year</th>\n",
       "      <th></th>\n",
       "      <th></th>\n",
       "      <th></th>\n",
       "    </tr>\n",
       "  </thead>\n",
       "  <tbody>\n",
       "    <tr>\n",
       "      <th rowspan=\"2\" valign=\"top\">California</th>\n",
       "      <th>2000</th>\n",
       "      <td>33871648</td>\n",
       "      <td>9267089</td>\n",
       "      <td>27.359428</td>\n",
       "    </tr>\n",
       "    <tr>\n",
       "      <th>2010</th>\n",
       "      <td>37253956</td>\n",
       "      <td>9284094</td>\n",
       "      <td>24.921096</td>\n",
       "    </tr>\n",
       "    <tr>\n",
       "      <th rowspan=\"2\" valign=\"top\">New York</th>\n",
       "      <th>2000</th>\n",
       "      <td>18976457</td>\n",
       "      <td>4687374</td>\n",
       "      <td>24.700997</td>\n",
       "    </tr>\n",
       "    <tr>\n",
       "      <th>2010</th>\n",
       "      <td>19378102</td>\n",
       "      <td>4318033</td>\n",
       "      <td>22.283054</td>\n",
       "    </tr>\n",
       "    <tr>\n",
       "      <th rowspan=\"2\" valign=\"top\">Texas</th>\n",
       "      <th>2000</th>\n",
       "      <td>20851820</td>\n",
       "      <td>5906301</td>\n",
       "      <td>28.325110</td>\n",
       "    </tr>\n",
       "    <tr>\n",
       "      <th>2010</th>\n",
       "      <td>25145561</td>\n",
       "      <td>6879014</td>\n",
       "      <td>27.356773</td>\n",
       "    </tr>\n",
       "  </tbody>\n",
       "</table>\n",
       "</div>"
      ],
      "text/plain": [
       "                    total  under18       fu18\n",
       "state      year                              \n",
       "California 2000  33871648  9267089  27.359428\n",
       "           2010  37253956  9284094  24.921096\n",
       "New York   2000  18976457  4687374  24.700997\n",
       "           2010  19378102  4318033  22.283054\n",
       "Texas      2000  20851820  5906301  28.325110\n",
       "           2010  25145561  6879014  27.356773"
      ]
     },
     "execution_count": 214,
     "metadata": {},
     "output_type": "execute_result"
    }
   ],
   "source": [
    "pop_df.index.names= [\"state\", \"year\"]\n",
    "pop_df"
   ]
  },
  {
   "cell_type": "code",
   "execution_count": 215,
   "metadata": {},
   "outputs": [],
   "source": [
    "#enter solution\n"
   ]
  },
  {
   "cell_type": "markdown",
   "metadata": {
    "solution2": "hidden",
    "solution2_first": true
   },
   "source": [
    "8.13 Set the multi-index for index and columns with the following code provided"
   ]
  },
  {
   "cell_type": "code",
   "execution_count": 218,
   "metadata": {
    "solution2": "hidden"
   },
   "outputs": [
    {
     "name": "stdout",
     "output_type": "stream",
     "text": [
      "subject      Bob       Guido         Sue      \n",
      "type          HR  Temp    HR  Temp    HR  Temp\n",
      "year visit                                    \n",
      "2013 1      46.0  36.8  44.0  38.1  19.0  38.2\n",
      "     2      27.0  35.9   8.0  36.2  37.0  36.6\n",
      "2014 1      32.0  35.9  46.0  38.0  41.0  35.1\n",
      "     2      60.0  37.1  42.0  35.5  37.0  37.4\n"
     ]
    }
   ],
   "source": [
    "index = pd.MultiIndex.from_product([[2013, 2014], [1,2]], names= [\"year\", \"visit\"])\n",
    "columns = pd.MultiIndex.from_product([[\"Bob\", \"Guido\", \"Sue\"], [\"HR\", \"Temp\"]], names= [\"subject\", \"type\"])\n",
    "data = np.round(np.random.randn(4,6), 1)\n",
    "data[:,::2] *= 10\n",
    "data += 37\n",
    "\n",
    "df = pd.DataFrame(data, index= index, columns= columns)\n",
    "print(df)"
   ]
  },
  {
   "cell_type": "code",
   "execution_count": 219,
   "metadata": {},
   "outputs": [],
   "source": [
    "index = pd.MultiIndex.from_product([[2013, 2014], [1,2]], names= [\"year\", \"visit\"])\n",
    "columns = pd.MultiIndex.from_product([[\"Bob\", \"Guido\", \"Sue\"], [\"HR\", \"Temp\"]], names= [\"subject\", \"type\"])\n",
    "data = np.round(np.random.randn(4,6), 1)\n",
    "data[:,::2] *= 10\n",
    "data += 37\n",
    "\n",
    "#enter solution\n"
   ]
  },
  {
   "cell_type": "markdown",
   "metadata": {
    "solution2": "hidden",
    "solution2_first": true
   },
   "source": [
    "8.14 Get the full data for \"Guido\""
   ]
  },
  {
   "cell_type": "code",
   "execution_count": 220,
   "metadata": {
    "solution2": "hidden"
   },
   "outputs": [
    {
     "data": {
      "text/html": [
       "<div>\n",
       "<style scoped>\n",
       "    .dataframe tbody tr th:only-of-type {\n",
       "        vertical-align: middle;\n",
       "    }\n",
       "\n",
       "    .dataframe tbody tr th {\n",
       "        vertical-align: top;\n",
       "    }\n",
       "\n",
       "    .dataframe thead th {\n",
       "        text-align: right;\n",
       "    }\n",
       "</style>\n",
       "<table border=\"1\" class=\"dataframe\">\n",
       "  <thead>\n",
       "    <tr style=\"text-align: right;\">\n",
       "      <th></th>\n",
       "      <th>type</th>\n",
       "      <th>HR</th>\n",
       "      <th>Temp</th>\n",
       "    </tr>\n",
       "    <tr>\n",
       "      <th>year</th>\n",
       "      <th>visit</th>\n",
       "      <th></th>\n",
       "      <th></th>\n",
       "    </tr>\n",
       "  </thead>\n",
       "  <tbody>\n",
       "    <tr>\n",
       "      <th rowspan=\"2\" valign=\"top\">2013</th>\n",
       "      <th>1</th>\n",
       "      <td>44.0</td>\n",
       "      <td>38.1</td>\n",
       "    </tr>\n",
       "    <tr>\n",
       "      <th>2</th>\n",
       "      <td>8.0</td>\n",
       "      <td>36.2</td>\n",
       "    </tr>\n",
       "    <tr>\n",
       "      <th rowspan=\"2\" valign=\"top\">2014</th>\n",
       "      <th>1</th>\n",
       "      <td>46.0</td>\n",
       "      <td>38.0</td>\n",
       "    </tr>\n",
       "    <tr>\n",
       "      <th>2</th>\n",
       "      <td>42.0</td>\n",
       "      <td>35.5</td>\n",
       "    </tr>\n",
       "  </tbody>\n",
       "</table>\n",
       "</div>"
      ],
      "text/plain": [
       "type          HR  Temp\n",
       "year visit            \n",
       "2013 1      44.0  38.1\n",
       "     2       8.0  36.2\n",
       "2014 1      46.0  38.0\n",
       "     2      42.0  35.5"
      ]
     },
     "execution_count": 220,
     "metadata": {},
     "output_type": "execute_result"
    }
   ],
   "source": [
    "df[\"Guido\"]"
   ]
  },
  {
   "cell_type": "code",
   "execution_count": 234,
   "metadata": {},
   "outputs": [],
   "source": [
    "#enter solution\n"
   ]
  },
  {
   "cell_type": "markdown",
   "metadata": {
    "solution2": "hidden",
    "solution2_first": true
   },
   "source": [
    "8.15 Get the data for \"California\" in the year 2000 for **pop**"
   ]
  },
  {
   "cell_type": "code",
   "execution_count": 236,
   "metadata": {
    "solution2": "hidden"
   },
   "outputs": [
    {
     "data": {
      "text/plain": [
       "33871648"
      ]
     },
     "execution_count": 236,
     "metadata": {},
     "output_type": "execute_result"
    }
   ],
   "source": [
    "pop[\"California\", 2000]"
   ]
  },
  {
   "cell_type": "code",
   "execution_count": 237,
   "metadata": {},
   "outputs": [],
   "source": [
    "#enter solution\n"
   ]
  },
  {
   "cell_type": "markdown",
   "metadata": {
    "solution2": "hidden",
    "solution2_first": true
   },
   "source": [
    "8.16 Get the full data for \"California\""
   ]
  },
  {
   "cell_type": "code",
   "execution_count": 238,
   "metadata": {
    "solution2": "hidden"
   },
   "outputs": [
    {
     "data": {
      "text/plain": [
       "year\n",
       "2000    33871648\n",
       "2010    37253956\n",
       "dtype: int64"
      ]
     },
     "execution_count": 238,
     "metadata": {},
     "output_type": "execute_result"
    }
   ],
   "source": [
    "pop[\"California\"]"
   ]
  },
  {
   "cell_type": "code",
   "execution_count": 239,
   "metadata": {},
   "outputs": [],
   "source": [
    "#enter solution\n"
   ]
  },
  {
   "cell_type": "markdown",
   "metadata": {
    "solution2": "hidden",
    "solution2_first": true
   },
   "source": [
    "8.17 Get the data for \"California\" to \"New York\""
   ]
  },
  {
   "cell_type": "code",
   "execution_count": 240,
   "metadata": {
    "solution2": "hidden"
   },
   "outputs": [
    {
     "data": {
      "text/plain": [
       "state       year\n",
       "California  2000    33871648\n",
       "            2010    37253956\n",
       "New York    2000    18976457\n",
       "            2010    19378102\n",
       "dtype: int64"
      ]
     },
     "execution_count": 240,
     "metadata": {},
     "output_type": "execute_result"
    }
   ],
   "source": [
    "pop.loc[\"California\": \"New York\"]"
   ]
  },
  {
   "cell_type": "code",
   "execution_count": 241,
   "metadata": {},
   "outputs": [],
   "source": [
    "#enter solution\n"
   ]
  },
  {
   "cell_type": "markdown",
   "metadata": {
    "solution2": "hidden",
    "solution2_first": true
   },
   "source": [
    "8.18 Get all data for the year 2000"
   ]
  },
  {
   "cell_type": "code",
   "execution_count": 242,
   "metadata": {
    "solution2": "hidden"
   },
   "outputs": [
    {
     "data": {
      "text/plain": [
       "state\n",
       "California    33871648\n",
       "New York      18976457\n",
       "Texas         20851820\n",
       "dtype: int64"
      ]
     },
     "execution_count": 242,
     "metadata": {},
     "output_type": "execute_result"
    }
   ],
   "source": [
    "pop[:, 2000]"
   ]
  },
  {
   "cell_type": "code",
   "execution_count": 243,
   "metadata": {},
   "outputs": [],
   "source": [
    "#enter solution\n"
   ]
  },
  {
   "cell_type": "markdown",
   "metadata": {
    "solution2": "hidden",
    "solution2_first": true
   },
   "source": [
    "8.19 Get all data that is over 22'000'000"
   ]
  },
  {
   "cell_type": "code",
   "execution_count": 244,
   "metadata": {
    "solution2": "hidden"
   },
   "outputs": [
    {
     "data": {
      "text/plain": [
       "state       year\n",
       "California  2000    33871648\n",
       "            2010    37253956\n",
       "Texas       2010    25145561\n",
       "dtype: int64"
      ]
     },
     "execution_count": 244,
     "metadata": {},
     "output_type": "execute_result"
    }
   ],
   "source": [
    "pop[pop > 22000000]"
   ]
  },
  {
   "cell_type": "code",
   "execution_count": 245,
   "metadata": {},
   "outputs": [],
   "source": [
    "#enter solution\n"
   ]
  },
  {
   "cell_type": "markdown",
   "metadata": {
    "solution2": "hidden",
    "solution2_first": true
   },
   "source": [
    "8.20 Get the data for \"California\" and \"Texas\""
   ]
  },
  {
   "cell_type": "code",
   "execution_count": null,
   "metadata": {},
   "outputs": [],
   "source": [
    "#enter solution\n"
   ]
  },
  {
   "cell_type": "code",
   "execution_count": 246,
   "metadata": {
    "solution2": "hidden"
   },
   "outputs": [
    {
     "data": {
      "text/plain": [
       "state       year\n",
       "California  2000    33871648\n",
       "            2010    37253956\n",
       "Texas       2000    20851820\n",
       "            2010    25145561\n",
       "dtype: int64"
      ]
     },
     "execution_count": 246,
     "metadata": {},
     "output_type": "execute_result"
    }
   ],
   "source": [
    "pop[[\"California\", \"Texas\"]]"
   ]
  },
  {
   "cell_type": "markdown",
   "metadata": {
    "solution2": "hidden",
    "solution2_first": true
   },
   "source": [
    "8.21 Get the data for subject \"Bob\" and type \"HR\" from **df**"
   ]
  },
  {
   "cell_type": "code",
   "execution_count": 248,
   "metadata": {
    "solution2": "hidden"
   },
   "outputs": [
    {
     "data": {
      "text/plain": [
       "year  visit\n",
       "2013  1        44.0\n",
       "      2         8.0\n",
       "2014  1        46.0\n",
       "      2        42.0\n",
       "Name: (Guido, HR), dtype: float64"
      ]
     },
     "execution_count": 248,
     "metadata": {},
     "output_type": "execute_result"
    }
   ],
   "source": [
    "df[\"Guido\", \"HR\"]"
   ]
  },
  {
   "cell_type": "code",
   "execution_count": 249,
   "metadata": {},
   "outputs": [],
   "source": [
    "#enter solution\n"
   ]
  },
  {
   "cell_type": "markdown",
   "metadata": {
    "solution2": "hidden",
    "solution2_first": true
   },
   "source": [
    "8.22 Get the data for the first two rows and first two columns "
   ]
  },
  {
   "cell_type": "code",
   "execution_count": 250,
   "metadata": {
    "solution2": "hidden"
   },
   "outputs": [
    {
     "data": {
      "text/html": [
       "<div>\n",
       "<style scoped>\n",
       "    .dataframe tbody tr th:only-of-type {\n",
       "        vertical-align: middle;\n",
       "    }\n",
       "\n",
       "    .dataframe tbody tr th {\n",
       "        vertical-align: top;\n",
       "    }\n",
       "\n",
       "    .dataframe thead tr th {\n",
       "        text-align: left;\n",
       "    }\n",
       "\n",
       "    .dataframe thead tr:last-of-type th {\n",
       "        text-align: right;\n",
       "    }\n",
       "</style>\n",
       "<table border=\"1\" class=\"dataframe\">\n",
       "  <thead>\n",
       "    <tr>\n",
       "      <th></th>\n",
       "      <th>subject</th>\n",
       "      <th colspan=\"2\" halign=\"left\">Bob</th>\n",
       "    </tr>\n",
       "    <tr>\n",
       "      <th></th>\n",
       "      <th>type</th>\n",
       "      <th>HR</th>\n",
       "      <th>Temp</th>\n",
       "    </tr>\n",
       "    <tr>\n",
       "      <th>year</th>\n",
       "      <th>visit</th>\n",
       "      <th></th>\n",
       "      <th></th>\n",
       "    </tr>\n",
       "  </thead>\n",
       "  <tbody>\n",
       "    <tr>\n",
       "      <th rowspan=\"2\" valign=\"top\">2013</th>\n",
       "      <th>1</th>\n",
       "      <td>46.0</td>\n",
       "      <td>36.8</td>\n",
       "    </tr>\n",
       "    <tr>\n",
       "      <th>2</th>\n",
       "      <td>27.0</td>\n",
       "      <td>35.9</td>\n",
       "    </tr>\n",
       "  </tbody>\n",
       "</table>\n",
       "</div>"
      ],
      "text/plain": [
       "subject      Bob      \n",
       "type          HR  Temp\n",
       "year visit            \n",
       "2013 1      46.0  36.8\n",
       "     2      27.0  35.9"
      ]
     },
     "execution_count": 250,
     "metadata": {},
     "output_type": "execute_result"
    }
   ],
   "source": [
    "df.iloc[:2, :2]"
   ]
  },
  {
   "cell_type": "code",
   "execution_count": 251,
   "metadata": {},
   "outputs": [],
   "source": [
    "#enter solution\n"
   ]
  },
  {
   "cell_type": "markdown",
   "metadata": {
    "solution2": "hidden",
    "solution2_first": true
   },
   "source": [
    "8.23 Get the data for rows: all \"years\" and only \"visit\" 2 and columns: all \"subjects\" and only type \"HR\""
   ]
  },
  {
   "cell_type": "code",
   "execution_count": 254,
   "metadata": {
    "solution2": "hidden"
   },
   "outputs": [
    {
     "data": {
      "text/html": [
       "<div>\n",
       "<style scoped>\n",
       "    .dataframe tbody tr th:only-of-type {\n",
       "        vertical-align: middle;\n",
       "    }\n",
       "\n",
       "    .dataframe tbody tr th {\n",
       "        vertical-align: top;\n",
       "    }\n",
       "\n",
       "    .dataframe thead tr th {\n",
       "        text-align: left;\n",
       "    }\n",
       "\n",
       "    .dataframe thead tr:last-of-type th {\n",
       "        text-align: right;\n",
       "    }\n",
       "</style>\n",
       "<table border=\"1\" class=\"dataframe\">\n",
       "  <thead>\n",
       "    <tr>\n",
       "      <th></th>\n",
       "      <th>subject</th>\n",
       "      <th>Bob</th>\n",
       "      <th>Guido</th>\n",
       "      <th>Sue</th>\n",
       "    </tr>\n",
       "    <tr>\n",
       "      <th></th>\n",
       "      <th>type</th>\n",
       "      <th>HR</th>\n",
       "      <th>HR</th>\n",
       "      <th>HR</th>\n",
       "    </tr>\n",
       "    <tr>\n",
       "      <th>year</th>\n",
       "      <th>visit</th>\n",
       "      <th></th>\n",
       "      <th></th>\n",
       "      <th></th>\n",
       "    </tr>\n",
       "  </thead>\n",
       "  <tbody>\n",
       "    <tr>\n",
       "      <th>2013</th>\n",
       "      <th>2</th>\n",
       "      <td>27.0</td>\n",
       "      <td>8.0</td>\n",
       "      <td>37.0</td>\n",
       "    </tr>\n",
       "    <tr>\n",
       "      <th>2014</th>\n",
       "      <th>2</th>\n",
       "      <td>60.0</td>\n",
       "      <td>42.0</td>\n",
       "      <td>37.0</td>\n",
       "    </tr>\n",
       "  </tbody>\n",
       "</table>\n",
       "</div>"
      ],
      "text/plain": [
       "subject      Bob Guido   Sue\n",
       "type          HR    HR    HR\n",
       "year visit                  \n",
       "2013 2      27.0   8.0  37.0\n",
       "2014 2      60.0  42.0  37.0"
      ]
     },
     "execution_count": 254,
     "metadata": {},
     "output_type": "execute_result"
    }
   ],
   "source": [
    "idx = pd.IndexSlice\n",
    "df.loc[idx[:,2], idx[:,\"HR\"]]"
   ]
  },
  {
   "cell_type": "code",
   "execution_count": 255,
   "metadata": {},
   "outputs": [],
   "source": [
    "#enter solution\n"
   ]
  },
  {
   "cell_type": "markdown",
   "metadata": {
    "solution2": "hidden",
    "solution2_first": true
   },
   "source": [
    "8.24 Sort the index alphabetically"
   ]
  },
  {
   "cell_type": "code",
   "execution_count": 258,
   "metadata": {
    "solution2": "hidden"
   },
   "outputs": [
    {
     "name": "stdout",
     "output_type": "stream",
     "text": [
      "char  int\n",
      "a     1      0.552820\n",
      "      2      0.296510\n",
      "c     1      0.419781\n",
      "      2      0.256207\n",
      "b     1      0.611514\n",
      "      2      0.081594\n",
      "dtype: float64\n"
     ]
    },
    {
     "data": {
      "text/plain": [
       "char  int\n",
       "a     1      0.552820\n",
       "      2      0.296510\n",
       "b     1      0.611514\n",
       "      2      0.081594\n",
       "c     1      0.419781\n",
       "      2      0.256207\n",
       "dtype: float64"
      ]
     },
     "execution_count": 258,
     "metadata": {},
     "output_type": "execute_result"
    }
   ],
   "source": [
    "index = pd.MultiIndex.from_product([[\"a\", \"c\", \"b\"], [1,2]])\n",
    "data = pd.Series(np.random.rand(6), index= index)\n",
    "data.index.names=[\"char\", \"int\"]\n",
    "print(data)\n",
    "data = data.sort_index()\n",
    "data"
   ]
  },
  {
   "cell_type": "code",
   "execution_count": 259,
   "metadata": {},
   "outputs": [],
   "source": [
    "#enter solution\n"
   ]
  },
  {
   "cell_type": "markdown",
   "metadata": {
    "solution2": "hidden",
    "solution2_first": true
   },
   "source": [
    "8.25 Unstack **pop** at the first index level (\"state\")"
   ]
  },
  {
   "cell_type": "code",
   "execution_count": 265,
   "metadata": {
    "solution2": "hidden"
   },
   "outputs": [
    {
     "name": "stdout",
     "output_type": "stream",
     "text": [
      "state       year\n",
      "California  2000    33871648\n",
      "            2010    37253956\n",
      "New York    2000    18976457\n",
      "            2010    19378102\n",
      "Texas       2000    20851820\n",
      "            2010    25145561\n",
      "dtype: int64\n"
     ]
    },
    {
     "data": {
      "text/html": [
       "<div>\n",
       "<style scoped>\n",
       "    .dataframe tbody tr th:only-of-type {\n",
       "        vertical-align: middle;\n",
       "    }\n",
       "\n",
       "    .dataframe tbody tr th {\n",
       "        vertical-align: top;\n",
       "    }\n",
       "\n",
       "    .dataframe thead th {\n",
       "        text-align: right;\n",
       "    }\n",
       "</style>\n",
       "<table border=\"1\" class=\"dataframe\">\n",
       "  <thead>\n",
       "    <tr style=\"text-align: right;\">\n",
       "      <th>state</th>\n",
       "      <th>California</th>\n",
       "      <th>New York</th>\n",
       "      <th>Texas</th>\n",
       "    </tr>\n",
       "    <tr>\n",
       "      <th>year</th>\n",
       "      <th></th>\n",
       "      <th></th>\n",
       "      <th></th>\n",
       "    </tr>\n",
       "  </thead>\n",
       "  <tbody>\n",
       "    <tr>\n",
       "      <th>2000</th>\n",
       "      <td>33871648</td>\n",
       "      <td>18976457</td>\n",
       "      <td>20851820</td>\n",
       "    </tr>\n",
       "    <tr>\n",
       "      <th>2010</th>\n",
       "      <td>37253956</td>\n",
       "      <td>19378102</td>\n",
       "      <td>25145561</td>\n",
       "    </tr>\n",
       "  </tbody>\n",
       "</table>\n",
       "</div>"
      ],
      "text/plain": [
       "state  California  New York     Texas\n",
       "year                                 \n",
       "2000     33871648  18976457  20851820\n",
       "2010     37253956  19378102  25145561"
      ]
     },
     "execution_count": 265,
     "metadata": {},
     "output_type": "execute_result"
    }
   ],
   "source": [
    "print(pop)\n",
    "pop.unstack(level=0)"
   ]
  },
  {
   "cell_type": "code",
   "execution_count": 266,
   "metadata": {},
   "outputs": [],
   "source": [
    "#enter solution\n"
   ]
  },
  {
   "cell_type": "markdown",
   "metadata": {
    "solution2": "hidden",
    "solution2_first": true
   },
   "source": [
    "8.26 Unstack **pop** at the second index level (\"year\")"
   ]
  },
  {
   "cell_type": "code",
   "execution_count": 267,
   "metadata": {
    "solution2": "hidden"
   },
   "outputs": [
    {
     "name": "stdout",
     "output_type": "stream",
     "text": [
      "state       year\n",
      "California  2000    33871648\n",
      "            2010    37253956\n",
      "New York    2000    18976457\n",
      "            2010    19378102\n",
      "Texas       2000    20851820\n",
      "            2010    25145561\n",
      "dtype: int64\n"
     ]
    },
    {
     "data": {
      "text/html": [
       "<div>\n",
       "<style scoped>\n",
       "    .dataframe tbody tr th:only-of-type {\n",
       "        vertical-align: middle;\n",
       "    }\n",
       "\n",
       "    .dataframe tbody tr th {\n",
       "        vertical-align: top;\n",
       "    }\n",
       "\n",
       "    .dataframe thead th {\n",
       "        text-align: right;\n",
       "    }\n",
       "</style>\n",
       "<table border=\"1\" class=\"dataframe\">\n",
       "  <thead>\n",
       "    <tr style=\"text-align: right;\">\n",
       "      <th>year</th>\n",
       "      <th>2000</th>\n",
       "      <th>2010</th>\n",
       "    </tr>\n",
       "    <tr>\n",
       "      <th>state</th>\n",
       "      <th></th>\n",
       "      <th></th>\n",
       "    </tr>\n",
       "  </thead>\n",
       "  <tbody>\n",
       "    <tr>\n",
       "      <th>California</th>\n",
       "      <td>33871648</td>\n",
       "      <td>37253956</td>\n",
       "    </tr>\n",
       "    <tr>\n",
       "      <th>New York</th>\n",
       "      <td>18976457</td>\n",
       "      <td>19378102</td>\n",
       "    </tr>\n",
       "    <tr>\n",
       "      <th>Texas</th>\n",
       "      <td>20851820</td>\n",
       "      <td>25145561</td>\n",
       "    </tr>\n",
       "  </tbody>\n",
       "</table>\n",
       "</div>"
      ],
      "text/plain": [
       "year            2000      2010\n",
       "state                         \n",
       "California  33871648  37253956\n",
       "New York    18976457  19378102\n",
       "Texas       20851820  25145561"
      ]
     },
     "execution_count": 267,
     "metadata": {},
     "output_type": "execute_result"
    }
   ],
   "source": [
    "print(pop)\n",
    "pop.unstack(level=1)"
   ]
  },
  {
   "cell_type": "code",
   "execution_count": 268,
   "metadata": {},
   "outputs": [],
   "source": [
    "#enter solution\n"
   ]
  },
  {
   "cell_type": "markdown",
   "metadata": {
    "solution2": "hidden",
    "solution2_first": true
   },
   "source": [
    "8.27 Reset the index as columns in **pop** and save it in **pop_flat**, name the column with population data \"population\""
   ]
  },
  {
   "cell_type": "code",
   "execution_count": 273,
   "metadata": {
    "solution2": "hidden"
   },
   "outputs": [
    {
     "data": {
      "text/html": [
       "<div>\n",
       "<style scoped>\n",
       "    .dataframe tbody tr th:only-of-type {\n",
       "        vertical-align: middle;\n",
       "    }\n",
       "\n",
       "    .dataframe tbody tr th {\n",
       "        vertical-align: top;\n",
       "    }\n",
       "\n",
       "    .dataframe thead th {\n",
       "        text-align: right;\n",
       "    }\n",
       "</style>\n",
       "<table border=\"1\" class=\"dataframe\">\n",
       "  <thead>\n",
       "    <tr style=\"text-align: right;\">\n",
       "      <th></th>\n",
       "      <th>state</th>\n",
       "      <th>year</th>\n",
       "      <th>population</th>\n",
       "    </tr>\n",
       "  </thead>\n",
       "  <tbody>\n",
       "    <tr>\n",
       "      <th>0</th>\n",
       "      <td>California</td>\n",
       "      <td>2000</td>\n",
       "      <td>33871648</td>\n",
       "    </tr>\n",
       "    <tr>\n",
       "      <th>1</th>\n",
       "      <td>California</td>\n",
       "      <td>2010</td>\n",
       "      <td>37253956</td>\n",
       "    </tr>\n",
       "    <tr>\n",
       "      <th>2</th>\n",
       "      <td>New York</td>\n",
       "      <td>2000</td>\n",
       "      <td>18976457</td>\n",
       "    </tr>\n",
       "    <tr>\n",
       "      <th>3</th>\n",
       "      <td>New York</td>\n",
       "      <td>2010</td>\n",
       "      <td>19378102</td>\n",
       "    </tr>\n",
       "    <tr>\n",
       "      <th>4</th>\n",
       "      <td>Texas</td>\n",
       "      <td>2000</td>\n",
       "      <td>20851820</td>\n",
       "    </tr>\n",
       "    <tr>\n",
       "      <th>5</th>\n",
       "      <td>Texas</td>\n",
       "      <td>2010</td>\n",
       "      <td>25145561</td>\n",
       "    </tr>\n",
       "  </tbody>\n",
       "</table>\n",
       "</div>"
      ],
      "text/plain": [
       "        state  year  population\n",
       "0  California  2000    33871648\n",
       "1  California  2010    37253956\n",
       "2    New York  2000    18976457\n",
       "3    New York  2010    19378102\n",
       "4       Texas  2000    20851820\n",
       "5       Texas  2010    25145561"
      ]
     },
     "execution_count": 273,
     "metadata": {},
     "output_type": "execute_result"
    }
   ],
   "source": [
    "pop_flat = pop.reset_index(name= \"population\")\n",
    "pop_flat"
   ]
  },
  {
   "cell_type": "code",
   "execution_count": 274,
   "metadata": {},
   "outputs": [],
   "source": [
    "#enter solution\n"
   ]
  },
  {
   "cell_type": "markdown",
   "metadata": {
    "solution2": "hidden",
    "solution2_first": true
   },
   "source": [
    "8.28 Set the indices back to \"state\" and \"year\" in **pop_flat**"
   ]
  },
  {
   "cell_type": "code",
   "execution_count": 275,
   "metadata": {
    "solution2": "hidden"
   },
   "outputs": [
    {
     "data": {
      "text/html": [
       "<div>\n",
       "<style scoped>\n",
       "    .dataframe tbody tr th:only-of-type {\n",
       "        vertical-align: middle;\n",
       "    }\n",
       "\n",
       "    .dataframe tbody tr th {\n",
       "        vertical-align: top;\n",
       "    }\n",
       "\n",
       "    .dataframe thead th {\n",
       "        text-align: right;\n",
       "    }\n",
       "</style>\n",
       "<table border=\"1\" class=\"dataframe\">\n",
       "  <thead>\n",
       "    <tr style=\"text-align: right;\">\n",
       "      <th></th>\n",
       "      <th></th>\n",
       "      <th>population</th>\n",
       "    </tr>\n",
       "    <tr>\n",
       "      <th>state</th>\n",
       "      <th>year</th>\n",
       "      <th></th>\n",
       "    </tr>\n",
       "  </thead>\n",
       "  <tbody>\n",
       "    <tr>\n",
       "      <th rowspan=\"2\" valign=\"top\">California</th>\n",
       "      <th>2000</th>\n",
       "      <td>33871648</td>\n",
       "    </tr>\n",
       "    <tr>\n",
       "      <th>2010</th>\n",
       "      <td>37253956</td>\n",
       "    </tr>\n",
       "    <tr>\n",
       "      <th rowspan=\"2\" valign=\"top\">New York</th>\n",
       "      <th>2000</th>\n",
       "      <td>18976457</td>\n",
       "    </tr>\n",
       "    <tr>\n",
       "      <th>2010</th>\n",
       "      <td>19378102</td>\n",
       "    </tr>\n",
       "    <tr>\n",
       "      <th rowspan=\"2\" valign=\"top\">Texas</th>\n",
       "      <th>2000</th>\n",
       "      <td>20851820</td>\n",
       "    </tr>\n",
       "    <tr>\n",
       "      <th>2010</th>\n",
       "      <td>25145561</td>\n",
       "    </tr>\n",
       "  </tbody>\n",
       "</table>\n",
       "</div>"
      ],
      "text/plain": [
       "                 population\n",
       "state      year            \n",
       "California 2000    33871648\n",
       "           2010    37253956\n",
       "New York   2000    18976457\n",
       "           2010    19378102\n",
       "Texas      2000    20851820\n",
       "           2010    25145561"
      ]
     },
     "execution_count": 275,
     "metadata": {},
     "output_type": "execute_result"
    }
   ],
   "source": [
    "pop_flat.set_index([\"state\", \"year\"])"
   ]
  },
  {
   "cell_type": "code",
   "execution_count": 276,
   "metadata": {},
   "outputs": [],
   "source": [
    "#enter solution\n"
   ]
  },
  {
   "cell_type": "markdown",
   "metadata": {
    "solution2": "hidden",
    "solution2_first": true
   },
   "source": [
    "8.29 Get the mean for the visits in each year for every subject and type."
   ]
  },
  {
   "cell_type": "code",
   "execution_count": 278,
   "metadata": {
    "solution2": "hidden"
   },
   "outputs": [
    {
     "name": "stdout",
     "output_type": "stream",
     "text": [
      "subject      Bob       Guido         Sue      \n",
      "type          HR  Temp    HR  Temp    HR  Temp\n",
      "year visit                                    \n",
      "2013 1      46.0  36.8  44.0  38.1  19.0  38.2\n",
      "     2      27.0  35.9   8.0  36.2  37.0  36.6\n",
      "2014 1      32.0  35.9  46.0  38.0  41.0  35.1\n",
      "     2      60.0  37.1  42.0  35.5  37.0  37.4\n"
     ]
    },
    {
     "data": {
      "text/html": [
       "<div>\n",
       "<style scoped>\n",
       "    .dataframe tbody tr th:only-of-type {\n",
       "        vertical-align: middle;\n",
       "    }\n",
       "\n",
       "    .dataframe tbody tr th {\n",
       "        vertical-align: top;\n",
       "    }\n",
       "\n",
       "    .dataframe thead tr th {\n",
       "        text-align: left;\n",
       "    }\n",
       "\n",
       "    .dataframe thead tr:last-of-type th {\n",
       "        text-align: right;\n",
       "    }\n",
       "</style>\n",
       "<table border=\"1\" class=\"dataframe\">\n",
       "  <thead>\n",
       "    <tr>\n",
       "      <th>subject</th>\n",
       "      <th colspan=\"2\" halign=\"left\">Bob</th>\n",
       "      <th colspan=\"2\" halign=\"left\">Guido</th>\n",
       "      <th colspan=\"2\" halign=\"left\">Sue</th>\n",
       "    </tr>\n",
       "    <tr>\n",
       "      <th>type</th>\n",
       "      <th>HR</th>\n",
       "      <th>Temp</th>\n",
       "      <th>HR</th>\n",
       "      <th>Temp</th>\n",
       "      <th>HR</th>\n",
       "      <th>Temp</th>\n",
       "    </tr>\n",
       "    <tr>\n",
       "      <th>year</th>\n",
       "      <th></th>\n",
       "      <th></th>\n",
       "      <th></th>\n",
       "      <th></th>\n",
       "      <th></th>\n",
       "      <th></th>\n",
       "    </tr>\n",
       "  </thead>\n",
       "  <tbody>\n",
       "    <tr>\n",
       "      <th>2013</th>\n",
       "      <td>36.5</td>\n",
       "      <td>36.35</td>\n",
       "      <td>26.0</td>\n",
       "      <td>37.15</td>\n",
       "      <td>28.0</td>\n",
       "      <td>37.40</td>\n",
       "    </tr>\n",
       "    <tr>\n",
       "      <th>2014</th>\n",
       "      <td>46.0</td>\n",
       "      <td>36.50</td>\n",
       "      <td>44.0</td>\n",
       "      <td>36.75</td>\n",
       "      <td>39.0</td>\n",
       "      <td>36.25</td>\n",
       "    </tr>\n",
       "  </tbody>\n",
       "</table>\n",
       "</div>"
      ],
      "text/plain": [
       "subject   Bob        Guido          Sue       \n",
       "type       HR   Temp    HR   Temp    HR   Temp\n",
       "year                                          \n",
       "2013     36.5  36.35  26.0  37.15  28.0  37.40\n",
       "2014     46.0  36.50  44.0  36.75  39.0  36.25"
      ]
     },
     "execution_count": 278,
     "metadata": {},
     "output_type": "execute_result"
    }
   ],
   "source": [
    "print(df)\n",
    "df_mean = df.mean(level=\"year\")\n",
    "df_mean"
   ]
  },
  {
   "cell_type": "code",
   "execution_count": 279,
   "metadata": {},
   "outputs": [],
   "source": [
    "#enter solution\n"
   ]
  },
  {
   "cell_type": "markdown",
   "metadata": {
    "solution2": "hidden",
    "solution2_first": true
   },
   "source": [
    "8.30 Get the mean for all type \"HR\" and \"Temp\" in each year"
   ]
  },
  {
   "cell_type": "code",
   "execution_count": 280,
   "metadata": {
    "solution2": "hidden"
   },
   "outputs": [
    {
     "data": {
      "text/html": [
       "<div>\n",
       "<style scoped>\n",
       "    .dataframe tbody tr th:only-of-type {\n",
       "        vertical-align: middle;\n",
       "    }\n",
       "\n",
       "    .dataframe tbody tr th {\n",
       "        vertical-align: top;\n",
       "    }\n",
       "\n",
       "    .dataframe thead th {\n",
       "        text-align: right;\n",
       "    }\n",
       "</style>\n",
       "<table border=\"1\" class=\"dataframe\">\n",
       "  <thead>\n",
       "    <tr style=\"text-align: right;\">\n",
       "      <th>type</th>\n",
       "      <th>HR</th>\n",
       "      <th>Temp</th>\n",
       "    </tr>\n",
       "    <tr>\n",
       "      <th>year</th>\n",
       "      <th></th>\n",
       "      <th></th>\n",
       "    </tr>\n",
       "  </thead>\n",
       "  <tbody>\n",
       "    <tr>\n",
       "      <th>2013</th>\n",
       "      <td>30.166667</td>\n",
       "      <td>36.966667</td>\n",
       "    </tr>\n",
       "    <tr>\n",
       "      <th>2014</th>\n",
       "      <td>43.000000</td>\n",
       "      <td>36.500000</td>\n",
       "    </tr>\n",
       "  </tbody>\n",
       "</table>\n",
       "</div>"
      ],
      "text/plain": [
       "type         HR       Temp\n",
       "year                      \n",
       "2013  30.166667  36.966667\n",
       "2014  43.000000  36.500000"
      ]
     },
     "execution_count": 280,
     "metadata": {},
     "output_type": "execute_result"
    }
   ],
   "source": [
    "df_mean.mean(axis=1, level=\"type\")"
   ]
  },
  {
   "cell_type": "code",
   "execution_count": 281,
   "metadata": {},
   "outputs": [],
   "source": [
    "#enter solution\n"
   ]
  },
  {
   "cell_type": "markdown",
   "metadata": {
    "solution2": "hidden",
    "solution2_first": true
   },
   "source": [
    "#### Task 9 Concatenation of NumPy Arrays and Pandas\n",
    "\n",
    "9.1 Concatenate the following lists horizontally to a NumPy array"
   ]
  },
  {
   "cell_type": "code",
   "execution_count": 282,
   "metadata": {
    "solution2": "hidden"
   },
   "outputs": [
    {
     "data": {
      "text/plain": [
       "array([1, 2, 3, 4, 5, 6, 7, 8, 9])"
      ]
     },
     "execution_count": 282,
     "metadata": {},
     "output_type": "execute_result"
    }
   ],
   "source": [
    "x= [1,2,3]\n",
    "y= [4,5,6]\n",
    "z= [7,8,9]\n",
    "np.concatenate([x,y,z])"
   ]
  },
  {
   "cell_type": "code",
   "execution_count": 283,
   "metadata": {},
   "outputs": [],
   "source": [
    "x= [1,2,3]\n",
    "y= [4,5,6]\n",
    "z= [7,8,9]\n",
    "\n",
    "#enter solution\n"
   ]
  },
  {
   "cell_type": "markdown",
   "metadata": {
    "solution2": "hidden",
    "solution2_first": true
   },
   "source": [
    "9.2 Concatenate the following list of lists with itself horizontally to a NumPy array"
   ]
  },
  {
   "cell_type": "code",
   "execution_count": 285,
   "metadata": {
    "solution2": "hidden"
   },
   "outputs": [
    {
     "data": {
      "text/plain": [
       "array([[1, 2, 1, 2],\n",
       "       [3, 4, 3, 4]])"
      ]
     },
     "execution_count": 285,
     "metadata": {},
     "output_type": "execute_result"
    }
   ],
   "source": [
    "x= [[1,2],\n",
    "   [3,4]]\n",
    "np.concatenate([x,x], axis=1)"
   ]
  },
  {
   "cell_type": "code",
   "execution_count": 286,
   "metadata": {},
   "outputs": [],
   "source": [
    "x= [[1,2],\n",
    "   [3,4]]\n",
    "\n",
    "#enter solution\n"
   ]
  },
  {
   "cell_type": "markdown",
   "metadata": {
    "solution2": "hidden",
    "solution2_first": true
   },
   "source": [
    "9.3 Concatenate the two Panda Series"
   ]
  },
  {
   "cell_type": "code",
   "execution_count": 287,
   "metadata": {
    "solution2": "hidden"
   },
   "outputs": [
    {
     "data": {
      "text/plain": [
       "1    A\n",
       "2    B\n",
       "3    C\n",
       "4    D\n",
       "5    E\n",
       "6    F\n",
       "dtype: object"
      ]
     },
     "execution_count": 287,
     "metadata": {},
     "output_type": "execute_result"
    }
   ],
   "source": [
    "ser1 = pd.Series([\"A\", \"B\", \"C\"], index=[1,2,3])\n",
    "ser2 = pd.Series([\"D\", \"E\", \"F\"], index=[4,5,6])\n",
    "pd.concat([ser1, ser2])"
   ]
  },
  {
   "cell_type": "code",
   "execution_count": 288,
   "metadata": {},
   "outputs": [],
   "source": [
    "ser1 = pd.Series([\"A\", \"B\", \"C\"], index=[1,2,3])\n",
    "ser2 = pd.Series([\"D\", \"E\", \"F\"], index=[4,5,6])\n",
    "\n",
    "#enter solution\n"
   ]
  },
  {
   "cell_type": "markdown",
   "metadata": {
    "solution2": "hidden",
    "solution2_first": true
   },
   "source": [
    "9.4 Change the index so ser2 gets added horizontally to ser1"
   ]
  },
  {
   "cell_type": "code",
   "execution_count": 293,
   "metadata": {
    "solution2": "hidden"
   },
   "outputs": [
    {
     "data": {
      "text/html": [
       "<div>\n",
       "<style scoped>\n",
       "    .dataframe tbody tr th:only-of-type {\n",
       "        vertical-align: middle;\n",
       "    }\n",
       "\n",
       "    .dataframe tbody tr th {\n",
       "        vertical-align: top;\n",
       "    }\n",
       "\n",
       "    .dataframe thead th {\n",
       "        text-align: right;\n",
       "    }\n",
       "</style>\n",
       "<table border=\"1\" class=\"dataframe\">\n",
       "  <thead>\n",
       "    <tr style=\"text-align: right;\">\n",
       "      <th></th>\n",
       "      <th>0</th>\n",
       "      <th>1</th>\n",
       "    </tr>\n",
       "  </thead>\n",
       "  <tbody>\n",
       "    <tr>\n",
       "      <th>1</th>\n",
       "      <td>A</td>\n",
       "      <td>D</td>\n",
       "    </tr>\n",
       "    <tr>\n",
       "      <th>2</th>\n",
       "      <td>B</td>\n",
       "      <td>E</td>\n",
       "    </tr>\n",
       "    <tr>\n",
       "      <th>3</th>\n",
       "      <td>C</td>\n",
       "      <td>F</td>\n",
       "    </tr>\n",
       "  </tbody>\n",
       "</table>\n",
       "</div>"
      ],
      "text/plain": [
       "   0  1\n",
       "1  A  D\n",
       "2  B  E\n",
       "3  C  F"
      ]
     },
     "execution_count": 293,
     "metadata": {},
     "output_type": "execute_result"
    }
   ],
   "source": [
    "ser1 = pd.Series([\"A\", \"B\", \"C\"], index=[1,2,3])\n",
    "ser2 = pd.Series([\"D\", \"E\", \"F\"], index=[1,2,3])\n",
    "pd.concat([ser1,ser2], axis=1)"
   ]
  },
  {
   "cell_type": "code",
   "execution_count": 294,
   "metadata": {},
   "outputs": [],
   "source": [
    "#enter solution\n",
    "\n",
    "ser1 = pd.Series([\"A\", \"B\", \"C\"], index=[1,2,3])\n",
    "ser2 = pd.Series([\"D\", \"E\", \"F\"], index=[4,5,6])\n"
   ]
  },
  {
   "cell_type": "markdown",
   "metadata": {
    "solution2": "hidden",
    "solution2_first": true
   },
   "source": [
    "9.5 Concatenate the two following DataFrames"
   ]
  },
  {
   "cell_type": "code",
   "execution_count": 298,
   "metadata": {
    "scrolled": false,
    "solution2": "hidden"
   },
   "outputs": [
    {
     "name": "stdout",
     "output_type": "stream",
     "text": [
      "    A   B\n",
      "1  A1  B1\n",
      "2  A2  B2\n",
      "    A   B\n",
      "3  A3  B3\n",
      "4  A4  B4\n",
      "    A   B\n",
      "1  A1  B1\n",
      "2  A2  B2\n",
      "3  A3  B3\n",
      "4  A4  B4\n"
     ]
    },
    {
     "data": {
      "text/plain": [
       "(None, None, None)"
      ]
     },
     "execution_count": 298,
     "metadata": {},
     "output_type": "execute_result"
    }
   ],
   "source": [
    "#function to create a DataFrame quickly\n",
    "def make_df(cols,ind):\n",
    "    \"\"\"Quickly make a DataFrame\"\"\"\n",
    "    data= {c: [str(c) + str(i) for i in ind]\n",
    "          for c in cols}\n",
    "    return pd.DataFrame(data,ind)\n",
    "\n",
    "df1 = make_df(\"AB\", [1,2])\n",
    "df2 = make_df(\"AB\", [3,4])\n",
    "print(df1), print(df2) , print(pd.concat([df1,df2]))"
   ]
  },
  {
   "cell_type": "code",
   "execution_count": 322,
   "metadata": {},
   "outputs": [],
   "source": [
    "#function to create a DataFrame quickly\n",
    "def make_df(cols,ind):\n",
    "    \"\"\"Quickly make a DataFrame\"\"\"\n",
    "    data= {c: [str(c) + str(i) for i in ind]\n",
    "          for c in cols}\n",
    "    return pd.DataFrame(data,ind)\n",
    "\n",
    "df1 = make_df(\"AB\", [1,2])\n",
    "df2 = make_df(\"AB\", [3,4])\n",
    "\n",
    "#enter solution\n"
   ]
  },
  {
   "cell_type": "markdown",
   "metadata": {
    "solution2": "hidden",
    "solution2_first": true
   },
   "source": [
    "9.6 Concatenate the two following DataFrames in the same index"
   ]
  },
  {
   "cell_type": "code",
   "execution_count": 323,
   "metadata": {
    "solution2": "hidden"
   },
   "outputs": [
    {
     "name": "stdout",
     "output_type": "stream",
     "text": [
      "    A   B\n",
      "0  A0  B0\n",
      "1  A1  B1\n",
      "    C   D\n",
      "0  C0  D0\n",
      "1  C1  D1\n",
      "    A   B   C   D\n",
      "0  A0  B0  C0  D0\n",
      "1  A1  B1  C1  D1\n"
     ]
    },
    {
     "data": {
      "text/plain": [
       "(None, None, None)"
      ]
     },
     "execution_count": 323,
     "metadata": {},
     "output_type": "execute_result"
    }
   ],
   "source": [
    "df3 = make_df(\"AB\", [0,1])\n",
    "df4 = make_df(\"CD\", [0,1])\n",
    "print(df3), print(df4), print(pd.concat([df3,df4], axis= \"columns\"))"
   ]
  },
  {
   "cell_type": "code",
   "execution_count": 324,
   "metadata": {},
   "outputs": [],
   "source": [
    "df3 = make_df(\"AB\", [0,1])\n",
    "df4 = make_df(\"CD\", [0,1])\n",
    "\n",
    "#enter solution\n"
   ]
  },
  {
   "cell_type": "markdown",
   "metadata": {
    "solution2": "hidden",
    "solution2_first": true
   },
   "source": [
    "9.7 Set the index of the following DataFrame **y** to the same index as **x** and concatenate the two together."
   ]
  },
  {
   "cell_type": "code",
   "execution_count": 325,
   "metadata": {
    "solution2": "hidden"
   },
   "outputs": [
    {
     "name": "stdout",
     "output_type": "stream",
     "text": [
      "    A   B\n",
      "0  A0  B0\n",
      "1  A1  B1\n",
      "    A   B\n",
      "0  A2  B2\n",
      "1  A3  B3\n",
      "    A   B\n",
      "0  A0  B0\n",
      "1  A1  B1\n",
      "0  A2  B2\n",
      "1  A3  B3\n"
     ]
    },
    {
     "data": {
      "text/plain": [
       "(None, None, None)"
      ]
     },
     "execution_count": 325,
     "metadata": {},
     "output_type": "execute_result"
    }
   ],
   "source": [
    "x = make_df(\"AB\", [0,1])\n",
    "y = make_df(\"AB\", [2,3])\n",
    "\n",
    "y.index = x.index\n",
    "print(x), print(y), print(pd.concat([x,y]))"
   ]
  },
  {
   "cell_type": "code",
   "execution_count": 326,
   "metadata": {},
   "outputs": [],
   "source": [
    "x = make_df(\"AB\", [0,1])\n",
    "y = make_df(\"AB\", [2,3])\n",
    "\n",
    "#enter solution\n"
   ]
  },
  {
   "cell_type": "markdown",
   "metadata": {
    "solution2": "hidden",
    "solution2_first": true
   },
   "source": [
    "9.8 Concatenate the previous two df's again, but with the right index"
   ]
  },
  {
   "cell_type": "code",
   "execution_count": 332,
   "metadata": {
    "solution2": "hidden"
   },
   "outputs": [
    {
     "data": {
      "text/html": [
       "<div>\n",
       "<style scoped>\n",
       "    .dataframe tbody tr th:only-of-type {\n",
       "        vertical-align: middle;\n",
       "    }\n",
       "\n",
       "    .dataframe tbody tr th {\n",
       "        vertical-align: top;\n",
       "    }\n",
       "\n",
       "    .dataframe thead th {\n",
       "        text-align: right;\n",
       "    }\n",
       "</style>\n",
       "<table border=\"1\" class=\"dataframe\">\n",
       "  <thead>\n",
       "    <tr style=\"text-align: right;\">\n",
       "      <th></th>\n",
       "      <th>A</th>\n",
       "      <th>B</th>\n",
       "    </tr>\n",
       "  </thead>\n",
       "  <tbody>\n",
       "    <tr>\n",
       "      <th>0</th>\n",
       "      <td>A0</td>\n",
       "      <td>B0</td>\n",
       "    </tr>\n",
       "    <tr>\n",
       "      <th>1</th>\n",
       "      <td>A1</td>\n",
       "      <td>B1</td>\n",
       "    </tr>\n",
       "    <tr>\n",
       "      <th>2</th>\n",
       "      <td>A2</td>\n",
       "      <td>B2</td>\n",
       "    </tr>\n",
       "    <tr>\n",
       "      <th>3</th>\n",
       "      <td>A3</td>\n",
       "      <td>B3</td>\n",
       "    </tr>\n",
       "  </tbody>\n",
       "</table>\n",
       "</div>"
      ],
      "text/plain": [
       "    A   B\n",
       "0  A0  B0\n",
       "1  A1  B1\n",
       "2  A2  B2\n",
       "3  A3  B3"
      ]
     },
     "execution_count": 332,
     "metadata": {},
     "output_type": "execute_result"
    }
   ],
   "source": [
    "y.index = x.index\n",
    "pd.concat([x,y], ignore_index=True)"
   ]
  },
  {
   "cell_type": "code",
   "execution_count": 328,
   "metadata": {},
   "outputs": [],
   "source": [
    "#enter solution\n"
   ]
  },
  {
   "cell_type": "markdown",
   "metadata": {
    "solution2": "hidden",
    "solution2_first": true
   },
   "source": [
    "9.9 Concatenate the previous two df's again, but set keys x and y to the index series"
   ]
  },
  {
   "cell_type": "code",
   "execution_count": 333,
   "metadata": {
    "solution2": "hidden"
   },
   "outputs": [
    {
     "data": {
      "text/html": [
       "<div>\n",
       "<style scoped>\n",
       "    .dataframe tbody tr th:only-of-type {\n",
       "        vertical-align: middle;\n",
       "    }\n",
       "\n",
       "    .dataframe tbody tr th {\n",
       "        vertical-align: top;\n",
       "    }\n",
       "\n",
       "    .dataframe thead th {\n",
       "        text-align: right;\n",
       "    }\n",
       "</style>\n",
       "<table border=\"1\" class=\"dataframe\">\n",
       "  <thead>\n",
       "    <tr style=\"text-align: right;\">\n",
       "      <th></th>\n",
       "      <th></th>\n",
       "      <th>A</th>\n",
       "      <th>B</th>\n",
       "    </tr>\n",
       "  </thead>\n",
       "  <tbody>\n",
       "    <tr>\n",
       "      <th rowspan=\"2\" valign=\"top\">x</th>\n",
       "      <th>0</th>\n",
       "      <td>A0</td>\n",
       "      <td>B0</td>\n",
       "    </tr>\n",
       "    <tr>\n",
       "      <th>1</th>\n",
       "      <td>A1</td>\n",
       "      <td>B1</td>\n",
       "    </tr>\n",
       "    <tr>\n",
       "      <th rowspan=\"2\" valign=\"top\">y</th>\n",
       "      <th>0</th>\n",
       "      <td>A2</td>\n",
       "      <td>B2</td>\n",
       "    </tr>\n",
       "    <tr>\n",
       "      <th>1</th>\n",
       "      <td>A3</td>\n",
       "      <td>B3</td>\n",
       "    </tr>\n",
       "  </tbody>\n",
       "</table>\n",
       "</div>"
      ],
      "text/plain": [
       "      A   B\n",
       "x 0  A0  B0\n",
       "  1  A1  B1\n",
       "y 0  A2  B2\n",
       "  1  A3  B3"
      ]
     },
     "execution_count": 333,
     "metadata": {},
     "output_type": "execute_result"
    }
   ],
   "source": [
    "pd.concat([x,y], keys=[\"x\", \"y\"])"
   ]
  },
  {
   "cell_type": "code",
   "execution_count": 346,
   "metadata": {},
   "outputs": [],
   "source": [
    "#enter solution\n"
   ]
  },
  {
   "cell_type": "markdown",
   "metadata": {
    "solution2": "hidden",
    "solution2_first": true
   },
   "source": [
    "9.10 Concatenate the two following df's"
   ]
  },
  {
   "cell_type": "code",
   "execution_count": 354,
   "metadata": {
    "solution2": "hidden"
   },
   "outputs": [
    {
     "name": "stdout",
     "output_type": "stream",
     "text": [
      "    A   B   C\n",
      "1  A1  B1  C1\n",
      "2  A2  B2  C2\n",
      "    B   C   D\n",
      "3  B3  C3  D3\n",
      "4  B4  C4  D4\n",
      "     A   B   C    D\n",
      "1   A1  B1  C1  NaN\n",
      "2   A2  B2  C2  NaN\n",
      "3  NaN  B3  C3   D3\n",
      "4  NaN  B4  C4   D4\n"
     ]
    },
    {
     "data": {
      "text/plain": [
       "(None, None, None)"
      ]
     },
     "execution_count": 354,
     "metadata": {},
     "output_type": "execute_result"
    }
   ],
   "source": [
    "df5 = make_df(\"ABC\", [1,2])\n",
    "df6 = make_df(\"BCD\", [3,4])\n",
    "\n",
    "print(df5), print(df6), print(pd.concat([df5,df6]))"
   ]
  },
  {
   "cell_type": "code",
   "execution_count": 355,
   "metadata": {},
   "outputs": [],
   "source": [
    "df5 = make_df(\"ABC\", [1,2])\n",
    "df6 = make_df(\"BCD\", [3,4])\n",
    "\n",
    "#enter solution\n"
   ]
  },
  {
   "cell_type": "markdown",
   "metadata": {
    "solution2": "hidden",
    "solution2_first": true
   },
   "source": [
    "9.11 Concatenate the columns of the previous two df's that they have in common"
   ]
  },
  {
   "cell_type": "code",
   "execution_count": 356,
   "metadata": {
    "solution2": "hidden"
   },
   "outputs": [
    {
     "data": {
      "text/html": [
       "<div>\n",
       "<style scoped>\n",
       "    .dataframe tbody tr th:only-of-type {\n",
       "        vertical-align: middle;\n",
       "    }\n",
       "\n",
       "    .dataframe tbody tr th {\n",
       "        vertical-align: top;\n",
       "    }\n",
       "\n",
       "    .dataframe thead th {\n",
       "        text-align: right;\n",
       "    }\n",
       "</style>\n",
       "<table border=\"1\" class=\"dataframe\">\n",
       "  <thead>\n",
       "    <tr style=\"text-align: right;\">\n",
       "      <th></th>\n",
       "      <th>B</th>\n",
       "      <th>C</th>\n",
       "    </tr>\n",
       "  </thead>\n",
       "  <tbody>\n",
       "    <tr>\n",
       "      <th>1</th>\n",
       "      <td>B1</td>\n",
       "      <td>C1</td>\n",
       "    </tr>\n",
       "    <tr>\n",
       "      <th>2</th>\n",
       "      <td>B2</td>\n",
       "      <td>C2</td>\n",
       "    </tr>\n",
       "    <tr>\n",
       "      <th>3</th>\n",
       "      <td>B3</td>\n",
       "      <td>C3</td>\n",
       "    </tr>\n",
       "    <tr>\n",
       "      <th>4</th>\n",
       "      <td>B4</td>\n",
       "      <td>C4</td>\n",
       "    </tr>\n",
       "  </tbody>\n",
       "</table>\n",
       "</div>"
      ],
      "text/plain": [
       "    B   C\n",
       "1  B1  C1\n",
       "2  B2  C2\n",
       "3  B3  C3\n",
       "4  B4  C4"
      ]
     },
     "execution_count": 356,
     "metadata": {},
     "output_type": "execute_result"
    }
   ],
   "source": [
    "pd.concat([df5,df6], join=\"inner\")"
   ]
  },
  {
   "cell_type": "code",
   "execution_count": 350,
   "metadata": {},
   "outputs": [],
   "source": [
    "#enter solution\n"
   ]
  },
  {
   "cell_type": "markdown",
   "metadata": {
    "solution2": "hidden",
    "solution2_first": true
   },
   "source": [
    "9.12 Append **df2** to **df1**"
   ]
  },
  {
   "cell_type": "code",
   "execution_count": 376,
   "metadata": {
    "solution2": "hidden"
   },
   "outputs": [
    {
     "data": {
      "text/html": [
       "<div>\n",
       "<style scoped>\n",
       "    .dataframe tbody tr th:only-of-type {\n",
       "        vertical-align: middle;\n",
       "    }\n",
       "\n",
       "    .dataframe tbody tr th {\n",
       "        vertical-align: top;\n",
       "    }\n",
       "\n",
       "    .dataframe thead th {\n",
       "        text-align: right;\n",
       "    }\n",
       "</style>\n",
       "<table border=\"1\" class=\"dataframe\">\n",
       "  <thead>\n",
       "    <tr style=\"text-align: right;\">\n",
       "      <th></th>\n",
       "      <th>A</th>\n",
       "      <th>B</th>\n",
       "    </tr>\n",
       "  </thead>\n",
       "  <tbody>\n",
       "    <tr>\n",
       "      <th>1</th>\n",
       "      <td>A1</td>\n",
       "      <td>B1</td>\n",
       "    </tr>\n",
       "    <tr>\n",
       "      <th>2</th>\n",
       "      <td>A2</td>\n",
       "      <td>B2</td>\n",
       "    </tr>\n",
       "    <tr>\n",
       "      <th>3</th>\n",
       "      <td>A3</td>\n",
       "      <td>B3</td>\n",
       "    </tr>\n",
       "    <tr>\n",
       "      <th>4</th>\n",
       "      <td>A4</td>\n",
       "      <td>B4</td>\n",
       "    </tr>\n",
       "  </tbody>\n",
       "</table>\n",
       "</div>"
      ],
      "text/plain": [
       "    A   B\n",
       "1  A1  B1\n",
       "2  A2  B2\n",
       "3  A3  B3\n",
       "4  A4  B4"
      ]
     },
     "execution_count": 376,
     "metadata": {},
     "output_type": "execute_result"
    }
   ],
   "source": [
    "df1.append(df2)"
   ]
  },
  {
   "cell_type": "code",
   "execution_count": 362,
   "metadata": {},
   "outputs": [],
   "source": [
    "#enter solution\n"
   ]
  },
  {
   "cell_type": "markdown",
   "metadata": {
    "solution2": "hidden",
    "solution2_first": true
   },
   "source": [
    "#### Task 10 Combining Datasets: Merge and Join\n",
    "\n",
    "10.1  Merge the two following df's"
   ]
  },
  {
   "cell_type": "code",
   "execution_count": 383,
   "metadata": {
    "solution2": "hidden"
   },
   "outputs": [
    {
     "name": "stdout",
     "output_type": "stream",
     "text": [
      "  employee        group\n",
      "0      Bob   Accounting\n",
      "1     Jake  Engineering\n",
      "2     Lisa  Engineering\n",
      "3      Sue           HR\n",
      "  employee  hire_date\n",
      "0     Lisa       2004\n",
      "1      Bob       2008\n",
      "2     Jake       2012\n",
      "3      Sue       2014\n",
      "  employee        group  hire_date\n",
      "0      Bob   Accounting       2008\n",
      "1     Jake  Engineering       2012\n",
      "2     Lisa  Engineering       2004\n",
      "3      Sue           HR       2014\n"
     ]
    }
   ],
   "source": [
    "df1 = pd.DataFrame({\"employee\": [\"Bob\", \"Jake\", \"Lisa\", \"Sue\"], \n",
    "                    \"group\": [\"Accounting\", \"Engineering\", \"Engineering\", \"HR\"]})\n",
    "df2 = pd.DataFrame({\"employee\": [\"Lisa\", \"Bob\", \"Jake\", \"Sue\"], \"hire_date\": [2004,2008,2012,2014]})\n",
    "print(df1),print(df2)\n",
    "df3 = df1.merge(df2)\n",
    "print(df3)"
   ]
  },
  {
   "cell_type": "code",
   "execution_count": 380,
   "metadata": {},
   "outputs": [],
   "source": [
    "df1 = pd.DataFrame({\"employee\": [\"Bob\", \"Jake\", \"Lisa\", \"Sue\"], \n",
    "                    \"group\": [\"Accounting\", \"Engineering\", \"Engineering\", \"HR\"]})\n",
    "df2 = pd.DataFrame({\"employee\": [\"Lisa\", \"Bob\", \"Jake\", \"Sue\"], \"hire_date\": [2004,2008,2012,2014]})\n",
    "\n",
    "#enter solution\n"
   ]
  },
  {
   "cell_type": "markdown",
   "metadata": {
    "solution2": "hidden",
    "solution2_first": true
   },
   "source": [
    "10.2 Merge **df3** with the following df"
   ]
  },
  {
   "cell_type": "code",
   "execution_count": 386,
   "metadata": {
    "solution2": "hidden"
   },
   "outputs": [
    {
     "name": "stdout",
     "output_type": "stream",
     "text": [
      "  employee        group  hire_date\n",
      "0      Bob   Accounting       2008\n",
      "1     Jake  Engineering       2012\n",
      "2     Lisa  Engineering       2004\n",
      "3      Sue           HR       2014\n",
      "         group supervisor\n",
      "0   Accounting      Carly\n",
      "1  Engineering      Guido\n",
      "2           HR      Steve\n"
     ]
    },
    {
     "data": {
      "text/html": [
       "<div>\n",
       "<style scoped>\n",
       "    .dataframe tbody tr th:only-of-type {\n",
       "        vertical-align: middle;\n",
       "    }\n",
       "\n",
       "    .dataframe tbody tr th {\n",
       "        vertical-align: top;\n",
       "    }\n",
       "\n",
       "    .dataframe thead th {\n",
       "        text-align: right;\n",
       "    }\n",
       "</style>\n",
       "<table border=\"1\" class=\"dataframe\">\n",
       "  <thead>\n",
       "    <tr style=\"text-align: right;\">\n",
       "      <th></th>\n",
       "      <th>employee</th>\n",
       "      <th>group</th>\n",
       "      <th>hire_date</th>\n",
       "      <th>supervisor</th>\n",
       "    </tr>\n",
       "  </thead>\n",
       "  <tbody>\n",
       "    <tr>\n",
       "      <th>0</th>\n",
       "      <td>Bob</td>\n",
       "      <td>Accounting</td>\n",
       "      <td>2008</td>\n",
       "      <td>Carly</td>\n",
       "    </tr>\n",
       "    <tr>\n",
       "      <th>1</th>\n",
       "      <td>Jake</td>\n",
       "      <td>Engineering</td>\n",
       "      <td>2012</td>\n",
       "      <td>Guido</td>\n",
       "    </tr>\n",
       "    <tr>\n",
       "      <th>2</th>\n",
       "      <td>Lisa</td>\n",
       "      <td>Engineering</td>\n",
       "      <td>2004</td>\n",
       "      <td>Guido</td>\n",
       "    </tr>\n",
       "    <tr>\n",
       "      <th>3</th>\n",
       "      <td>Sue</td>\n",
       "      <td>HR</td>\n",
       "      <td>2014</td>\n",
       "      <td>Steve</td>\n",
       "    </tr>\n",
       "  </tbody>\n",
       "</table>\n",
       "</div>"
      ],
      "text/plain": [
       "  employee        group  hire_date supervisor\n",
       "0      Bob   Accounting       2008      Carly\n",
       "1     Jake  Engineering       2012      Guido\n",
       "2     Lisa  Engineering       2004      Guido\n",
       "3      Sue           HR       2014      Steve"
      ]
     },
     "execution_count": 386,
     "metadata": {},
     "output_type": "execute_result"
    }
   ],
   "source": [
    "df4 = pd.DataFrame({\"group\": [\"Accounting\", \"Engineering\", \"HR\"], \"supervisor\": [\"Carly\", \"Guido\", \"Steve\"]})\n",
    "print(df3), print(df4)\n",
    "df3.merge(df4)"
   ]
  },
  {
   "cell_type": "code",
   "execution_count": 387,
   "metadata": {},
   "outputs": [],
   "source": [
    "df4 = pd.DataFrame({\"group\": [\"Accounting\", \"Engineering\", \"HR\"], \"supervisor\": [\"Carly\", \"Guido\", \"Steve\"]})\n",
    "\n",
    "#enter solution\n"
   ]
  },
  {
   "cell_type": "markdown",
   "metadata": {
    "solution2": "hidden",
    "solution2_first": true
   },
   "source": [
    "10.3 Merge **df1** with the following df"
   ]
  },
  {
   "cell_type": "code",
   "execution_count": 388,
   "metadata": {
    "solution2": "hidden"
   },
   "outputs": [
    {
     "data": {
      "text/html": [
       "<div>\n",
       "<style scoped>\n",
       "    .dataframe tbody tr th:only-of-type {\n",
       "        vertical-align: middle;\n",
       "    }\n",
       "\n",
       "    .dataframe tbody tr th {\n",
       "        vertical-align: top;\n",
       "    }\n",
       "\n",
       "    .dataframe thead th {\n",
       "        text-align: right;\n",
       "    }\n",
       "</style>\n",
       "<table border=\"1\" class=\"dataframe\">\n",
       "  <thead>\n",
       "    <tr style=\"text-align: right;\">\n",
       "      <th></th>\n",
       "      <th>employee</th>\n",
       "      <th>group</th>\n",
       "      <th>skills</th>\n",
       "    </tr>\n",
       "  </thead>\n",
       "  <tbody>\n",
       "    <tr>\n",
       "      <th>0</th>\n",
       "      <td>Bob</td>\n",
       "      <td>Accounting</td>\n",
       "      <td>math</td>\n",
       "    </tr>\n",
       "    <tr>\n",
       "      <th>1</th>\n",
       "      <td>Bob</td>\n",
       "      <td>Accounting</td>\n",
       "      <td>spreadsheet</td>\n",
       "    </tr>\n",
       "    <tr>\n",
       "      <th>2</th>\n",
       "      <td>Jake</td>\n",
       "      <td>Engineering</td>\n",
       "      <td>coding</td>\n",
       "    </tr>\n",
       "    <tr>\n",
       "      <th>3</th>\n",
       "      <td>Jake</td>\n",
       "      <td>Engineering</td>\n",
       "      <td>linux</td>\n",
       "    </tr>\n",
       "    <tr>\n",
       "      <th>4</th>\n",
       "      <td>Lisa</td>\n",
       "      <td>Engineering</td>\n",
       "      <td>coding</td>\n",
       "    </tr>\n",
       "    <tr>\n",
       "      <th>5</th>\n",
       "      <td>Lisa</td>\n",
       "      <td>Engineering</td>\n",
       "      <td>linux</td>\n",
       "    </tr>\n",
       "    <tr>\n",
       "      <th>6</th>\n",
       "      <td>Sue</td>\n",
       "      <td>HR</td>\n",
       "      <td>spreadsheet</td>\n",
       "    </tr>\n",
       "    <tr>\n",
       "      <th>7</th>\n",
       "      <td>Sue</td>\n",
       "      <td>HR</td>\n",
       "      <td>organization</td>\n",
       "    </tr>\n",
       "  </tbody>\n",
       "</table>\n",
       "</div>"
      ],
      "text/plain": [
       "  employee        group        skills\n",
       "0      Bob   Accounting          math\n",
       "1      Bob   Accounting   spreadsheet\n",
       "2     Jake  Engineering        coding\n",
       "3     Jake  Engineering         linux\n",
       "4     Lisa  Engineering        coding\n",
       "5     Lisa  Engineering         linux\n",
       "6      Sue           HR   spreadsheet\n",
       "7      Sue           HR  organization"
      ]
     },
     "execution_count": 388,
     "metadata": {},
     "output_type": "execute_result"
    }
   ],
   "source": [
    "df5 = pd.DataFrame({\"group\": [\"Accounting\", \"Accounting\", \"Engineering\", \"Engineering\", \"HR\", \"HR\"], \n",
    "                    \"skills\": [\"math\", \"spreadsheet\", \"coding\", \"linux\", \"spreadsheet\", \"organization\"]})\n",
    "df1.merge(df5)"
   ]
  },
  {
   "cell_type": "code",
   "execution_count": 389,
   "metadata": {},
   "outputs": [],
   "source": [
    "df5 = pd.DataFrame({\"group\": [\"Accounting\", \"Accounting\", \"Engineering\", \"Engineering\", \"HR\", \"HR\"], \n",
    "                    \"skills\": [\"math\", \"spreadsheet\", \"coding\", \"linux\", \"spreadsheet\", \"organization\"]})\n",
    "\n",
    "#enter solution\n"
   ]
  },
  {
   "cell_type": "markdown",
   "metadata": {
    "solution2": "hidden",
    "solution2_first": true
   },
   "source": [
    "10.4 Merge **df1** and **df2** by the column \"employee\""
   ]
  },
  {
   "cell_type": "code",
   "execution_count": 392,
   "metadata": {
    "solution2": "hidden"
   },
   "outputs": [
    {
     "name": "stdout",
     "output_type": "stream",
     "text": [
      "  employee        group\n",
      "0      Bob   Accounting\n",
      "1     Jake  Engineering\n",
      "2     Lisa  Engineering\n",
      "3      Sue           HR\n",
      "  employee  hire_date\n",
      "0     Lisa       2004\n",
      "1      Bob       2008\n",
      "2     Jake       2012\n",
      "3      Sue       2014\n",
      "  employee        group  hire_date\n",
      "0      Bob   Accounting       2008\n",
      "1     Jake  Engineering       2012\n",
      "2     Lisa  Engineering       2004\n",
      "3      Sue           HR       2014\n"
     ]
    }
   ],
   "source": [
    "print(df1), print(df2)\n",
    "print(pd.merge(df1,df2, on=\"employee\"))"
   ]
  },
  {
   "cell_type": "code",
   "execution_count": 393,
   "metadata": {},
   "outputs": [],
   "source": [
    "#enter solution\n"
   ]
  },
  {
   "cell_type": "markdown",
   "metadata": {
    "solution2": "hidden",
    "solution2_first": true
   },
   "source": [
    "10.5 Merge df1 with the following df considering different labels for the same column"
   ]
  },
  {
   "cell_type": "code",
   "execution_count": 394,
   "metadata": {
    "solution2": "hidden"
   },
   "outputs": [
    {
     "name": "stdout",
     "output_type": "stream",
     "text": [
      "  employee        group\n",
      "0      Bob   Accounting\n",
      "1     Jake  Engineering\n",
      "2     Lisa  Engineering\n",
      "3      Sue           HR\n",
      "   name  salary\n",
      "0   Bob   70000\n",
      "1  Jake   80000\n",
      "2  Lisa  120000\n",
      "3   Sue   90000\n",
      "  employee        group  name  salary\n",
      "0      Bob   Accounting   Bob   70000\n",
      "1     Jake  Engineering  Jake   80000\n",
      "2     Lisa  Engineering  Lisa  120000\n",
      "3      Sue           HR   Sue   90000\n"
     ]
    },
    {
     "data": {
      "text/plain": [
       "(None, None, None)"
      ]
     },
     "execution_count": 394,
     "metadata": {},
     "output_type": "execute_result"
    }
   ],
   "source": [
    "df3 = pd.DataFrame({\"name\": [\"Bob\", \"Jake\", \"Lisa\", \"Sue\"], \n",
    "                    \"salary\": [70000, 80000, 120000, 90000]})\n",
    "print(df1), print(df3), print(pd.merge(df1,df3, left_on=\"employee\", right_on=\"name\"))"
   ]
  },
  {
   "cell_type": "code",
   "execution_count": 395,
   "metadata": {},
   "outputs": [],
   "source": [
    "df3 = pd.DataFrame({\"name\": [\"Bob\", \"Jake\", \"Lisa\", \"Sue\"], \n",
    "                    \"salary\": [70000, 80000, 120000, 90000]})\n",
    "\n",
    "#enter solution\n"
   ]
  },
  {
   "cell_type": "markdown",
   "metadata": {
    "solution2": "hidden",
    "solution2_first": true
   },
   "source": [
    "10.6 Merge df1 with df3 considering different labels for the same column and drop the column \"name\""
   ]
  },
  {
   "cell_type": "code",
   "execution_count": 397,
   "metadata": {
    "solution2": "hidden"
   },
   "outputs": [
    {
     "data": {
      "text/html": [
       "<div>\n",
       "<style scoped>\n",
       "    .dataframe tbody tr th:only-of-type {\n",
       "        vertical-align: middle;\n",
       "    }\n",
       "\n",
       "    .dataframe tbody tr th {\n",
       "        vertical-align: top;\n",
       "    }\n",
       "\n",
       "    .dataframe thead th {\n",
       "        text-align: right;\n",
       "    }\n",
       "</style>\n",
       "<table border=\"1\" class=\"dataframe\">\n",
       "  <thead>\n",
       "    <tr style=\"text-align: right;\">\n",
       "      <th></th>\n",
       "      <th>employee</th>\n",
       "      <th>group</th>\n",
       "      <th>salary</th>\n",
       "    </tr>\n",
       "  </thead>\n",
       "  <tbody>\n",
       "    <tr>\n",
       "      <th>0</th>\n",
       "      <td>Bob</td>\n",
       "      <td>Accounting</td>\n",
       "      <td>70000</td>\n",
       "    </tr>\n",
       "    <tr>\n",
       "      <th>1</th>\n",
       "      <td>Jake</td>\n",
       "      <td>Engineering</td>\n",
       "      <td>80000</td>\n",
       "    </tr>\n",
       "    <tr>\n",
       "      <th>2</th>\n",
       "      <td>Lisa</td>\n",
       "      <td>Engineering</td>\n",
       "      <td>120000</td>\n",
       "    </tr>\n",
       "    <tr>\n",
       "      <th>3</th>\n",
       "      <td>Sue</td>\n",
       "      <td>HR</td>\n",
       "      <td>90000</td>\n",
       "    </tr>\n",
       "  </tbody>\n",
       "</table>\n",
       "</div>"
      ],
      "text/plain": [
       "  employee        group  salary\n",
       "0      Bob   Accounting   70000\n",
       "1     Jake  Engineering   80000\n",
       "2     Lisa  Engineering  120000\n",
       "3      Sue           HR   90000"
      ]
     },
     "execution_count": 397,
     "metadata": {},
     "output_type": "execute_result"
    }
   ],
   "source": [
    "pd.merge(df1,df3, left_on= \"employee\", right_on= \"name\").drop(\"name\", axis=1)"
   ]
  },
  {
   "cell_type": "code",
   "execution_count": 398,
   "metadata": {},
   "outputs": [],
   "source": [
    "#enter solution\n"
   ]
  },
  {
   "cell_type": "markdown",
   "metadata": {
    "solution2": "hidden",
    "solution2_first": true
   },
   "source": [
    "10.7 Set the indices from **df1** and **df2** to \"employee\" and save it as **df1a** and **df2a** "
   ]
  },
  {
   "cell_type": "code",
   "execution_count": 399,
   "metadata": {
    "solution2": "hidden"
   },
   "outputs": [
    {
     "name": "stdout",
     "output_type": "stream",
     "text": [
      "                group\n",
      "employee             \n",
      "Bob        Accounting\n",
      "Jake      Engineering\n",
      "Lisa      Engineering\n",
      "Sue                HR\n",
      "          hire_date\n",
      "employee           \n",
      "Lisa           2004\n",
      "Bob            2008\n",
      "Jake           2012\n",
      "Sue            2014\n"
     ]
    },
    {
     "data": {
      "text/plain": [
       "(None, None)"
      ]
     },
     "execution_count": 399,
     "metadata": {},
     "output_type": "execute_result"
    }
   ],
   "source": [
    "df1a = df1.set_index(\"employee\")\n",
    "df2a = df2.set_index(\"employee\")\n",
    "\n",
    "print(df1a), print(df2a)"
   ]
  },
  {
   "cell_type": "code",
   "execution_count": 401,
   "metadata": {},
   "outputs": [],
   "source": [
    "#enter solution\n"
   ]
  },
  {
   "cell_type": "markdown",
   "metadata": {
    "solution2": "hidden",
    "solution2_first": true
   },
   "source": [
    "10.8 Merge **df1a** and **df2a** by index"
   ]
  },
  {
   "cell_type": "code",
   "execution_count": 404,
   "metadata": {
    "solution2": "hidden"
   },
   "outputs": [
    {
     "data": {
      "text/html": [
       "<div>\n",
       "<style scoped>\n",
       "    .dataframe tbody tr th:only-of-type {\n",
       "        vertical-align: middle;\n",
       "    }\n",
       "\n",
       "    .dataframe tbody tr th {\n",
       "        vertical-align: top;\n",
       "    }\n",
       "\n",
       "    .dataframe thead th {\n",
       "        text-align: right;\n",
       "    }\n",
       "</style>\n",
       "<table border=\"1\" class=\"dataframe\">\n",
       "  <thead>\n",
       "    <tr style=\"text-align: right;\">\n",
       "      <th></th>\n",
       "      <th>group</th>\n",
       "      <th>hire_date</th>\n",
       "    </tr>\n",
       "    <tr>\n",
       "      <th>employee</th>\n",
       "      <th></th>\n",
       "      <th></th>\n",
       "    </tr>\n",
       "  </thead>\n",
       "  <tbody>\n",
       "    <tr>\n",
       "      <th>Bob</th>\n",
       "      <td>Accounting</td>\n",
       "      <td>2008</td>\n",
       "    </tr>\n",
       "    <tr>\n",
       "      <th>Jake</th>\n",
       "      <td>Engineering</td>\n",
       "      <td>2012</td>\n",
       "    </tr>\n",
       "    <tr>\n",
       "      <th>Lisa</th>\n",
       "      <td>Engineering</td>\n",
       "      <td>2004</td>\n",
       "    </tr>\n",
       "    <tr>\n",
       "      <th>Sue</th>\n",
       "      <td>HR</td>\n",
       "      <td>2014</td>\n",
       "    </tr>\n",
       "  </tbody>\n",
       "</table>\n",
       "</div>"
      ],
      "text/plain": [
       "                group  hire_date\n",
       "employee                        \n",
       "Bob        Accounting       2008\n",
       "Jake      Engineering       2012\n",
       "Lisa      Engineering       2004\n",
       "Sue                HR       2014"
      ]
     },
     "execution_count": 404,
     "metadata": {},
     "output_type": "execute_result"
    }
   ],
   "source": [
    "pd.merge(df1a, df2a, left_index=True, right_index=True)\n",
    "#or\n",
    "df1a.join(df2a)"
   ]
  },
  {
   "cell_type": "code",
   "execution_count": 405,
   "metadata": {},
   "outputs": [],
   "source": [
    "#enter solution\n"
   ]
  },
  {
   "cell_type": "markdown",
   "metadata": {
    "solution2": "hidden",
    "solution2_first": true
   },
   "source": [
    "10.9 Merge the following two df's, getting only the intersection of the two df's"
   ]
  },
  {
   "cell_type": "code",
   "execution_count": 407,
   "metadata": {
    "solution2": "hidden"
   },
   "outputs": [
    {
     "name": "stdout",
     "output_type": "stream",
     "text": [
      "    name   food\n",
      "0  Peter   fish\n",
      "1   Paul  beans\n",
      "2   Mary  bread\n",
      "     name drink\n",
      "0    Mary  wine\n",
      "1  Joseph  beer\n",
      "   name   food drink\n",
      "0  Mary  bread  wine\n"
     ]
    },
    {
     "data": {
      "text/plain": [
       "(None, None, None)"
      ]
     },
     "execution_count": 407,
     "metadata": {},
     "output_type": "execute_result"
    }
   ],
   "source": [
    "df6 = pd.DataFrame({\"name\": [\"Peter\", \"Paul\", \"Mary\"], \n",
    "                    \"food\": [\"fish\", \"beans\", \"bread\"]}, \n",
    "                   columns= [\"name\", \"food\"])\n",
    "df7 = pd.DataFrame({\"name\": [\"Mary\", \"Joseph\"], \n",
    "                    \"drink\": [\"wine\", \"beer\"]},\n",
    "                   columns= [\"name\", \"drink\"])\n",
    "print(df6), print(df7), print(pd.merge(df6,df7))"
   ]
  },
  {
   "cell_type": "code",
   "execution_count": 408,
   "metadata": {},
   "outputs": [],
   "source": [
    "df6 = pd.DataFrame({\"name\": [\"Peter\", \"Paul\", \"Mary\"], \n",
    "                    \"food\": [\"fish\", \"beans\", \"bread\"]}, \n",
    "                   columns= [\"name\", \"food\"])\n",
    "df7 = pd.DataFrame({\"name\": [\"Mary\", \"Joseph\"], \n",
    "                    \"drink\": [\"wine\", \"beer\"]},\n",
    "                   columns= [\"name\", \"drink\"])\n",
    "\n",
    "#enter solution\n"
   ]
  },
  {
   "cell_type": "markdown",
   "metadata": {
    "solution2": "hidden",
    "solution2_first": true
   },
   "source": [
    "10.10 Merge **df6** and **df7**, getting the union of the two df's"
   ]
  },
  {
   "cell_type": "code",
   "execution_count": 409,
   "metadata": {
    "solution2": "hidden"
   },
   "outputs": [
    {
     "data": {
      "text/html": [
       "<div>\n",
       "<style scoped>\n",
       "    .dataframe tbody tr th:only-of-type {\n",
       "        vertical-align: middle;\n",
       "    }\n",
       "\n",
       "    .dataframe tbody tr th {\n",
       "        vertical-align: top;\n",
       "    }\n",
       "\n",
       "    .dataframe thead th {\n",
       "        text-align: right;\n",
       "    }\n",
       "</style>\n",
       "<table border=\"1\" class=\"dataframe\">\n",
       "  <thead>\n",
       "    <tr style=\"text-align: right;\">\n",
       "      <th></th>\n",
       "      <th>name</th>\n",
       "      <th>food</th>\n",
       "      <th>drink</th>\n",
       "    </tr>\n",
       "  </thead>\n",
       "  <tbody>\n",
       "    <tr>\n",
       "      <th>0</th>\n",
       "      <td>Peter</td>\n",
       "      <td>fish</td>\n",
       "      <td>NaN</td>\n",
       "    </tr>\n",
       "    <tr>\n",
       "      <th>1</th>\n",
       "      <td>Paul</td>\n",
       "      <td>beans</td>\n",
       "      <td>NaN</td>\n",
       "    </tr>\n",
       "    <tr>\n",
       "      <th>2</th>\n",
       "      <td>Mary</td>\n",
       "      <td>bread</td>\n",
       "      <td>wine</td>\n",
       "    </tr>\n",
       "    <tr>\n",
       "      <th>3</th>\n",
       "      <td>Joseph</td>\n",
       "      <td>NaN</td>\n",
       "      <td>beer</td>\n",
       "    </tr>\n",
       "  </tbody>\n",
       "</table>\n",
       "</div>"
      ],
      "text/plain": [
       "     name   food drink\n",
       "0   Peter   fish   NaN\n",
       "1    Paul  beans   NaN\n",
       "2    Mary  bread  wine\n",
       "3  Joseph    NaN  beer"
      ]
     },
     "execution_count": 409,
     "metadata": {},
     "output_type": "execute_result"
    }
   ],
   "source": [
    "pd.merge(df6,df7, how= \"outer\")"
   ]
  },
  {
   "cell_type": "code",
   "execution_count": 410,
   "metadata": {},
   "outputs": [],
   "source": [
    "#enter solution\n"
   ]
  },
  {
   "cell_type": "markdown",
   "metadata": {
    "solution2": "hidden",
    "solution2_first": true
   },
   "source": [
    "10.11 Merge **df6** and **df7**, getting only range of df6"
   ]
  },
  {
   "cell_type": "code",
   "execution_count": 413,
   "metadata": {
    "solution2": "hidden"
   },
   "outputs": [
    {
     "data": {
      "text/html": [
       "<div>\n",
       "<style scoped>\n",
       "    .dataframe tbody tr th:only-of-type {\n",
       "        vertical-align: middle;\n",
       "    }\n",
       "\n",
       "    .dataframe tbody tr th {\n",
       "        vertical-align: top;\n",
       "    }\n",
       "\n",
       "    .dataframe thead th {\n",
       "        text-align: right;\n",
       "    }\n",
       "</style>\n",
       "<table border=\"1\" class=\"dataframe\">\n",
       "  <thead>\n",
       "    <tr style=\"text-align: right;\">\n",
       "      <th></th>\n",
       "      <th>name</th>\n",
       "      <th>food</th>\n",
       "      <th>drink</th>\n",
       "    </tr>\n",
       "  </thead>\n",
       "  <tbody>\n",
       "    <tr>\n",
       "      <th>0</th>\n",
       "      <td>Peter</td>\n",
       "      <td>fish</td>\n",
       "      <td>NaN</td>\n",
       "    </tr>\n",
       "    <tr>\n",
       "      <th>1</th>\n",
       "      <td>Paul</td>\n",
       "      <td>beans</td>\n",
       "      <td>NaN</td>\n",
       "    </tr>\n",
       "    <tr>\n",
       "      <th>2</th>\n",
       "      <td>Mary</td>\n",
       "      <td>bread</td>\n",
       "      <td>wine</td>\n",
       "    </tr>\n",
       "  </tbody>\n",
       "</table>\n",
       "</div>"
      ],
      "text/plain": [
       "    name   food drink\n",
       "0  Peter   fish   NaN\n",
       "1   Paul  beans   NaN\n",
       "2   Mary  bread  wine"
      ]
     },
     "execution_count": 413,
     "metadata": {},
     "output_type": "execute_result"
    }
   ],
   "source": [
    "pd.merge(df6,df7, how=\"left\")"
   ]
  },
  {
   "cell_type": "code",
   "execution_count": 414,
   "metadata": {},
   "outputs": [],
   "source": [
    "#enter solution\n"
   ]
  },
  {
   "cell_type": "markdown",
   "metadata": {
    "solution2": "hidden",
    "solution2_first": true
   },
   "source": [
    "10.11 Merge **df6** and **df7**, getting only range of df7"
   ]
  },
  {
   "cell_type": "code",
   "execution_count": 415,
   "metadata": {
    "solution2": "hidden"
   },
   "outputs": [
    {
     "data": {
      "text/html": [
       "<div>\n",
       "<style scoped>\n",
       "    .dataframe tbody tr th:only-of-type {\n",
       "        vertical-align: middle;\n",
       "    }\n",
       "\n",
       "    .dataframe tbody tr th {\n",
       "        vertical-align: top;\n",
       "    }\n",
       "\n",
       "    .dataframe thead th {\n",
       "        text-align: right;\n",
       "    }\n",
       "</style>\n",
       "<table border=\"1\" class=\"dataframe\">\n",
       "  <thead>\n",
       "    <tr style=\"text-align: right;\">\n",
       "      <th></th>\n",
       "      <th>name</th>\n",
       "      <th>food</th>\n",
       "      <th>drink</th>\n",
       "    </tr>\n",
       "  </thead>\n",
       "  <tbody>\n",
       "    <tr>\n",
       "      <th>0</th>\n",
       "      <td>Mary</td>\n",
       "      <td>bread</td>\n",
       "      <td>wine</td>\n",
       "    </tr>\n",
       "    <tr>\n",
       "      <th>1</th>\n",
       "      <td>Joseph</td>\n",
       "      <td>NaN</td>\n",
       "      <td>beer</td>\n",
       "    </tr>\n",
       "  </tbody>\n",
       "</table>\n",
       "</div>"
      ],
      "text/plain": [
       "     name   food drink\n",
       "0    Mary  bread  wine\n",
       "1  Joseph    NaN  beer"
      ]
     },
     "execution_count": 415,
     "metadata": {},
     "output_type": "execute_result"
    }
   ],
   "source": [
    "pd.merge(df6,df7, how=\"right\")"
   ]
  },
  {
   "cell_type": "code",
   "execution_count": 416,
   "metadata": {},
   "outputs": [],
   "source": [
    "#enter solution\n"
   ]
  },
  {
   "cell_type": "markdown",
   "metadata": {
    "solution2": "hidden",
    "solution2_first": true
   },
   "source": [
    "10.12 Merge the following df's, getting both data for the same column name "
   ]
  },
  {
   "cell_type": "code",
   "execution_count": 417,
   "metadata": {
    "solution2": "hidden"
   },
   "outputs": [
    {
     "name": "stdout",
     "output_type": "stream",
     "text": [
      "   name  rank\n",
      "0   Bob     1\n",
      "1  Jake     2\n",
      "2  Lisa     3\n",
      "3   Sue     4\n",
      "   name  rank\n",
      "0   Bob     3\n",
      "1  Jake     1\n",
      "2  Lisa     4\n",
      "3   Sue     2\n",
      "   name  rank_x  rank_y\n",
      "0   Bob       1       3\n",
      "1  Jake       2       1\n",
      "2  Lisa       3       4\n",
      "3   Sue       4       2\n"
     ]
    },
    {
     "data": {
      "text/plain": [
       "(None, None, None)"
      ]
     },
     "execution_count": 417,
     "metadata": {},
     "output_type": "execute_result"
    }
   ],
   "source": [
    "df8 = pd.DataFrame({\"name\": [\"Bob\", \"Jake\", \"Lisa\", \"Sue\"], \n",
    "                   \"rank\": [1,2,3,4]})\n",
    "df9 = pd.DataFrame({\"name\": [\"Bob\", \"Jake\", \"Lisa\", \"Sue\"],\n",
    "                   \"rank\": [3,1,4,2]})\n",
    "\n",
    "print(df8), print(df9), print(pd.merge(df8,df9, on=\"name\"))"
   ]
  },
  {
   "cell_type": "code",
   "execution_count": 418,
   "metadata": {},
   "outputs": [],
   "source": [
    "df8 = pd.DataFrame({\"name\": [\"Bob\", \"Jake\", \"Lisa\", \"Sue\"], \n",
    "                   \"rank\": [1,2,3,4]})\n",
    "df9 = pd.DataFrame({\"name\": [\"Bob\", \"Jake\", \"Lisa\", \"Sue\"],\n",
    "                   \"rank\": [3,1,4,2]})\n",
    "\n",
    "#enter solution\n"
   ]
  },
  {
   "cell_type": "markdown",
   "metadata": {
    "solution2": "hidden",
    "solution2_first": true
   },
   "source": [
    "10.13 Merge **df8** and **df9**, getting both data for the same column name and change the suffix to _L and _R "
   ]
  },
  {
   "cell_type": "code",
   "execution_count": 419,
   "metadata": {
    "solution2": "hidden"
   },
   "outputs": [
    {
     "data": {
      "text/html": [
       "<div>\n",
       "<style scoped>\n",
       "    .dataframe tbody tr th:only-of-type {\n",
       "        vertical-align: middle;\n",
       "    }\n",
       "\n",
       "    .dataframe tbody tr th {\n",
       "        vertical-align: top;\n",
       "    }\n",
       "\n",
       "    .dataframe thead th {\n",
       "        text-align: right;\n",
       "    }\n",
       "</style>\n",
       "<table border=\"1\" class=\"dataframe\">\n",
       "  <thead>\n",
       "    <tr style=\"text-align: right;\">\n",
       "      <th></th>\n",
       "      <th>name</th>\n",
       "      <th>rank_L</th>\n",
       "      <th>rank_R</th>\n",
       "    </tr>\n",
       "  </thead>\n",
       "  <tbody>\n",
       "    <tr>\n",
       "      <th>0</th>\n",
       "      <td>Bob</td>\n",
       "      <td>1</td>\n",
       "      <td>3</td>\n",
       "    </tr>\n",
       "    <tr>\n",
       "      <th>1</th>\n",
       "      <td>Jake</td>\n",
       "      <td>2</td>\n",
       "      <td>1</td>\n",
       "    </tr>\n",
       "    <tr>\n",
       "      <th>2</th>\n",
       "      <td>Lisa</td>\n",
       "      <td>3</td>\n",
       "      <td>4</td>\n",
       "    </tr>\n",
       "    <tr>\n",
       "      <th>3</th>\n",
       "      <td>Sue</td>\n",
       "      <td>4</td>\n",
       "      <td>2</td>\n",
       "    </tr>\n",
       "  </tbody>\n",
       "</table>\n",
       "</div>"
      ],
      "text/plain": [
       "   name  rank_L  rank_R\n",
       "0   Bob       1       3\n",
       "1  Jake       2       1\n",
       "2  Lisa       3       4\n",
       "3   Sue       4       2"
      ]
     },
     "execution_count": 419,
     "metadata": {},
     "output_type": "execute_result"
    }
   ],
   "source": [
    "pd.merge(df8,df9, on=\"name\", suffixes= [\"_L\", \"_R\"])"
   ]
  },
  {
   "cell_type": "code",
   "execution_count": 420,
   "metadata": {},
   "outputs": [],
   "source": [
    "#enter solution\n"
   ]
  },
  {
   "cell_type": "markdown",
   "metadata": {
    "solution": "hidden",
    "solution_first": true
   },
   "source": [
    "#### Task 11 Example: US States Data\n",
    "\n",
    "Downloading Datasets from Github"
   ]
  },
  {
   "cell_type": "code",
   "execution_count": 421,
   "metadata": {
    "solution": "hidden"
   },
   "outputs": [
    {
     "name": "stdout",
     "output_type": "stream",
     "text": [
      "state/region,ages,year,population\n",
      "AL,under18,2012,1117489\n",
      "AL,total,2012,4817528\n",
      "AL,under18,2010,1130966\n",
      "AL,total,2010,4785570\n",
      "AL,under18,2011,1125763\n",
      "AL,total,2011,4801627\n",
      "AL,total,2009,4757938\n",
      "AL,under18,2009,1134192\n",
      "AL,under18,2013,1111481\n",
      "AL,total,2013,4833722\n",
      "AL,total,2007,4672840\n",
      "AL,under18,2007,1132296\n",
      "AL,total,2008,4718206\n",
      "AL,under18,2008,1134927\n",
      "AL,total,2005,4569805\n",
      "AL,under18,2005,1117229\n",
      "AL,total,2006,4628981\n",
      "AL,under18,2006,1126798\n",
      "AL,total,2004,4530729\n",
      "AL,under18,2004,1113662\n",
      "AL,total,2003,4503491\n",
      "AL,under18,2003,1113083\n",
      "AL,total,2001,4467634\n",
      "AL,under18,2001,1120409\n",
      "AL,total,2002,4480089\n",
      "AL,under18,2002,1116590\n",
      "AL,under18,1999,1121287\n",
      "AL,total,1999,4430141\n",
      "AL,total,2000,4452173\n",
      "AL,under18,2000,1122273\n",
      "AL,total,1998,4404701\n",
      "AL,under18,1998,1118252\n",
      "AL,under18,1997,1122893\n",
      "AL,total,1997,4367935\n",
      "AL,total,1996,4331103\n",
      "AL,total,1995,4296800\n",
      "AL,under18,1995,1110553\n",
      "AL,under18,1996,1112092\n",
      "AL,total,1994,4260229\n",
      "AL,total,1993,4214202\n",
      "AL,under18,1993,1085606\n",
      "AL,under18,1994,1097180\n",
      "AL,under18,1992,1072873\n",
      "AL,total,1992,4154014\n",
      "AL,total,1991,4099156\n",
      "AL,under18,1991,1060794\n",
      "AL,under18,1990,1050041\n",
      "AL,total,1990,4050055\n",
      "AK,total,1990,553290\n",
      "AK,under18,1990,177502\n",
      "AK,total,1992,588736\n",
      "AK,under18,1991,182180\n",
      "AK,under18,1992,184878\n",
      "AK,total,1994,603308\n",
      "AK,under18,1994,187439\n",
      "AK,total,1991,570193\n",
      "AK,total,1993,599434\n",
      "AK,under18,1993,187190\n",
      "AK,total,1995,604412\n",
      "AK,under18,1995,184990\n",
      "AK,total,1996,608569\n",
      "AK,under18,1996,185360\n",
      "AK,under18,1997,188280\n",
      "AK,under18,1998,192636\n",
      "AK,total,1998,619933\n",
      "AK,total,1997,612968\n",
      "AK,under18,1999,191422\n",
      "AK,total,1999,624779\n",
      "AK,total,2000,627963\n",
      "AK,under18,2000,190615\n",
      "AK,total,2001,633714\n",
      "AK,under18,2001,188771\n",
      "AK,total,2002,642337\n",
      "AK,under18,2002,188482\n",
      "AK,total,2003,648414\n",
      "AK,under18,2003,186843\n",
      "AK,total,2004,659286\n",
      "AK,under18,2004,186335\n",
      "AK,total,2005,666946\n",
      "AK,under18,2005,185304\n",
      "AK,total,2006,675302\n",
      "AK,under18,2006,185580\n",
      "AK,total,2007,680300\n",
      "AK,under18,2007,184344\n",
      "AK,total,2008,687455\n",
      "AK,under18,2008,183124\n",
      "AK,under18,2013,188132\n",
      "AK,total,2013,735132\n",
      "AK,total,2009,698895\n",
      "AK,under18,2009,186351\n",
      "AK,under18,2010,187902\n",
      "AK,total,2010,713868\n",
      "AK,under18,2011,188329\n",
      "AK,total,2011,723375\n",
      "AK,under18,2012,188162\n",
      "AK,total,2012,730307\n",
      "AZ,under18,2012,1617149\n",
      "AZ,total,2012,6551149\n",
      "AZ,under18,2011,1616353\n",
      "AZ,total,2011,6468796\n",
      "AZ,under18,2010,1628563\n",
      "AZ,total,2010,6408790\n",
      "AZ,under18,2013,1616814\n",
      "AZ,total,2013,6626624\n",
      "AZ,total,2009,6343154\n",
      "AZ,under18,2009,1627343\n",
      "AZ,total,2007,6167681\n",
      "AZ,under18,2007,1607895\n",
      "AZ,total,2008,6280362\n",
      "AZ,under18,2008,1628651\n",
      "AZ,total,2005,5839077\n",
      "AZ,under18,2005,1529168\n",
      "AZ,total,2006,6029141\n",
      "AZ,under18,2006,1574867\n",
      "AZ,total,2004,5652404\n",
      "AZ,under18,2004,1484454\n",
      "AZ,total,2003,5510364\n",
      "AZ,under18,2003,1453671\n",
      "AZ,total,2001,5273477\n",
      "AZ,under18,2001,1399015\n",
      "AZ,total,2002,5396255\n",
      "AZ,under18,2002,1427938\n",
      "AZ,under18,1999,1332396\n",
      "AZ,total,1999,5023823\n",
      "AZ,total,2000,5160586\n",
      "AZ,under18,2000,1373414\n",
      "AZ,total,1998,4883342\n",
      "AZ,under18,1998,1285794\n",
      "AZ,total,1997,4736990\n",
      "AZ,under18,1997,1237159\n",
      "AZ,under18,1996,1215285\n",
      "AZ,total,1996,4586940\n",
      "AZ,total,1995,4432499\n",
      "AZ,under18,1995,1173391\n",
      "AZ,total,1993,4065440\n",
      "AZ,under18,1993,1094233\n",
      "AZ,under18,1994,1119857\n",
      "AZ,total,1994,4245089\n",
      "AZ,under18,1992,1055572\n",
      "AZ,under18,1991,1028285\n",
      "AZ,total,1991,3788576\n",
      "AZ,total,1992,3915740\n",
      "AZ,under18,1990,1006040\n",
      "AZ,total,1990,3684097\n",
      "AR,under18,1990,620933\n",
      "AR,total,1990,2356586\n",
      "AR,total,1991,2383144\n",
      "AR,under18,1991,626212\n",
      "AR,under18,1992,638269\n",
      "AR,total,1992,2415984\n",
      "AR,under18,1994,653842\n",
      "AR,total,1994,2494019\n",
      "AR,total,1993,2456303\n",
      "AR,under18,1993,643474\n",
      "AR,under18,1995,667671\n",
      "AR,total,1995,2535399\n",
      "AR,under18,1996,677912\n",
      "AR,total,1996,2572109\n",
      "AR,under18,1998,683637\n",
      "AR,total,1997,2601091\n",
      "AR,under18,1997,680203\n",
      "AR,total,1998,2626289\n",
      "AR,total,2000,2678588\n",
      "AR,under18,2000,680378\n",
      "AR,under18,1999,681940\n",
      "AR,total,1999,2651860\n",
      "AR,total,2002,2705927\n",
      "AR,under18,2002,678798\n",
      "AR,total,2001,2691571\n",
      "AR,under18,2001,679606\n",
      "AR,total,2004,2749686\n",
      "AR,under18,2004,683166\n",
      "AR,total,2003,2724816\n",
      "AR,under18,2003,679579\n",
      "AR,total,2006,2821761\n",
      "AR,under18,2006,697842\n",
      "AR,total,2005,2781097\n",
      "AR,under18,2005,689787\n",
      "AR,total,2008,2874554\n",
      "AR,under18,2008,705725\n",
      "AR,total,2007,2848650\n",
      "AR,under18,2007,702737\n",
      "AR,total,2009,2896843\n",
      "AR,under18,2009,707886\n",
      "AR,under18,2013,709866\n",
      "AR,total,2013,2959373\n",
      "AR,under18,2011,710576\n",
      "AR,total,2011,2938506\n",
      "AR,under18,2010,711947\n",
      "AR,total,2010,2922280\n",
      "AR,under18,2012,710471\n",
      "AR,total,2012,2949828\n",
      "CA,under18,2012,9209007\n",
      "CA,total,2012,37999878\n",
      "CA,under18,2011,9252336\n",
      "CA,total,2011,37668681\n",
      "CA,under18,2010,9284094\n",
      "CA,total,2010,37333601\n",
      "CA,under18,2013,9174877\n",
      "CA,total,2013,38332521\n",
      "CA,total,2009,36961229\n",
      "CA,under18,2009,9294501\n",
      "CA,total,2007,36250311\n",
      "CA,under18,2007,9335620\n",
      "CA,total,2008,36604337\n",
      "CA,under18,2008,9321621\n",
      "CA,total,2005,35827943\n",
      "CA,under18,2005,9405565\n",
      "CA,total,2006,36021202\n",
      "CA,under18,2006,9370884\n",
      "CA,total,2003,35253159\n",
      "CA,under18,2003,9404594\n",
      "CA,total,2004,35574576\n",
      "CA,under18,2004,9418497\n",
      "CA,total,2001,34479458\n",
      "CA,under18,2001,9325466\n",
      "CA,total,2002,34871843\n",
      "CA,under18,2002,9365142\n",
      "CA,under18,1999,9207878\n",
      "CA,total,1999,33499204\n",
      "CA,total,2000,33987977\n",
      "CA,under18,2000,9267089\n",
      "CA,under18,1998,9163238\n",
      "CA,total,1998,32987675\n",
      "CA,under18,1997,9135359\n",
      "CA,total,1997,32486010\n",
      "CA,under18,1996,9079519\n",
      "CA,total,1996,32018834\n",
      "CA,total,1995,31696582\n",
      "CA,under18,1995,8920578\n",
      "CA,total,1993,31274928\n",
      "CA,under18,1993,8624810\n",
      "CA,under18,1994,8790058\n",
      "CA,total,1994,31484435\n",
      "CA,total,1991,30470736\n",
      "CA,under18,1991,8245605\n",
      "CA,under18,1992,8439647\n",
      "CA,total,1992,30974659\n",
      "CA,under18,1990,7980501\n",
      "CA,total,1990,29959515\n",
      "CO,total,1990,3307618\n",
      "CO,under18,1990,881640\n",
      "CO,total,1992,3495939\n",
      "CO,under18,1992,925577\n",
      "CO,under18,1991,896537\n",
      "CO,total,1991,3387119\n",
      "CO,total,1994,3724168\n",
      "CO,under18,1994,966412\n",
      "CO,under18,1993,947806\n",
      "CO,total,1993,3613734\n",
      "CO,under18,1995,984310\n",
      "CO,total,1995,3826653\n",
      "CO,total,1996,3919972\n",
      "CO,under18,1996,1003946\n",
      "CO,under18,1997,1030557\n",
      "CO,total,1997,4018293\n",
      "CO,total,1998,4116639\n",
      "CO,under18,1998,1060066\n",
      "CO,total,2000,4326921\n",
      "CO,under18,2000,1106676\n",
      "CO,total,1999,4226018\n",
      "CO,under18,1999,1083938\n",
      "CO,total,2002,4490406\n",
      "CO,under18,2002,1138273\n",
      "CO,total,2001,4425687\n",
      "CO,under18,2001,1126647\n",
      "CO,total,2004,4575013\n",
      "CO,under18,2004,1146369\n",
      "CO,total,2003,4528732\n",
      "CO,under18,2003,1144597\n",
      "CO,total,2006,4720423\n",
      "CO,under18,2006,1171832\n",
      "CO,total,2005,4631888\n",
      "CO,under18,2005,1156399\n",
      "CO,total,2008,4889730\n",
      "CO,under18,2008,1203289\n",
      "CO,total,2007,4803868\n",
      "CO,under18,2007,1189434\n",
      "CO,total,2009,4972195\n",
      "CO,under18,2009,1217213\n",
      "CO,under18,2013,1237932\n",
      "CO,total,2013,5268367\n",
      "CO,under18,2010,1226619\n",
      "CO,total,2010,5048196\n",
      "CO,under18,2011,1230178\n",
      "CO,total,2011,5118400\n",
      "CO,under18,2012,1232864\n",
      "CO,total,2012,5189458\n",
      "CT,under18,2012,794959\n",
      "CT,total,2012,3591765\n",
      "CT,under18,2011,805109\n",
      "CT,total,2011,3588948\n",
      "CT,under18,2010,814187\n",
      "CT,total,2010,3579210\n",
      "CT,under18,2013,785566\n",
      "CT,total,2013,3596080\n",
      "CT,total,2009,3561807\n",
      "CT,under18,2009,820839\n",
      "CT,total,2007,3527270\n",
      "CT,under18,2007,833484\n",
      "CT,total,2008,3545579\n",
      "CT,under18,2008,826626\n",
      "CT,total,2005,3506956\n",
      "CT,under18,2005,844034\n",
      "CT,total,2006,3517460\n",
      "CT,under18,2006,839372\n",
      "CT,total,2003,3484336\n",
      "CT,under18,2003,851115\n",
      "CT,total,2004,3496094\n",
      "CT,under18,2004,848979\n",
      "CT,total,2001,3432835\n",
      "CT,under18,2001,845850\n",
      "CT,total,2002,3458749\n",
      "CT,under18,2002,848877\n",
      "CT,total,1999,3386401\n",
      "CT,under18,1999,834654\n",
      "CT,total,2000,3411777\n",
      "CT,under18,2000,842242\n",
      "CT,under18,1998,824600\n",
      "CT,total,1998,3365352\n",
      "CT,total,1997,3349348\n",
      "CT,under18,1997,814373\n",
      "CT,under18,1996,811855\n",
      "CT,total,1996,3336685\n",
      "CT,total,1995,3324144\n",
      "CT,under18,1995,808623\n",
      "CT,total,1993,3309175\n",
      "CT,under18,1993,790749\n",
      "CT,under18,1994,801231\n",
      "CT,total,1994,3316121\n",
      "CT,under18,1991,766304\n",
      "CT,total,1991,3302895\n",
      "CT,under18,1992,777264\n",
      "CT,total,1992,3300712\n",
      "CT,total,1990,3291967\n",
      "CT,under18,1990,752666\n",
      "DE,under18,1990,165628\n",
      "DE,total,1990,669567\n",
      "DE,under18,1992,174166"
     ]
    },
    {
     "name": "stderr",
     "output_type": "stream",
     "text": [
      "  % Total    % Received % Xferd  Average Speed   Time    Time     Time  Current\n",
      "                                 Dload  Upload   Total   Spent    Left  Speed\n",
      "\n",
      "  0     0    0     0    0     0      0      0 --:--:-- --:--:-- --:--:--     0\n",
      "100 57935  100 57935    0     0   175k      0 --:--:-- --:--:-- --:--:--  176k\n"
     ]
    },
    {
     "name": "stdout",
     "output_type": "stream",
     "text": [
      "\n",
      "DE,total,1992,694927\n",
      "DE,total,1991,683080\n",
      "DE,under18,1991,169910\n",
      "DE,total,1994,717545\n",
      "DE,under18,1994,180833\n",
      "DE,total,1993,706378\n",
      "DE,under18,1993,176916\n",
      "DE,under18,1995,181736\n",
      "DE,total,1995,729735\n",
      "DE,total,1996,740978\n",
      "DE,under18,1996,184021\n",
      "DE,under18,1997,186607\n",
      "DE,total,1997,751487\n",
      "DE,total,1998,763335\n",
      "DE,under18,1998,189302\n",
      "DE,total,2000,786373\n",
      "DE,under18,2000,194914\n",
      "DE,total,1999,774990\n",
      "DE,under18,1999,192510\n",
      "DE,total,2002,806169\n",
      "DE,under18,2002,196946\n",
      "DE,total,2001,795699\n",
      "DE,under18,2001,196038\n",
      "DE,total,2004,830803\n",
      "DE,under18,2004,199631\n",
      "DE,total,2003,818003\n",
      "DE,under18,2003,198045\n",
      "DE,total,2006,859268\n",
      "DE,under18,2006,203729\n",
      "DE,total,2005,845150\n",
      "DE,under18,2005,201988\n",
      "DE,total,2008,883874\n",
      "DE,under18,2008,206116\n",
      "DE,total,2007,871749\n",
      "DE,under18,2007,205155\n",
      "DE,under18,2013,203558\n",
      "DE,total,2013,925749\n",
      "DE,total,2009,891730\n",
      "DE,under18,2009,206213\n",
      "DE,under18,2010,205478\n",
      "DE,total,2010,899711\n",
      "DE,under18,2011,204801\n",
      "DE,total,2011,907985\n",
      "DE,under18,2012,204586\n",
      "DE,total,2012,917053\n",
      "DC,under18,2012,107642\n",
      "DC,total,2012,633427\n",
      "DC,under18,2011,103906\n",
      "DC,total,2011,619624\n",
      "DC,under18,2010,101309\n",
      "DC,total,2010,605125\n",
      "DC,under18,2013,111474\n",
      "DC,total,2013,646449\n",
      "DC,total,2009,592228\n",
      "DC,under18,2009,102098\n",
      "DC,total,2007,574404\n",
      "DC,under18,2007,104126\n",
      "DC,total,2008,580236\n",
      "DC,under18,2008,102257\n",
      "DC,total,2005,567136\n",
      "DC,under18,2005,107187\n",
      "DC,total,2006,570681\n",
      "DC,under18,2006,105651\n",
      "DC,total,2003,568502\n",
      "DC,under18,2003,111403\n",
      "DC,total,2004,567754\n",
      "DC,under18,2004,109756\n",
      "DC,total,2001,574504\n",
      "DC,under18,2001,114625\n",
      "DC,total,2002,573158\n",
      "DC,under18,2002,113822\n",
      "DC,total,1999,570220\n",
      "DC,under18,1999,115003\n",
      "DC,total,2000,572046\n",
      "DC,under18,2000,114503\n",
      "DC,under18,1998,113839\n",
      "DC,total,1998,565232\n",
      "DC,under18,1997,119531\n",
      "DC,total,1997,567739\n",
      "DC,under18,1996,121210\n",
      "DC,total,1996,572379\n",
      "DC,total,1995,580519\n",
      "DC,under18,1995,123620\n",
      "DC,total,1993,595302\n",
      "DC,under18,1993,120471\n",
      "DC,under18,1994,122170\n",
      "DC,total,1994,589240\n",
      "DC,total,1991,600870\n",
      "DC,under18,1991,116825\n",
      "DC,under18,1992,118636\n",
      "DC,total,1992,597567\n",
      "DC,under18,1990,112632\n",
      "DC,total,1990,605321\n",
      "FL,total,1990,13033307\n",
      "FL,under18,1990,2988807\n",
      "FL,under18,1991,3045638\n",
      "FL,total,1991,13369798\n",
      "FL,total,1994,14239444\n",
      "FL,under18,1994,3299887\n",
      "FL,under18,1993,3214066\n",
      "FL,total,1993,13927185\n",
      "FL,total,1992,13650553\n",
      "FL,under18,1992,3120439\n",
      "FL,under18,1995,3366468\n",
      "FL,total,1995,14537875\n",
      "FL,total,1996,14853360\n",
      "FL,under18,1996,3431695\n",
      "FL,under18,1998,3557561\n",
      "FL,under18,1997,3502269\n",
      "FL,total,1997,15186304\n",
      "FL,total,1998,15486559\n",
      "FL,total,1999,15759421\n",
      "FL,under18,1999,3611711\n",
      "FL,total,2000,16047515\n",
      "FL,under18,2000,3654880\n",
      "FL,total,2001,16356966\n",
      "FL,under18,2001,3714439\n",
      "FL,total,2002,16689370\n",
      "FL,under18,2002,3774624\n",
      "FL,total,2003,17004085\n",
      "FL,under18,2003,3820876\n",
      "FL,total,2004,17415318\n",
      "FL,under18,2004,3890734\n",
      "FL,total,2005,17842038\n",
      "FL,under18,2005,3968178\n",
      "FL,total,2006,18166990\n",
      "FL,under18,2006,4022912\n",
      "FL,total,2007,18367842\n",
      "FL,under18,2007,4031098\n",
      "FL,total,2008,18527305\n",
      "FL,under18,2008,4018372\n",
      "FL,total,2009,18652644\n",
      "FL,under18,2009,3997283\n",
      "FL,under18,2013,4026674\n",
      "FL,total,2013,19552860\n",
      "FL,under18,2010,3999532\n",
      "FL,total,2010,18846054\n",
      "FL,under18,2011,4002550\n",
      "FL,total,2011,19083482\n",
      "FL,under18,2012,4012421\n",
      "FL,total,2012,19320749\n",
      "GA,total,2012,9915646\n",
      "GA,under18,2012,2487831\n",
      "GA,under18,2011,2488898\n",
      "GA,total,2011,9810181\n",
      "GA,under18,2010,2490884\n",
      "GA,total,2010,9713248\n",
      "GA,total,2013,9992167\n",
      "GA,total,2009,9620846\n",
      "GA,under18,2009,2485781\n",
      "GA,under18,2013,2489709\n",
      "GA,total,2007,9349988\n",
      "GA,under18,2007,2456249\n",
      "GA,total,2008,9504843\n",
      "GA,under18,2008,2479097\n",
      "GA,total,2005,8925922\n",
      "GA,under18,2005,2353604\n",
      "GA,total,2006,9155813\n",
      "GA,under18,2006,2406014\n",
      "GA,total,2003,8622793\n",
      "GA,under18,2003,2278710\n",
      "GA,total,2004,8769252\n",
      "GA,under18,2004,2308855\n",
      "GA,total,2001,8377038\n",
      "GA,under18,2001,2215390\n",
      "GA,total,2002,8508256\n",
      "GA,under18,2002,2249784\n",
      "GA,total,1999,8045965\n",
      "GA,under18,1999,2130698\n",
      "GA,total,2000,8227303\n",
      "GA,under18,2000,2176576\n",
      "GA,total,1997,7685099\n",
      "GA,under18,1997,2034163\n",
      "GA,under18,1998,2078998\n",
      "GA,total,1998,7863536\n",
      "GA,under18,1996,1993171\n",
      "GA,total,1996,7501069\n",
      "GA,total,1995,7328413\n",
      "GA,under18,1995,1949818\n",
      "GA,under18,1992,1817781\n",
      "GA,total,1992,6817203\n",
      "GA,total,1993,6978240\n",
      "GA,under18,1993,1865021\n",
      "GA,under18,1994,1906539\n",
      "GA,total,1994,7157165\n",
      "GA,total,1991,6653005\n",
      "GA,under18,1991,1773675\n",
      "GA,under18,1990,1747363\n",
      "GA,total,1990,6512602\n",
      "HI,under18,1990,279983\n",
      "HI,total,1990,1113491\n",
      "HI,total,1991,1136754\n",
      "HI,under18,1991,287871\n",
      "HI,under18,1994,307517\n",
      "HI,total,1994,1187536\n",
      "HI,total,1993,1172838\n",
      "HI,under18,1993,301473\n",
      "HI,under18,1992,295124\n",
      "HI,total,1992,1158613\n",
      "HI,total,1995,1196854\n",
      "HI,under18,1995,310325\n",
      "HI,under18,1996,311213\n",
      "HI,total,1996,1203755\n",
      "HI,under18,1998,304576\n",
      "HI,total,1998,1215233\n",
      "HI,total,1997,1211640\n",
      "HI,under18,1997,309465\n",
      "HI,total,2000,1213519\n",
      "HI,under18,2000,295352\n",
      "HI,total,1999,1210300\n",
      "HI,under18,1999,299680\n",
      "HI,total,2002,1239613\n",
      "HI,under18,2002,293600\n",
      "HI,total,2001,1225948\n",
      "HI,under18,2001,294133\n",
      "HI,total,2004,1273569\n",
      "HI,under18,2004,298103\n",
      "HI,total,2003,1251154\n",
      "HI,under18,2003,294519\n",
      "HI,total,2006,1309731\n",
      "HI,under18,2006,299313\n",
      "HI,total,2005,1292729\n",
      "HI,under18,2005,298497\n",
      "HI,total,2008,1332213\n",
      "HI,under18,2008,301094\n",
      "HI,total,2007,1315675\n",
      "HI,under18,2007,300207\n",
      "HI,under18,2013,307266\n",
      "HI,total,2009,1346717\n",
      "HI,under18,2009,302796\n",
      "HI,total,2013,1404054\n",
      "HI,total,2010,1363731\n",
      "HI,under18,2010,303812\n",
      "HI,total,2011,1376897\n",
      "HI,under18,2011,305396\n",
      "HI,under18,2012,305981\n",
      "HI,total,2012,1390090\n",
      "ID,total,2012,1595590\n",
      "ID,under18,2012,427177\n",
      "ID,under18,2011,428535\n",
      "ID,total,2011,1583930\n",
      "ID,under18,2010,428961\n",
      "ID,total,2010,1570718\n",
      "ID,total,2013,1612136\n",
      "ID,total,2009,1554439\n",
      "ID,under18,2009,426076\n",
      "ID,under18,2013,427781\n",
      "ID,total,2007,1505105\n",
      "ID,under18,2007,415024\n",
      "ID,total,2008,1534320\n",
      "ID,under18,2008,422347\n",
      "ID,total,2005,1428241\n",
      "ID,under18,2005,394651\n",
      "ID,total,2006,1468669\n",
      "ID,under18,2006,404753\n",
      "ID,total,2003,1363380\n",
      "ID,under18,2003,379241\n",
      "ID,total,2004,1391802\n",
      "ID,under18,2004,384692\n",
      "ID,total,2001,1319962\n",
      "ID,under18,2001,373145\n",
      "ID,total,2002,1340372\n",
      "ID,under18,2002,375986\n",
      "ID,total,1999,1275674\n",
      "ID,under18,1999,366689\n",
      "ID,total,2000,1299430\n",
      "ID,under18,2000,370430\n",
      "ID,total,1997,1228520\n",
      "ID,under18,1997,357779\n",
      "ID,under18,1998,362189\n",
      "ID,total,1998,1252330\n",
      "ID,under18,1996,353824\n",
      "ID,total,1996,1203083\n",
      "ID,total,1995,1177322\n",
      "ID,under18,1995,349248\n",
      "ID,under18,1992,324972\n",
      "ID,total,1992,1071685\n",
      "ID,total,1993,1108768\n",
      "ID,under18,1993,333838\n",
      "ID,under18,1994,344242\n",
      "ID,total,1994,1145140\n",
      "ID,total,1991,1041316\n",
      "ID,under18,1991,316732\n",
      "ID,under18,1990,313373\n",
      "ID,total,1990,1012384\n",
      "IL,under18,1990,2940837\n",
      "IL,total,1990,11453316\n",
      "IL,total,1991,11568964\n",
      "IL,under18,1991,2988715\n",
      "IL,under18,1994,3110938\n",
      "IL,total,1994,11912585\n",
      "IL,total,1993,11809579\n",
      "IL,under18,1993,3066541\n",
      "IL,under18,1992,3033427\n",
      "IL,total,1992,11694184\n",
      "IL,total,1995,12008437\n",
      "IL,under18,1995,3152984\n",
      "IL,under18,1996,3192916\n",
      "IL,total,1996,12101997\n",
      "IL,under18,1998,3225252\n",
      "IL,total,1998,12271847\n",
      "IL,total,1997,12185715\n",
      "IL,under18,1997,3222114\n",
      "IL,total,2000,12434161\n",
      "IL,under18,2000,3244944\n",
      "IL,total,1999,12359020\n",
      "IL,under18,1999,3240034\n",
      "IL,total,2002,12525556\n",
      "IL,under18,2002,3238362\n",
      "IL,total,2001,12488445\n",
      "IL,under18,2001,3243617\n",
      "IL,total,2004,12589773\n",
      "IL,under18,2004,3211599\n",
      "IL,total,2003,12556006\n",
      "IL,under18,2003,3225547\n",
      "IL,total,2006,12643955\n",
      "IL,under18,2006,3181246\n",
      "IL,total,2005,12609903\n",
      "IL,under18,2005,3197318\n",
      "IL,total,2008,12747038\n",
      "IL,under18,2008,3153401\n",
      "IL,total,2007,12695866\n",
      "IL,under18,2007,3170134\n",
      "IL,under18,2013,3023307\n",
      "IL,total,2009,12796778\n",
      "IL,under18,2009,3138406\n",
      "IL,total,2013,12882135\n",
      "IL,total,2010,12839695\n",
      "IL,under18,2010,3122092\n",
      "IL,total,2011,12855970\n",
      "IL,under18,2011,3089833\n",
      "IL,under18,2012,3057042\n",
      "IL,total,2012,12868192\n",
      "IN,total,2012,6537782\n",
      "IN,under18,2012,1589655\n",
      "IN,under18,2011,1598091\n",
      "IN,total,2011,6516336\n",
      "IN,under18,2010,1605883\n",
      "IN,total,2010,6489965\n",
      "IN,total,2013,6570902\n",
      "IN,total,2009,6459325\n",
      "IN,under18,2009,1609704\n",
      "IN,under18,2013,1586027\n",
      "IN,total,2007,6379599\n",
      "IN,under18,2007,1609494\n",
      "IN,total,2008,6424806\n",
      "IN,under18,2008,1611494\n",
      "IN,total,2005,6278616\n",
      "IN,under18,2005,1593898\n",
      "IN,total,2006,6332669\n",
      "IN,under18,2006,1603107\n",
      "IN,total,2003,6196638\n",
      "IN,under18,2003,1582560\n",
      "IN,total,2004,6233007\n",
      "IN,under18,2004,1586281\n",
      "IN,total,2001,6127760\n",
      "IN,under18,2001,1579527\n",
      "IN,total,2002,6155967\n",
      "IN,under18,2002,1580814\n",
      "IN,total,1999,6044970\n",
      "IN,under18,1999,1566079\n",
      "IN,total,2000,6091866\n",
      "IN,under18,2000,1574989\n",
      "IN,total,1997,5955267\n",
      "IN,under18,1997,1539270\n",
      "IN,under18,1998,1551960\n",
      "IN,total,1998,5998881\n",
      "IN,under18,1996,1517961\n",
      "IN,total,1996,5906013\n",
      "IN,total,1995,5851459\n",
      "IN,under18,1995,1507916\n",
      "IN,under18,1992,1461650\n",
      "IN,total,1992,5674547\n",
      "IN,total,1993,5739019\n",
      "IN,under18,1993,1473007\n",
      "IN,under18,1994,1491802\n",
      "IN,total,1994,5793526\n",
      "IN,total,1991,5616388\n",
      "IN,under18,1991,1450759\n",
      "IN,under18,1990,1437209\n",
      "IN,total,1990,5557798\n",
      "IA,under18,1990,719366\n",
      "IA,total,1990,2781018\n",
      "IA,total,1991,2797613\n",
      "IA,under18,1991,724446\n",
      "IA,under18,1994,728397\n",
      "IA,total,1994,2850746\n",
      "IA,total,1993,2836972\n",
      "IA,under18,1993,727751\n",
      "IA,under18,1992,724798\n",
      "IA,total,1992,2818401\n",
      "IA,total,1995,2867373\n",
      "IA,under18,1995,726961\n",
      "IA,under18,1996,729177\n",
      "IA,total,1996,2880001\n",
      "IA,under18,1998,729943\n",
      "IA,total,1998,2902872\n",
      "IA,total,1997,2891119\n",
      "IA,under18,1997,729806\n",
      "IA,total,2000,2929067\n",
      "IA,under18,2000,733337\n",
      "IA,total,1999,2917634\n",
      "IA,under18,1999,732671\n",
      "IA,total,2002,2934234\n",
      "IA,under18,2002,723685\n",
      "IA,total,2001,2931997\n",
      "IA,under18,2001,728601\n",
      "IA,total,2004,2953635\n",
      "IA,under18,2004,718708\n",
      "IA,total,2003,2941999\n",
      "IA,under18,2003,720102\n",
      "IA,total,2006,2982644\n",
      "IA,under18,2006,721703\n",
      "IA,total,2005,2964454\n",
      "IA,under18,2005,718488\n",
      "IA,total,2008,3016734\n",
      "IA,under18,2008,725658\n",
      "IA,total,2007,2999212\n",
      "IA,under18,2007,723632\n",
      "IA,under18,2013,724032\n",
      "IA,total,2009,3032870\n",
      "IA,under18,2009,726969\n",
      "IA,total,2013,3090416\n",
      "IA,total,2010,3050314\n",
      "IA,under18,2010,727717\n",
      "IA,total,2011,3064102\n",
      "IA,under18,2011,725522\n",
      "IA,under18,2012,723917\n",
      "IA,total,2012,3075039\n",
      "KS,total,2012,2885398\n",
      "KS,under18,2012,726668\n",
      "KS,under18,2011,726787\n",
      "KS,total,2011,2869548\n",
      "KS,under18,2010,727729\n",
      "KS,total,2010,2858910\n",
      "KS,total,2013,2893957\n",
      "KS,total,2009,2832704\n",
      "KS,under18,2009,721841\n",
      "KS,under18,2013,724092\n",
      "KS,total,2007,2783785\n",
      "KS,under18,2007,711005\n",
      "KS,total,2008,2808076\n",
      "KS,under18,2008,714689\n",
      "KS,total,2005,2745299\n",
      "KS,under18,2005,704689\n",
      "KS,total,2006,2762931\n",
      "KS,under18,2006,705277\n",
      "KS,total,2003,2723004\n",
      "KS,under18,2003,707847\n",
      "KS,total,2004,2734373\n",
      "KS,under18,2004,705456\n",
      "KS,total,2001,2702162\n",
      "KS,under18,2001,710923\n",
      "KS,total,2002,2713535\n",
      "KS,under18,2002,709416\n",
      "KS,total,1999,2678338\n",
      "KS,under18,1999,713022\n",
      "KS,total,2000,2693681\n",
      "KS,under18,2000,713887\n",
      "KS,total,1997,2635292\n",
      "KS,under18,1997,704001\n",
      "KS,under18,1998,710402\n",
      "KS,total,1998,2660598\n",
      "KS,under18,1996,696298\n",
      "KS,total,1996,2614554\n",
      "KS,total,1995,2601008\n",
      "KS,under18,1995,694124\n",
      "KS,under18,1992,680871\n",
      "KS,total,1992,2532395\n",
      "KS,total,1993,2556547\n",
      "KS,under18,1993,687262\n",
      "KS,under18,1994,693673\n",
      "KS,total,1994,2580513\n",
      "KS,total,1991,2498722\n",
      "KS,under18,1991,672033\n",
      "KS,under18,1990,662641\n",
      "KS,total,1990,2481349\n",
      "KY,under18,1990,945951\n",
      "KY,total,1990,3694048\n",
      "KY,total,1991,3722328\n",
      "KY,under18,1991,951512\n",
      "KY,under18,1994,981439\n",
      "KY,total,1994,3849088\n",
      "KY,total,1993,3812206\n",
      "KY,under18,1993,971134\n",
      "KY,under18,1992,963861\n",
      "KY,total,1992,3765469\n",
      "KY,total,1995,3887427\n",
      "KY,under18,1995,984486\n",
      "KY,under18,1996,987062\n",
      "KY,total,1996,3919536\n",
      "KY,under18,1998,997296\n",
      "KY,total,1998,3985391\n",
      "KY,total,1997,3952747\n",
      "KY,under18,1997,1002609\n",
      "KY,total,2000,4049021\n",
      "KY,under18,2000,994984\n",
      "KY,total,1999,4018053\n",
      "KY,under18,1999,996382\n",
      "KY,total,2002,4089875\n",
      "KY,under18,2002,995251\n",
      "KY,total,2001,4068132\n",
      "KY,under18,2001,994105\n",
      "KY,total,2004,4146101\n",
      "KY,under18,2004,998459\n",
      "KY,total,2003,4117170\n",
      "KY,under18,2003,998485\n",
      "KY,total,2006,4219239\n",
      "KY,under18,2006,1011295\n",
      "KY,total,2005,4182742\n",
      "KY,under18,2005,1004020\n",
      "KY,total,2008,4289878\n",
      "KY,under18,2008,1022001\n",
      "KY,total,2007,4256672\n",
      "KY,under18,2007,1016288\n",
      "KY,under18,2013,1014004\n",
      "KY,total,2009,4317074\n",
      "KY,under18,2009,1021710\n",
      "KY,total,2013,4395295\n",
      "KY,total,2010,4347698\n",
      "KY,under18,2010,1023679\n",
      "KY,total,2011,4366869\n",
      "KY,under18,2011,1021926\n",
      "KY,under18,2012,1017350\n",
      "KY,total,2012,4379730\n",
      "LA,total,2012,4602134\n",
      "LA,under18,2012,1114620\n",
      "LA,under18,2011,1116579\n",
      "LA,total,2011,4575197\n",
      "LA,under18,2010,1118576\n",
      "LA,total,2010,4545392\n",
      "LA,total,2013,4625470\n",
      "LA,total,2009,4491648\n",
      "LA,under18,2009,1114228\n",
      "LA,under18,2013,1112957\n",
      "LA,total,2007,4375581\n",
      "LA,under18,2007,1096642\n",
      "LA,total,2008,4435586\n",
      "LA,under18,2008,1108728\n",
      "LA,total,2005,4576628\n",
      "LA,under18,2005,1177954\n",
      "LA,total,2006,4302665\n",
      "LA,under18,2006,1078779\n",
      "LA,total,2003,4521042\n",
      "LA,under18,2003,1188070\n",
      "LA,total,2004,4552238\n",
      "LA,under18,2004,1182731\n",
      "LA,total,2001,4477875\n",
      "LA,under18,2001,1204187\n",
      "LA,total,2002,4497267\n",
      "LA,under18,2002,1194819\n",
      "LA,total,2000,4471885\n",
      "LA,under18,2000,1217670\n",
      "LA,total,1999,4460811\n",
      "LA,under18,1999,1227167\n",
      "LA,total,1997,4421072\n",
      "LA,under18,1997,1239665\n",
      "LA,under18,1998,1232984\n",
      "LA,total,1998,4440344\n",
      "LA,under18,1996,1244627\n",
      "LA,total,1996,4398877\n",
      "LA,total,1995,4378779\n",
      "LA,under18,1995,1250112\n",
      "LA,under18,1992,1237034\n",
      "LA,total,1992,4293003\n",
      "LA,total,1993,4316428\n",
      "LA,under18,1993,1239161\n",
      "LA,under18,1994,1247631\n",
      "LA,total,1994,4347481\n",
      "LA,total,1991,4253279\n",
      "LA,under18,1991,1222330\n",
      "LA,under18,1990,1205984\n",
      "LA,total,1990,4221532\n",
      "ME,under18,1990,308066\n",
      "ME,total,1990,1231719\n",
      "ME,total,1991,1237081\n",
      "ME,under18,1991,309871\n",
      "ME,under18,1994,311570\n",
      "ME,total,1994,1242662\n",
      "ME,total,1993,1242302\n",
      "ME,under18,1993,310966\n",
      "ME,under18,1992,310679\n",
      "ME,total,1992,1238508\n",
      "ME,total,1995,1243481\n",
      "ME,under18,1995,309173\n",
      "ME,under18,1996,307740\n",
      "ME,total,1996,1249060\n",
      "ME,under18,1998,304496\n",
      "ME,total,1998,1259127\n",
      "ME,total,1997,1254774\n",
      "ME,under18,1997,305097\n",
      "ME,total,1999,1266808\n",
      "ME,under18,1999,302321\n",
      "ME,total,2000,1277072\n",
      "ME,under18,2000,301407\n",
      "ME,total,2002,1295960\n",
      "ME,under18,2002,298595\n",
      "ME,total,2001,1285692\n",
      "ME,under18,2001,300088\n",
      "ME,total,2004,1313688\n",
      "ME,under18,2004,294791\n",
      "ME,total,2003,1306513\n",
      "ME,under18,2003,296786\n",
      "ME,total,2006,1323619\n",
      "ME,under18,2006,288945\n",
      "ME,total,2005,1318787\n",
      "ME,under18,2005,292039\n",
      "ME,total,2008,1330509\n",
      "ME,under18,2008,282204\n",
      "ME,total,2007,1327040\n",
      "ME,under18,2007,286185\n",
      "ME,under18,2013,261276\n",
      "ME,total,2009,1329590\n",
      "ME,under18,2009,277946\n",
      "ME,total,2013,1328302\n",
      "ME,total,2010,1327366\n",
      "ME,under18,2010,273061\n",
      "ME,total,2011,1327844\n",
      "ME,under18,2011,268737\n",
      "ME,under18,2012,264846\n",
      "ME,total,2012,1328501\n",
      "MD,total,2012,5884868\n",
      "MD,under18,2012,1346235\n",
      "MD,under18,2011,1348766\n",
      "MD,total,2011,5840241\n",
      "MD,under18,2010,1351983\n",
      "MD,total,2010,5787193\n",
      "MD,total,2013,5928814\n",
      "MD,total,2009,5730388\n",
      "MD,under18,2009,1353631\n",
      "MD,under18,2013,1344522\n",
      "MD,total,2007,5653408\n",
      "MD,under18,2007,1369563\n",
      "MD,total,2008,5684965\n",
      "MD,under18,2008,1359214\n",
      "MD,total,2005,5592379\n",
      "MD,under18,2005,1382966\n",
      "MD,total,2006,5627367\n",
      "MD,under18,2006,1377756\n",
      "MD,total,2003,5496269\n",
      "MD,under18,2003,1379641\n",
      "MD,total,2004,5546935\n",
      "MD,under18,2004,1383450\n",
      "MD,total,2001,5374691\n",
      "MD,under18,2001,1366552\n",
      "MD,total,2002,5440389\n",
      "MD,under18,2002,1375354\n",
      "MD,total,2000,5311034\n",
      "MD,under18,2000,1356961\n",
      "MD,total,1999,5254509\n",
      "MD,under18,1999,1348659\n",
      "MD,total,1997,5157328\n",
      "MD,under18,1997,1321306\n",
      "MD,under18,1998,1338727\n",
      "MD,total,1998,5204464\n",
      "MD,under18,1996,1303816\n",
      "MD,total,1996,5111986\n",
      "MD,total,1995,5070033\n",
      "MD,under18,1995,1300695\n",
      "MD,under18,1992,1235498\n",
      "MD,total,1992,4923369\n",
      "MD,total,1993,4971889\n",
      "MD,under18,1993,1261738\n",
      "MD,under18,1994,1280772\n",
      "MD,total,1994,5023060\n",
      "MD,total,1991,4867641\n",
      "MD,under18,1991,1208898\n",
      "MD,under18,1990,1180426\n",
      "MD,total,1990,4799770\n",
      "MA,under18,1990,1353806\n",
      "MA,total,1990,6022639\n",
      "MA,total,1991,6018470\n",
      "MA,under18,1991,1375110\n",
      "MA,under18,1994,1437069\n",
      "MA,total,1994,6095241\n",
      "MA,total,1993,6060569\n",
      "MA,under18,1993,1415724\n",
      "MA,under18,1992,1390188\n",
      "MA,total,1992,6028709\n",
      "MA,total,1995,6141445\n",
      "MA,under18,1995,1453489\n",
      "MA,under18,1996,1468614\n",
      "MA,total,1996,6179756\n",
      "MA,under18,1998,1491652\n",
      "MA,total,1998,6271838\n",
      "MA,total,1997,6226058\n",
      "MA,under18,1997,1478203\n",
      "MA,total,1999,6317345\n",
      "MA,under18,1999,1495818\n",
      "MA,total,2000,6361104\n",
      "MA,under18,2000,1501334\n",
      "MA,total,2001,6397634\n",
      "MA,under18,2001,1505028\n",
      "MA,total,2002,6417206\n",
      "MA,under18,2002,1502652\n",
      "MA,total,2004,6412281\n",
      "MA,under18,2004,1479541\n",
      "MA,total,2003,6422565\n",
      "MA,under18,2003,1493372\n",
      "MA,total,2006,6410084\n",
      "MA,under18,2006,1450202\n",
      "MA,total,2005,6403290\n",
      "MA,under18,2005,1464140\n",
      "MA,total,2008,6468967\n",
      "MA,under18,2008,1429727\n",
      "MA,total,2007,6431559\n",
      "MA,under18,2007,1439757\n",
      "MA,under18,2013,1393946\n",
      "MA,total,2009,6517613\n",
      "MA,under18,2009,1422935\n",
      "MA,total,2013,6692824\n",
      "MA,total,2010,6563263\n",
      "MA,under18,2010,1415962\n",
      "MA,total,2011,6606285\n",
      "MA,under18,2011,1407240\n",
      "MA,under18,2012,1399417\n",
      "MA,total,2012,6645303\n",
      "MI,total,2012,9882519\n",
      "MI,under18,2012,2269365\n",
      "MI,under18,2011,2299116\n",
      "MI,total,2011,9874589\n",
      "MI,under18,2010,2333121\n",
      "MI,total,2010,9876149\n",
      "MI,total,2013,9895622\n",
      "MI,total,2009,9901591\n",
      "MI,under18,2009,2372603\n",
      "MI,under18,2013,2245201\n",
      "MI,total,2007,10001284\n",
      "MI,under18,2007,2470063\n",
      "MI,total,2008,9946889\n",
      "MI,under18,2008,2418879\n",
      "MI,total,2005,10051137\n",
      "MI,under18,2005,2531839\n",
      "MI,total,2006,10036081\n",
      "MI,under18,2006,2503548\n",
      "MI,total,2003,10041152\n",
      "MI,under18,2003,2569080\n",
      "MI,total,2004,10055315\n",
      "MI,under18,2004,2553314\n",
      "MI,total,2002,10015710\n",
      "MI,under18,2002,2584310\n",
      "MI,total,2001,9991120\n",
      "MI,under18,2001,2593310\n",
      "MI,total,2000,9952450\n",
      "MI,under18,2000,2596114\n",
      "MI,total,1999,9897116\n",
      "MI,under18,1999,2591944\n",
      "MI,total,1997,9809051\n",
      "MI,under18,1997,2582270\n",
      "MI,under18,1998,2586343\n",
      "MI,total,1998,9847942\n",
      "MI,under18,1996,2569745\n",
      "MI,total,1996,9758645\n",
      "MI,total,1995,9676211\n",
      "MI,under18,1995,2556799\n",
      "MI,under18,1992,2501765\n",
      "MI,total,1992,9479065\n",
      "MI,total,1993,9540114\n",
      "MI,under18,1993,2522249\n",
      "MI,under18,1994,2535196\n",
      "MI,total,1994,9597737\n",
      "MI,total,1991,9400446\n",
      "MI,under18,1991,2484957\n",
      "MI,under18,1990,2459633\n",
      "MI,total,1990,9311319\n",
      "MN,under18,1990,1176680\n",
      "MN,total,1990,4389857\n",
      "MN,total,1991,4440859\n",
      "MN,under18,1991,1191207\n",
      "MN,under18,1994,1238949\n",
      "MN,total,1994,4610355\n",
      "MN,total,1993,4555956\n",
      "MN,under18,1993,1226723\n",
      "MN,under18,1992,1213068\n",
      "MN,total,1992,4495572\n",
      "MN,total,1995,4660180\n",
      "MN,under18,1995,1245932\n",
      "MN,under18,1996,1252722\n",
      "MN,total,1996,4712827\n",
      "MN,under18,1998,1275940\n",
      "MN,total,1998,4813412\n",
      "MN,total,1997,4763390\n",
      "MN,under18,1997,1264250\n",
      "MN,total,1999,4873481\n",
      "MN,under18,1999,1283102\n",
      "MN,total,2000,4933692\n",
      "MN,under18,2000,1289715\n",
      "MN,total,2001,4982796\n",
      "MN,under18,2001,1291261\n",
      "MN,total,2002,5018935\n",
      "MN,under18,2002,1288795\n",
      "MN,total,2004,5087713\n",
      "MN,under18,2004,1281946\n",
      "MN,total,2003,5053572\n",
      "MN,under18,2003,1283687\n",
      "MN,total,2006,5163555\n",
      "MN,under18,2006,1282381\n",
      "MN,total,2005,5119598\n",
      "MN,under18,2005,1280557\n",
      "MN,total,2008,5247018\n",
      "MN,under18,2008,1284179\n",
      "MN,total,2007,5207203\n",
      "MN,under18,2007,1285074\n",
      "MN,under18,2013,1279111\n",
      "MN,total,2009,5281203\n",
      "MN,under18,2009,1284103\n",
      "MN,total,2013,5420380\n",
      "MN,total,2010,5310337\n",
      "MN,under18,2010,1282693\n",
      "MN,total,2011,5347108\n",
      "MN,under18,2011,1280424\n",
      "MN,under18,2012,1278050\n",
      "MN,total,2012,5379646\n",
      "MS,total,2012,2986450\n",
      "MS,under18,2012,742941\n",
      "MS,under18,2011,747742\n",
      "MS,total,2011,2977886\n",
      "MS,under18,2010,754111\n",
      "MS,total,2010,2970047\n",
      "MS,total,2013,2991207\n",
      "MS,total,2009,2958774\n",
      "MS,under18,2009,758539\n",
      "MS,under18,2013,737432\n",
      "MS,total,2007,2928350\n",
      "MS,under18,2007,761171\n",
      "MS,total,2008,2947806\n",
      "MS,under18,2008,760572\n",
      "MS,total,2005,2905943\n",
      "MS,under18,2005,760870\n",
      "MS,total,2006,2904978\n",
      "MS,under18,2006,756990\n",
      "MS,total,2003,2868312\n",
      "MS,under18,2003,759447\n",
      "MS,total,2004,2889010\n",
      "MS,under18,2004,760410\n",
      "MS,total,2002,2858681\n",
      "MS,under18,2002,763148\n",
      "MS,total,2001,2852994\n",
      "MS,under18,2001,768418\n",
      "MS,total,2000,2848353\n",
      "MS,under18,2000,774353\n",
      "MS,total,1999,2828408\n",
      "MS,under18,1999,775662\n",
      "MS,total,1997,2777004\n",
      "MS,under18,1997,774832\n",
      "MS,under18,1998,773721\n",
      "MS,total,1998,2804834\n",
      "MS,under18,1996,769680\n",
      "MS,total,1996,2748085\n",
      "MS,total,1995,2722659\n",
      "MS,under18,1995,767892\n",
      "MS,under18,1992,750224\n",
      "MS,total,1992,2623734\n",
      "MS,total,1993,2655100\n",
      "MS,under18,1993,755820\n",
      "MS,under18,1994,763795\n",
      "MS,total,1994,2688992\n",
      "MS,total,1991,2598733\n",
      "MS,under18,1991,738911\n",
      "MS,under18,1990,733660\n",
      "MS,total,1990,2578897\n",
      "MO,under18,1990,1316423\n",
      "MO,total,1990,5128880\n",
      "MO,total,1991,5170800\n",
      "MO,under18,1991,1332306\n",
      "MO,under18,1994,1378700\n",
      "MO,total,1994,5324497\n",
      "MO,total,1993,5271175\n",
      "MO,under18,1993,1365903\n",
      "MO,under18,1992,1349729\n",
      "MO,total,1992,5217101\n",
      "MO,under18,1996,1408732\n",
      "MO,total,1996,5431553\n",
      "MO,total,1995,5378247\n",
      "MO,under18,1995,1393554\n",
      "MO,under18,1998,1428999\n",
      "MO,total,1998,5521765\n",
      "MO,total,1997,5481193\n",
      "MO,under18,1997,1419837\n",
      "MO,total,1999,5561948\n",
      "MO,under18,1999,1428047\n",
      "MO,total,2000,5607285\n",
      "MO,under18,2000,1428383\n",
      "MO,total,2001,5641142\n",
      "MO,under18,2001,1426575\n",
      "MO,total,2002,5674825\n",
      "MO,under18,2002,1424513\n",
      "MO,total,2004,5747741\n",
      "MO,under18,2004,1420956\n",
      "MO,total,2003,5709403\n",
      "MO,under18,2003,1421927\n",
      "MO,total,2006,5842704\n",
      "MO,under18,2006,1428324\n",
      "MO,total,2005,5790300\n",
      "MO,under18,2005,1422978\n",
      "MO,total,2008,5923916\n",
      "MO,under18,2008,1428945\n",
      "MO,total,2007,5887612\n",
      "MO,under18,2007,1431346\n",
      "MO,under18,2013,1397685\n",
      "MO,total,2009,5961088\n",
      "MO,under18,2009,1426603\n",
      "MO,total,2013,6044171\n",
      "MO,total,2010,5996063\n",
      "MO,under18,2010,1424042\n",
      "MO,total,2011,6010065\n",
      "MO,under18,2011,1414444\n",
      "MO,under18,2012,1405015\n",
      "MO,total,2012,6024522\n",
      "MT,total,2012,1005494\n",
      "MT,under18,2012,222905\n",
      "MT,under18,2011,222977\n",
      "MT,total,2011,997600\n",
      "MT,under18,2010,223292\n",
      "MT,total,2010,990527\n",
      "MT,total,2013,1015165\n",
      "MT,total,2009,983982\n",
      "MT,under18,2009,223675\n",
      "MT,under18,2013,223981\n",
      "MT,total,2007,964706\n",
      "MT,under18,2007,223135\n",
      "MT,total,2008,976415\n",
      "MT,under18,2008,223814\n",
      "MT,total,2005,940102\n",
      "MT,under18,2005,221685\n",
      "MT,total,2006,952692\n",
      "MT,under18,2006,221930\n",
      "MT,total,2003,919630\n",
      "MT,under18,2003,223012\n",
      "MT,total,2004,930009\n",
      "MT,under18,2004,221999\n",
      "MT,total,2002,911667\n",
      "MT,under18,2002,224772\n",
      "MT,total,2001,906961\n",
      "MT,under18,2001,227118\n",
      "MT,total,1999,897508\n",
      "MT,under18,1999,231133\n",
      "MT,total,2000,903773\n",
      "MT,under18,2000,230067\n",
      "MT,total,1997,889865\n",
      "MT,under18,1997,232813\n",
      "MT,under18,1998,231746\n",
      "MT,total,1998,892431\n",
      "MT,total,1995,876553\n",
      "MT,under18,1995,236583\n",
      "MT,under18,1996,235294\n",
      "MT,total,1996,886254\n",
      "MT,under18,1992,230868\n",
      "MT,total,1992,825770\n",
      "MT,total,1993,844761\n",
      "MT,under18,1993,234987\n",
      "MT,under18,1994,237289\n",
      "MT,total,1994,861306\n",
      "MT,total,1991,809680\n",
      "MT,under18,1991,225259\n",
      "MT,under18,1990,223677\n",
      "MT,total,1990,800204\n",
      "NE,under18,1990,430068\n",
      "NE,total,1990,1581660\n",
      "NE,total,1991,1595919\n",
      "NE,under18,1991,434525\n",
      "NE,under18,1994,442589\n",
      "NE,total,1994,1639041\n",
      "NE,total,1993,1625590\n",
      "NE,under18,1993,439313\n",
      "NE,under18,1992,436378\n",
      "NE,total,1992,1611687\n",
      "NE,under18,1996,446841\n",
      "NE,total,1996,1673740\n",
      "NE,total,1995,1656993\n",
      "NE,under18,1995,444418\n",
      "NE,under18,1998,451192\n",
      "NE,total,1998,1695817\n",
      "NE,total,1997,1686418\n",
      "NE,under18,1997,450076\n",
      "NE,total,1999,1704764\n",
      "NE,under18,1999,451047\n",
      "NE,total,2000,1713820\n",
      "NE,under18,2000,450380\n",
      "NE,total,2001,1719836\n",
      "NE,under18,2001,448307\n",
      "NE,total,2002,1728292\n",
      "NE,under18,2002,447714\n",
      "NE,total,2004,1749370\n",
      "NE,under18,2004,448360\n",
      "NE,total,2003,1738643\n",
      "NE,under18,2003,447444\n",
      "NE,total,2006,1772693\n",
      "NE,under18,2006,450098\n",
      "NE,total,2005,1761497\n",
      "NE,under18,2005,448918\n",
      "NE,total,2008,1796378\n",
      "NE,under18,2008,453787\n",
      "NE,total,2007,1783440\n",
      "NE,under18,2007,451946\n",
      "NE,under18,2013,464348\n",
      "NE,total,2009,1812683\n",
      "NE,under18,2009,456543\n",
      "NE,total,2013,1868516\n",
      "NE,total,2010,1829838\n",
      "NE,under18,2010,459621\n",
      "NE,total,2011,1841749\n",
      "NE,under18,2011,460872\n",
      "NE,under18,2012,462673\n",
      "NE,total,2012,1855350\n",
      "NV,total,2012,2754354\n",
      "NV,under18,2012,659655\n",
      "NV,under18,2011,659236\n",
      "NV,total,2011,2717951\n",
      "NV,under18,2010,663180\n",
      "NV,total,2010,2703230\n",
      "NV,total,2013,2790136\n",
      "NV,total,2009,2684665\n",
      "NV,under18,2009,666041\n",
      "NV,under18,2013,661605\n",
      "NV,total,2007,2601072\n",
      "NV,under18,2007,654053\n",
      "NV,total,2008,2653630\n",
      "NV,under18,2008,662621\n",
      "NV,total,2005,2432143\n",
      "NV,under18,2005,611595\n",
      "NV,total,2006,2522658\n",
      "NV,under18,2006,634403\n",
      "NV,total,2003,2248850\n",
      "NV,under18,2003,568963\n",
      "NV,total,2004,2346222\n",
      "NV,under18,2004,591314\n",
      "NV,total,2002,2173791\n",
      "NV,under18,2002,552816\n",
      "NV,total,2001,2098399\n",
      "NV,under18,2001,534708\n",
      "NV,total,1999,1934718\n",
      "NV,under18,1999,493701\n",
      "NV,total,2000,2018741\n",
      "NV,under18,2000,516018\n",
      "NV,total,1997,1764104\n",
      "NV,under18,1997,443626\n",
      "NV,under18,1998,469424\n",
      "NV,total,1998,1853192\n",
      "NV,total,1995,1581578\n",
      "NV,under18,1995,396223\n",
      "NV,under18,1996,419133\n",
      "NV,total,1996,1666320\n",
      "NV,under18,1992,337396\n",
      "NV,total,1992,1351367\n",
      "NV,total,1993,1411215\n",
      "NV,under18,1993,354990\n",
      "NV,under18,1994,376745\n",
      "NV,total,1994,1499298\n",
      "NV,total,1991,1296172\n",
      "NV,under18,1991,325033\n",
      "NV,under18,1990,316406\n",
      "NV,total,1990,1220695\n",
      "NH,under18,1990,277454\n",
      "NH,total,1990,1112384\n",
      "NH,total,1991,1109929\n",
      "NH,under18,1991,281127\n",
      "NH,under18,1994,295563\n",
      "NH,total,1994,1142561\n",
      "NH,total,1993,1129458\n",
      "NH,under18,1993,290409\n",
      "NH,under18,1992,286314\n",
      "NH,total,1992,1117785\n",
      "NH,under18,1996,300161\n",
      "NH,total,1996,1174719\n",
      "NH,total,1995,1157561\n",
      "NH,under18,1995,298246\n",
      "NH,under18,1998,307292\n",
      "NH,total,1998,1205941\n",
      "NH,total,1997,1189425\n",
      "NH,under18,1997,302834\n",
      "NH,total,2000,1239882\n",
      "NH,under18,2000,310352\n",
      "NH,total,1999,1222015\n",
      "NH,under18,1999,308423\n",
      "NH,total,2001,1255517\n",
      "NH,under18,2001,311877\n",
      "NH,total,2002,1269089\n",
      "NH,under18,2002,312743\n",
      "NH,total,2004,1290121\n",
      "NH,under18,2004,309243\n",
      "NH,total,2003,1279840\n",
      "NH,under18,2003,311412\n",
      "NH,total,2005,1298492\n",
      "NH,under18,2005,307403\n",
      "NH,total,2006,1308389\n",
      "NH,under18,2006,305169\n",
      "NH,total,2008,1315906\n",
      "NH,under18,2008,296029\n",
      "NH,total,2007,1312540\n",
      "NH,under18,2007,300918\n",
      "NH,under18,2013,271122\n",
      "NH,total,2009,1316102\n",
      "NH,under18,2009,290850\n",
      "NH,total,2013,1323459\n",
      "NH,total,2010,1316614\n",
      "NH,under18,2010,285702\n",
      "NH,total,2011,1318075\n",
      "NH,under18,2011,280486\n",
      "NH,under18,2012,275818\n",
      "NH,total,2012,1321617\n",
      "NJ,total,2012,8867749\n",
      "NJ,under18,2012,2035106\n",
      "NJ,under18,2011,2049453\n",
      "NJ,total,2011,8836639\n",
      "NJ,under18,2010,2062013\n",
      "NJ,total,2010,8802707\n",
      "NJ,total,2013,8899339\n",
      "NJ,total,2009,8755602\n",
      "NJ,under18,2009,2068684\n",
      "NJ,under18,2013,2022117\n",
      "NJ,total,2007,8677885\n",
      "NJ,under18,2007,2091023\n",
      "NJ,total,2008,8711090\n",
      "NJ,under18,2008,2076366\n",
      "NJ,total,2006,8661679\n",
      "NJ,under18,2006,2106403\n",
      "NJ,total,2005,8651974\n",
      "NJ,under18,2005,2121878\n",
      "NJ,total,2003,8601402\n",
      "NJ,under18,2003,2126014\n",
      "NJ,total,2004,8634561\n",
      "NJ,under18,2004,2129051\n",
      "NJ,total,2002,8552643\n",
      "NJ,under18,2002,2116591\n",
      "NJ,total,2001,8492671\n",
      "NJ,under18,2001,2102838\n",
      "NJ,total,1999,8359592\n",
      "NJ,under18,1999,2066678\n",
      "NJ,total,2000,8430621\n",
      "NJ,under18,2000,2088885\n",
      "NJ,total,1997,8218808\n",
      "NJ,under18,1997,2028349\n",
      "NJ,under18,1998,2042080\n",
      "NJ,total,1998,8287418\n",
      "NJ,total,1995,8083242\n",
      "NJ,under18,1995,1997187\n",
      "NJ,under18,1996,2016502\n",
      "NJ,total,1996,8149596\n",
      "NJ,under18,1992,1890108\n",
      "NJ,total,1992,7880508\n",
      "NJ,total,1993,7948915\n",
      "NJ,under18,1993,1928623\n",
      "NJ,under18,1994,1968232\n",
      "NJ,total,1994,8014306\n",
      "NJ,total,1991,7814676\n",
      "NJ,under18,1991,1849605\n",
      "NJ,under18,1990,1818187\n",
      "NJ,total,1990,7762963\n",
      "NM,total,1990,1521574\n",
      "NM,under18,1990,453538\n",
      "NM,under18,1991,461811\n",
      "NM,total,1991,1555305\n",
      "NM,under18,1994,497542\n",
      "NM,under18,1993,487742\n",
      "NM,total,1993,1636453\n",
      "NM,total,1992,1595442\n",
      "NM,under18,1992,473176\n",
      "NM,total,1994,1682398\n",
      "NM,under18,1996,508100\n",
      "NM,total,1995,1720394\n",
      "NM,under18,1995,504558\n",
      "NM,total,1996,1752326\n",
      "NM,under18,1998,512801\n",
      "NM,total,1998,1793484\n",
      "NM,total,1997,1774839\n",
      "NM,under18,1997,514500\n",
      "NM,under18,1999,511135\n",
      "NM,total,1999,1808082\n",
      "NM,total,2000,1821204\n",
      "NM,under18,2000,508132\n",
      "NM,total,2001,1831690\n",
      "NM,under18,2001,503404\n",
      "NM,total,2002,1855309\n",
      "NM,under18,2002,502779\n",
      "NM,total,2004,1903808\n",
      "NM,under18,2004,501184\n",
      "NM,total,2003,1877574\n",
      "NM,under18,2003,500777\n",
      "NM,total,2005,1932274\n",
      "NM,under18,2005,502612\n",
      "NM,total,2006,1962137\n",
      "NM,under18,2006,505125\n",
      "NM,total,2008,2010662\n",
      "NM,under18,2008,511214\n",
      "NM,total,2007,1990070\n",
      "NM,under18,2007,508725\n",
      "NM,under18,2013,507540\n",
      "NM,total,2013,2085287\n",
      "NM,total,2009,2036802\n",
      "NM,under18,2009,515470\n",
      "NM,total,2010,2064982\n",
      "NM,under18,2010,518763\n",
      "NM,under18,2011,516513\n",
      "NM,total,2011,2077919\n",
      "NM,under18,2012,512314\n",
      "NM,total,2012,2083540\n",
      "NY,total,2012,19576125\n",
      "NY,under18,2012,4264694\n",
      "NY,total,2011,19502728\n",
      "NY,under18,2011,4294555\n",
      "NY,under18,2010,4318033\n",
      "NY,total,2010,19398228\n",
      "NY,total,2009,19307066\n",
      "NY,under18,2009,4342926\n",
      "NY,total,2013,19651127\n",
      "NY,under18,2013,4239976\n",
      "NY,total,2007,19132335\n",
      "NY,under18,2007,4410949\n",
      "NY,total,2008,19212436\n",
      "NY,under18,2008,4372170\n",
      "NY,total,2006,19104631\n",
      "NY,under18,2006,4457777\n",
      "NY,total,2005,19132610\n",
      "NY,under18,2005,4514456\n",
      "NY,total,2003,19175939\n",
      "NY,under18,2003,4619506\n",
      "NY,total,2004,19171567\n",
      "NY,under18,2004,4574065\n",
      "NY,total,2002,19137800\n",
      "NY,under18,2002,4652232\n",
      "NY,total,2001,19082838\n",
      "NY,under18,2001,4672425\n",
      "NY,under18,1999,4672587\n",
      "NY,total,1999,18882725\n",
      "NY,total,2000,19001780\n",
      "NY,under18,2000,4687374\n",
      "NY,under18,1997,4670787\n",
      "NY,total,1997,18656546\n",
      "NY,total,1998,18755906\n",
      "NY,under18,1998,4652140\n",
      "NY,total,1996,18588460\n",
      "NY,under18,1995,4648419\n",
      "NY,total,1995,18524104\n",
      "NY,under18,1996,4667647\n",
      "NY,total,1994,18459470\n",
      "NY,under18,1992,4465539\n",
      "NY,total,1992,18246653\n",
      "NY,total,1993,18374954\n",
      "NY,under18,1993,4538171\n",
      "NY,under18,1994,4605284\n",
      "NY,total,1991,18122510\n",
      "NY,under18,1991,4372727\n",
      "NY,under18,1990,4281643\n",
      "NY,total,1990,18020784\n",
      "NC,under18,1990,1625804\n",
      "NC,total,1990,6664016\n",
      "NC,total,1991,6784280\n",
      "NC,under18,1991,1640394\n",
      "NC,total,1993,7042818\n",
      "NC,under18,1993,1710267\n",
      "NC,under18,1992,1674144\n",
      "NC,total,1992,6897214\n",
      "NC,under18,1994,1750754\n",
      "NC,total,1994,7187398\n",
      "NC,total,1995,7344674\n",
      "NC,under18,1995,1785150\n",
      "NC,under18,1996,1821506\n",
      "NC,total,1996,7500670\n",
      "NC,under18,1998,1894753\n",
      "NC,total,1998,7809122\n",
      "NC,total,1997,7656825\n",
      "NC,under18,1997,1861621\n",
      "NC,total,2000,8081614\n",
      "NC,under18,2000,1967626\n",
      "NC,total,1999,7949362\n",
      "NC,under18,1999,1932141\n",
      "NC,total,2001,8210122\n",
      "NC,under18,2001,2003782\n",
      "NC,total,2002,8326201\n",
      "NC,under18,2002,2034451\n",
      "NC,total,2004,8553152\n",
      "NC,under18,2004,2085165\n",
      "NC,total,2003,8422501\n",
      "NC,under18,2003,2060838\n",
      "NC,total,2005,8705407\n",
      "NC,under18,2005,2122485\n",
      "NC,total,2006,8917270\n",
      "NC,under18,2006,2166393\n",
      "NC,total,2008,9309449\n",
      "NC,under18,2008,2252101\n",
      "NC,total,2007,9118037\n",
      "NC,under18,2007,2219168\n",
      "NC,under18,2013,2285605\n",
      "NC,total,2013,9848060\n",
      "NC,total,2009,9449566\n",
      "NC,under18,2009,2272955\n",
      "NC,total,2010,9559533\n",
      "NC,under18,2010,2282288\n",
      "NC,under18,2011,2284238\n",
      "NC,total,2011,9651377\n",
      "NC,under18,2012,2284122\n",
      "NC,total,2012,9748364\n",
      "ND,total,2012,701345\n",
      "ND,under18,2012,156765\n",
      "ND,total,2011,684867\n",
      "ND,under18,2011,152357\n",
      "ND,under18,2010,150179\n",
      "ND,total,2010,674344\n",
      "ND,total,2009,664968\n",
      "ND,under18,2009,148674\n",
      "ND,total,2013,723393\n",
      "ND,under18,2013,162688\n",
      "ND,total,2007,652822\n",
      "ND,under18,2007,147263\n",
      "ND,total,2008,657569\n",
      "ND,under18,2008,147462\n",
      "ND,total,2006,649422\n",
      "ND,under18,2006,147331\n",
      "ND,total,2005,646089\n",
      "ND,under18,2005,148119\n",
      "ND,total,2003,638817\n",
      "ND,under18,2003,150406\n",
      "ND,total,2004,644705\n",
      "ND,under18,2004,149128\n",
      "ND,total,2002,638168\n",
      "ND,under18,2002,153097\n",
      "ND,total,2001,639062\n",
      "ND,under18,2001,156113\n",
      "ND,total,1999,644259\n",
      "ND,under18,1999,163056\n",
      "ND,total,2000,642023\n",
      "ND,under18,2000,160477\n",
      "ND,total,1997,649716\n",
      "ND,under18,1997,167475\n",
      "ND,under18,1998,165448\n",
      "ND,total,1998,647532\n",
      "ND,under18,1996,169257\n",
      "ND,total,1996,650382\n",
      "ND,total,1995,647832\n",
      "ND,under18,1995,171146\n",
      "ND,under18,1994,172160\n",
      "ND,total,1994,644806\n",
      "ND,under18,1992,172052\n",
      "ND,total,1992,638223\n",
      "ND,total,1993,641216\n",
      "ND,under18,1993,172168\n",
      "ND,total,1991,635753\n",
      "ND,under18,1991,171730\n",
      "ND,under18,1990,170920\n",
      "ND,total,1990,637685\n",
      "OH,under18,1990,2778491\n",
      "OH,total,1990,10864162\n",
      "OH,total,1991,10945762\n",
      "OH,under18,1991,2806959\n",
      "OH,total,1993,11101140\n",
      "OH,under18,1993,2855785\n",
      "OH,under18,1992,2839356\n",
      "OH,total,1992,11029431\n",
      "OH,under18,1994,2875397\n",
      "OH,total,1994,11152455\n",
      "OH,total,1995,11202751\n",
      "OH,under18,1995,2879930\n",
      "OH,under18,1996,2883443\n",
      "OH,total,1996,11242827\n",
      "OH,under18,1998,2896255\n",
      "OH,total,1998,11311536\n",
      "OH,total,1997,11277357\n",
      "OH,under18,1997,2897375\n",
      "OH,total,2000,11363543\n",
      "OH,under18,2000,2886585\n",
      "OH,total,1999,11335454\n",
      "OH,under18,1999,2893270\n",
      "OH,total,2001,11387404\n",
      "OH,under18,2001,2878123\n",
      "OH,total,2002,11407889\n",
      "OH,under18,2002,2865674\n",
      "OH,total,2004,11452251\n",
      "OH,under18,2004,2836068\n",
      "OH,total,2003,11434788\n",
      "OH,under18,2003,2849573\n",
      "OH,total,2005,11463320\n",
      "OH,under18,2005,2819794\n",
      "OH,total,2006,11481213\n",
      "OH,under18,2006,2804828\n",
      "OH,total,2008,11515391\n",
      "OH,under18,2008,2768968\n",
      "OH,total,2007,11500468\n",
      "OH,under18,2007,2790347\n",
      "OH,under18,2013,2649830\n",
      "OH,total,2013,11570808\n",
      "OH,total,2009,11528896\n",
      "OH,under18,2009,2748051\n",
      "OH,total,2010,11545435\n",
      "OH,under18,2010,2722589\n",
      "OH,under18,2011,2693469\n",
      "OH,total,2011,11549772\n",
      "OH,under18,2012,2668125\n",
      "OH,total,2012,11553031\n",
      "OK,total,2012,3815780\n",
      "OK,under18,2012,939911\n",
      "OK,total,2011,3785534\n",
      "OK,under18,2011,935714\n",
      "OK,under18,2010,931483\n",
      "OK,total,2010,3759263\n",
      "OK,total,2009,3717572\n",
      "OK,under18,2009,922711\n",
      "OK,total,2013,3850568\n",
      "OK,under18,2013,947027\n",
      "OK,total,2007,3634349\n",
      "OK,under18,2007,904328\n",
      "OK,total,2008,3668976\n",
      "OK,under18,2008,910617\n",
      "OK,total,2006,3594090\n",
      "OK,under18,2006,894761\n",
      "OK,total,2005,3548597\n",
      "OK,under18,2005,885316\n",
      "OK,total,2003,3504892\n",
      "OK,under18,2003,883959\n",
      "OK,total,2004,3525233\n",
      "OK,under18,2004,881606\n",
      "OK,total,2002,3489080\n",
      "OK,under18,2002,884961\n",
      "OK,total,2001,3467100\n",
      "OK,under18,2001,885218\n",
      "OK,total,1999,3437148\n",
      "OK,under18,1999,895678\n",
      "OK,total,2000,3454365\n",
      "OK,under18,2000,891847\n",
      "OK,total,1997,3372918\n",
      "OK,under18,1997,893835\n",
      "OK,under18,1998,898501\n",
      "OK,total,1998,3405194\n",
      "OK,under18,1996,887093\n",
      "OK,total,1996,3340129\n",
      "OK,total,1995,3308208\n",
      "OK,under18,1995,883667\n",
      "OK,under18,1994,877803\n",
      "OK,total,1994,3280940\n",
      "OK,under18,1992,862548\n",
      "OK,total,1992,3220517\n",
      "OK,total,1993,3252285\n",
      "OK,under18,1993,870137\n",
      "OK,total,1991,3175440\n",
      "OK,under18,1991,849639\n",
      "OK,under18,1990,841715\n",
      "OK,total,1990,3148825\n",
      "OR,under18,1990,742436\n",
      "OR,total,1990,2860375\n",
      "OR,total,1991,2928507\n",
      "OR,under18,1991,752442\n",
      "OR,total,1993,3060367\n",
      "OR,under18,1993,778973\n",
      "OR,under18,1992,770191\n",
      "OR,total,1992,2991755\n",
      "OR,under18,1994,793435\n",
      "OR,total,1994,3121264\n",
      "OR,total,1995,3184369\n",
      "OR,under18,1995,806512\n",
      "OR,under18,1996,816102\n",
      "OR,total,1996,3247111\n",
      "OR,under18,1998,837928\n",
      "OR,total,1998,3352449\n",
      "OR,total,1997,3304310\n",
      "OR,under18,1997,830002\n",
      "OR,total,2000,3429708\n",
      "OR,under18,2000,847511\n",
      "OR,total,1999,3393941\n",
      "OR,under18,1999,843484\n",
      "OR,total,2001,3467937\n",
      "OR,under18,2001,848663\n",
      "OR,total,2002,3513424\n",
      "OR,under18,2002,850733\n",
      "OR,total,2004,3569463\n",
      "OR,under18,2004,846786\n",
      "OR,total,2003,3547376\n",
      "OR,under18,2003,850251\n",
      "OR,total,2005,3613202\n",
      "OR,under18,2005,849323\n",
      "OR,total,2006,3670883\n",
      "OR,under18,2006,857003\n",
      "OR,total,2008,3768748\n",
      "OR,under18,2008,865664\n",
      "OR,total,2007,3722417\n",
      "OR,under18,2007,862161\n",
      "OR,under18,2013,857606\n",
      "OR,total,2013,3930065\n",
      "OR,total,2009,3808600\n",
      "OR,under18,2009,866194\n",
      "OR,total,2010,3837208\n",
      "OR,under18,2010,865129\n",
      "OR,under18,2011,862518\n",
      "OR,total,2011,3867937\n",
      "OR,under18,2012,859910\n",
      "OR,total,2012,3899801\n",
      "PA,total,2012,12764475\n",
      "PA,under18,2012,2737905\n",
      "PA,total,2011,12741310\n",
      "PA,under18,2011,2761343\n",
      "PA,under18,2010,2785316\n",
      "PA,total,2010,12710472\n",
      "PA,total,2009,12666858\n",
      "PA,under18,2009,2804929\n",
      "PA,total,2013,12773801\n",
      "PA,under18,2013,2715645\n",
      "PA,total,2007,12563937\n",
      "PA,under18,2007,2839574\n",
      "PA,total,2008,12612285\n",
      "PA,under18,2008,2821004\n",
      "PA,total,2006,12510809\n",
      "PA,under18,2006,2850778\n",
      "PA,total,2005,12449990\n",
      "PA,under18,2005,2859793\n",
      "PA,total,2003,12374658\n",
      "PA,under18,2003,2883270\n",
      "PA,total,2004,12410722\n",
      "PA,under18,2004,2873125\n",
      "PA,total,2002,12331031\n",
      "PA,under18,2002,2894935\n",
      "PA,total,2001,12298970\n",
      "PA,under18,2001,2905836\n",
      "PA,total,1999,12263805\n",
      "PA,under18,1999,2930193\n",
      "PA,total,2000,12284173\n",
      "PA,under18,2000,2918850\n",
      "PA,total,1997,12227814\n",
      "PA,under18,1997,2942240\n",
      "PA,under18,1998,2940285\n",
      "PA,total,1998,12245672\n",
      "PA,under18,1996,2937411\n",
      "PA,total,1996,12220464\n",
      "PA,total,1995,12198403\n",
      "PA,under18,1995,2941531\n",
      "PA,under18,1994,2932851\n",
      "PA,total,1994,12166050\n",
      "PA,under18,1992,2873013\n",
      "PA,total,1992,12049450\n",
      "PA,total,1993,12119724\n",
      "PA,under18,1993,2907351\n",
      "PA,total,1991,11982164\n",
      "PA,under18,1991,2830059\n",
      "PA,under18,1990,2799168\n",
      "PA,total,1990,11903299\n",
      "RI,under18,1990,225923\n",
      "RI,total,1990,1005995\n",
      "RI,total,1991,1010649\n",
      "RI,under18,1991,229448\n",
      "RI,total,1993,1015113\n",
      "RI,under18,1993,237218\n",
      "RI,under18,1992,232630\n",
      "RI,total,1992,1012581\n",
      "RI,under18,1994,239100\n",
      "RI,total,1994,1015960\n",
      "RI,total,1995,1017002\n",
      "RI,under18,1995,240553\n",
      "RI,under18,1996,240569\n",
      "RI,total,1996,1020893\n",
      "RI,under18,1998,241760\n",
      "RI,total,1998,1031155\n",
      "RI,total,1997,1025353\n",
      "RI,under18,1997,242079\n",
      "RI,total,2000,1050268\n",
      "RI,under18,2000,248065\n",
      "RI,total,1999,1040402\n",
      "RI,under18,1999,247014\n",
      "RI,total,2001,1057142\n",
      "RI,under18,2001,248296\n",
      "RI,total,2002,1065995\n",
      "RI,under18,2002,248690\n",
      "RI,total,2004,1074579\n",
      "RI,under18,2004,246228\n",
      "RI,total,2003,1071342\n",
      "RI,under18,2003,248075\n",
      "RI,total,2005,1067916\n",
      "RI,under18,2005,241932\n",
      "RI,total,2006,1063096\n",
      "RI,under18,2006,237348\n",
      "RI,total,2008,1055003\n",
      "RI,under18,2008,229798\n",
      "RI,total,2007,1057315\n",
      "RI,under18,2007,233655\n",
      "RI,under18,2013,213987\n",
      "RI,total,2013,1051511\n",
      "RI,total,2009,1053646\n",
      "RI,under18,2009,225902\n",
      "RI,total,2010,1052669\n",
      "RI,under18,2010,223088\n",
      "RI,under18,2011,219783\n",
      "RI,total,2011,1050350\n",
      "RI,under18,2012,216591\n",
      "RI,total,2012,1050304\n",
      "SC,total,2012,4723417\n",
      "SC,under18,2012,1077455\n",
      "SC,total,2011,4673509\n",
      "SC,under18,2011,1076524\n",
      "SC,under18,2010,1079978\n",
      "SC,total,2010,4636361\n",
      "SC,total,2009,4589872\n",
      "SC,under18,2009,1079729\n",
      "SC,total,2013,4774839\n",
      "SC,under18,2013,1079798\n",
      "SC,total,2007,4444110\n",
      "SC,under18,2007,1064190\n",
      "SC,total,2008,4528996\n",
      "SC,under18,2008,1074116\n",
      "SC,total,2006,4357847\n",
      "SC,under18,2006,1050042\n",
      "SC,total,2005,4270150\n",
      "SC,under18,2005,1036941\n",
      "SC,total,2003,4150297\n",
      "SC,under18,2003,1023785\n",
      "SC,total,2004,4210921\n",
      "SC,under18,2004,1029111\n",
      "SC,total,2002,4107795\n",
      "SC,under18,2002,1020531\n",
      "SC,total,2001,4064995\n",
      "SC,under18,2001,1016134\n",
      "SC,total,1999,3974682\n",
      "SC,under18,1999,1007050\n",
      "SC,total,2000,4024223\n",
      "SC,under18,2000,1010641\n",
      "SC,total,1997,3859696\n",
      "SC,under18,1997,1001681\n",
      "SC,under18,1998,1006371\n",
      "SC,total,1998,3919235\n",
      "SC,under18,1996,987576\n",
      "SC,total,1996,3796200\n",
      "SC,total,1995,3748582\n",
      "SC,under18,1995,975884\n",
      "SC,under18,1994,969766\n",
      "SC,total,1994,3705397\n",
      "SC,under18,1992,947868\n",
      "SC,total,1992,3620464\n",
      "SC,total,1993,3663314\n",
      "SC,under18,1993,956951\n",
      "SC,total,1991,3570404\n",
      "SC,under18,1991,936122\n",
      "SC,under18,1990,921041\n",
      "SC,total,1990,3501155\n",
      "SD,under18,1990,199453\n",
      "SD,total,1990,697101\n",
      "SD,total,1991,703669\n",
      "SD,under18,1991,201749\n",
      "SD,total,1993,722160\n",
      "SD,under18,1993,207975\n",
      "SD,under18,1992,206632\n",
      "SD,total,1992,712801\n",
      "SD,under18,1994,208443\n",
      "SD,total,1994,730790\n",
      "SD,total,1995,737926\n",
      "SD,under18,1995,207890\n",
      "SD,under18,1996,205780\n",
      "SD,total,1996,742214\n",
      "SD,under18,1998,204786\n",
      "SD,total,1998,746059\n",
      "SD,total,1997,744223\n",
      "SD,under18,1997,205978\n",
      "SD,total,2000,755844\n",
      "SD,under18,2000,202681\n",
      "SD,total,1999,750413\n",
      "SD,under18,1999,203737\n",
      "SD,total,2001,757972\n",
      "SD,under18,2001,200795\n",
      "SD,total,2002,760020\n",
      "SD,under18,2002,198694\n",
      "SD,total,2004,770396\n",
      "SD,under18,2004,196804\n",
      "SD,total,2003,763729\n",
      "SD,under18,2003,197326\n",
      "SD,total,2005,775493\n",
      "SD,under18,2005,196476\n",
      "SD,total,2006,783033\n",
      "SD,under18,2006,197332\n",
      "SD,total,2008,799124\n",
      "SD,under18,2008,199848\n",
      "SD,total,2007,791623\n",
      "SD,under18,2007,198847\n",
      "SD,under18,2013,207959\n",
      "SD,total,2013,844877\n",
      "SD,total,2009,807067\n",
      "SD,under18,2009,201204\n",
      "SD,total,2010,816211\n",
      "SD,under18,2010,203145\n",
      "SD,under18,2011,203948\n",
      "SD,total,2011,823772\n",
      "SD,under18,2012,205298\n",
      "SD,total,2012,834047\n",
      "TN,total,2012,6454914\n",
      "TN,under18,2012,1492689\n",
      "TN,total,2011,6398361\n",
      "TN,under18,2011,1491837\n",
      "TN,under18,2010,1495090\n",
      "TN,total,2010,6356683\n",
      "TN,total,2009,6306019\n",
      "TN,under18,2009,1494687\n",
      "TN,total,2013,6495978\n",
      "TN,under18,2013,1491577\n",
      "TN,total,2007,6175727\n",
      "TN,under18,2007,1482747\n",
      "TN,total,2008,6247411\n",
      "TN,under18,2008,1494354\n",
      "TN,total,2006,6088766\n",
      "TN,under18,2006,1470166\n",
      "TN,total,2005,5991057\n",
      "TN,under18,2005,1449326\n",
      "TN,total,2003,5847812\n",
      "TN,under18,2003,1424861\n",
      "TN,total,2004,5910809\n",
      "TN,under18,2004,1433343\n",
      "TN,total,2002,5795918\n",
      "TN,under18,2002,1414857\n",
      "TN,total,2001,5750789\n",
      "TN,under18,2001,1407578\n",
      "TN,total,1999,5638706\n",
      "TN,under18,1999,1385997\n",
      "TN,total,2000,5703719\n",
      "TN,under18,2000,1399685\n",
      "TN,total,1997,5499233\n",
      "TN,under18,1997,1359030\n",
      "TN,under18,1998,1369987\n",
      "TN,total,1998,5570045\n",
      "TN,under18,1996,1345723\n",
      "TN,total,1996,5416643\n",
      "TN,total,1995,5326936\n",
      "TN,under18,1995,1331616\n",
      "TN,under18,1994,1310988\n",
      "TN,total,1994,5231438\n",
      "TN,under18,1992,1259458\n",
      "TN,total,1992,5049742\n",
      "TN,total,1993,5137584\n",
      "TN,under18,1993,1285044\n",
      "TN,total,1991,4966587\n",
      "TN,under18,1991,1233260\n",
      "TN,under18,1990,1220200\n",
      "TN,total,1990,4894492\n",
      "TX,under18,1990,4906220\n",
      "TX,total,1990,17056755\n",
      "TX,total,1991,17398005\n",
      "TX,under18,1991,5000793\n",
      "TX,total,1993,18161612\n",
      "TX,under18,1993,5217899\n",
      "TX,under18,1992,5109805\n",
      "TX,total,1992,17759738\n",
      "TX,under18,1994,5331524\n",
      "TX,total,1994,18564062\n",
      "TX,total,1995,18958751\n",
      "TX,under18,1995,5421784\n",
      "TX,under18,1996,5551447\n",
      "TX,total,1996,19340342\n",
      "TX,under18,1998,5759054\n",
      "TX,total,1998,20157531\n",
      "TX,total,1997,19740317\n",
      "TX,under18,1997,5655482\n",
      "TX,total,2000,20944499\n",
      "TX,under18,2000,5906301\n",
      "TX,total,1999,20558220\n",
      "TX,under18,1999,5840211\n",
      "TX,total,2001,21319622\n",
      "TX,under18,2001,5980187\n",
      "TX,total,2002,21690325\n",
      "TX,under18,2002,6060372\n",
      "TX,total,2004,22394023\n",
      "TX,under18,2004,6208259\n",
      "TX,total,2003,22030931\n",
      "TX,under18,2003,6132980\n",
      "TX,total,2005,22778123\n",
      "TX,under18,2005,6290970\n",
      "TX,total,2006,23359580\n",
      "TX,under18,2006,6446798\n",
      "TX,total,2008,24309039\n",
      "TX,under18,2008,6675917\n",
      "TX,total,2007,23831983\n",
      "TX,under18,2007,6565872\n",
      "TX,under18,2013,7041986\n",
      "TX,total,2013,26448193\n",
      "TX,total,2009,24801761\n",
      "TX,under18,2009,6792907\n",
      "TX,total,2010,25245178\n",
      "TX,under18,2010,6879014\n",
      "TX,under18,2011,6931758\n",
      "TX,total,2011,25640909\n",
      "TX,under18,2012,6985807\n",
      "TX,total,2012,26060796\n",
      "UT,total,2012,2854871\n",
      "UT,under18,2012,888578\n",
      "UT,total,2011,2814784\n",
      "UT,under18,2011,881350\n",
      "UT,under18,2010,873019\n",
      "UT,total,2010,2774424\n",
      "UT,total,2009,2723421\n",
      "UT,under18,2009,857853\n",
      "UT,total,2013,2900872\n",
      "UT,under18,2013,896589\n",
      "UT,total,2007,2597746\n",
      "UT,under18,2007,815496\n",
      "UT,total,2008,2663029\n",
      "UT,under18,2008,837258\n",
      "UT,total,2006,2525507\n",
      "UT,under18,2006,789957\n",
      "UT,total,2005,2457719\n",
      "UT,under18,2005,767888\n",
      "UT,total,2003,2360137\n",
      "UT,under18,2003,740483\n",
      "UT,total,2004,2401580\n",
      "UT,under18,2004,751771\n",
      "UT,total,2002,2324815\n",
      "UT,under18,2002,733517\n",
      "UT,total,2001,2283715\n",
      "UT,under18,2001,726819\n",
      "UT,total,1999,2203482\n",
      "UT,under18,1999,715398\n",
      "UT,total,2000,2244502\n",
      "UT,under18,2000,721686\n",
      "UT,total,1997,2119784\n",
      "UT,under18,1997,699528\n",
      "UT,under18,1998,709386\n",
      "UT,total,1998,2165961\n",
      "UT,under18,1996,687078\n",
      "UT,total,1996,2067976\n",
      "UT,total,1995,2014179\n",
      "UT,under18,1995,679636\n",
      "UT,under18,1994,673935\n",
      "UT,total,1994,1960446\n",
      "UT,under18,1992,648725\n",
      "UT,total,1992,1836799\n",
      "UT,total,1993,1898404\n",
      "UT,under18,1993,662968\n",
      "UT,total,1991,1779780\n",
      "UT,under18,1991,637216\n",
      "UT,under18,1990,627122\n",
      "UT,total,1990,1731223\n",
      "VT,under18,1990,143296\n",
      "VT,total,1990,564798\n",
      "VT,total,1991,568606\n",
      "VT,under18,1991,145219\n",
      "VT,total,1993,577748\n",
      "VT,under18,1993,148705\n",
      "VT,under18,1992,146983\n",
      "VT,total,1992,572751\n",
      "VT,under18,1994,150794\n",
      "VT,total,1994,583836\n",
      "VT,total,1995,589003\n",
      "VT,under18,1995,151439\n",
      "VT,under18,1996,151490\n",
      "VT,total,1996,593701\n",
      "VT,under18,1998,148467\n",
      "VT,total,1998,600416\n",
      "VT,total,1997,597239\n",
      "VT,under18,1997,150040\n",
      "VT,total,2000,609618\n",
      "VT,under18,2000,147549\n",
      "VT,total,1999,604683\n",
      "VT,under18,1999,147859\n",
      "VT,total,2001,612223\n",
      "VT,under18,2001,146040\n",
      "VT,total,2002,615442\n",
      "VT,under18,2002,144441\n",
      "VT,total,2004,619920\n",
      "VT,under18,2004,141068\n",
      "VT,total,2003,617858\n",
      "VT,under18,2003,142718\n",
      "VT,total,2005,621215\n",
      "VT,under18,2005,138933\n",
      "VT,total,2006,622892\n",
      "VT,under18,2006,136731\n",
      "VT,total,2008,624151\n",
      "VT,under18,2008,132600\n",
      "VT,total,2007,623481\n",
      "VT,under18,2007,134695\n",
      "VT,under18,2013,122701\n",
      "VT,total,2013,626630\n",
      "VT,total,2009,624817\n",
      "VT,under18,2009,130450\n",
      "VT,total,2010,625793\n",
      "VT,under18,2010,128601\n",
      "VT,under18,2011,126500\n",
      "VT,total,2011,626320\n",
      "VT,under18,2012,124555\n",
      "VT,total,2012,625953\n",
      "VA,total,2012,8186628\n",
      "VA,under18,2012,1861323\n",
      "VA,total,2011,8105850\n",
      "VA,under18,2011,1857585\n",
      "VA,under18,2010,1855025\n",
      "VA,total,2010,8024417\n",
      "VA,total,2009,7925937\n",
      "VA,under18,2009,1845132\n",
      "VA,total,2013,8260405\n",
      "VA,under18,2013,1864535\n",
      "VA,total,2007,7751000\n",
      "VA,under18,2007,1834386\n",
      "VA,total,2008,7833496\n",
      "VA,under18,2008,1838361\n",
      "VA,total,2005,7577105\n",
      "VA,under18,2005,1816270\n",
      "VA,total,2006,7673725\n",
      "VA,under18,2006,1826368\n",
      "VA,total,2003,7366977\n",
      "VA,under18,2003,1782254\n",
      "VA,total,2004,7475575\n",
      "VA,under18,2004,1801958\n",
      "VA,total,2002,7286873\n",
      "VA,under18,2002,1771247\n",
      "VA,total,2001,7198362\n",
      "VA,under18,2001,1754549\n",
      "VA,total,1999,7000174\n",
      "VA,under18,1999,1723125\n",
      "VA,total,2000,7105817\n",
      "VA,under18,2000,1741420\n",
      "VA,total,1997,6829183\n",
      "VA,under18,1997,1683766\n",
      "VA,under18,1998,1706261\n",
      "VA,total,1998,6900918\n",
      "VA,under18,1996,1664147\n",
      "VA,total,1996,6750884\n",
      "VA,total,1995,6670693\n",
      "VA,under18,1995,1649005\n",
      "VA,under18,1994,1628711\n",
      "VA,total,1994,6593139\n",
      "VA,under18,1992,1581544\n",
      "VA,total,1992,6414307\n",
      "VA,total,1993,6509630\n",
      "VA,under18,1993,1604758\n",
      "VA,total,1991,6301217\n",
      "VA,under18,1991,1548258\n",
      "VA,under18,1990,1520670\n",
      "VA,total,1990,6216884\n",
      "WA,under18,1990,1301545\n",
      "WA,total,1990,4903043\n",
      "WA,total,1991,5025624\n",
      "WA,under18,1991,1326527\n",
      "WA,total,1993,5278842\n",
      "WA,under18,1993,1387716\n",
      "WA,under18,1992,1365480\n",
      "WA,total,1992,5160757\n",
      "WA,under18,1994,1409922\n",
      "WA,total,1994,5375161\n",
      "WA,total,1995,5481027\n",
      "WA,under18,1995,1429397\n",
      "WA,under18,1996,1449613\n",
      "WA,total,1996,5569753\n",
      "WA,under18,1998,1494784\n",
      "WA,total,1998,5769562\n",
      "WA,total,1997,5674747\n",
      "WA,under18,1997,1473646\n",
      "WA,total,2000,5910512\n",
      "WA,under18,2000,1516361\n",
      "WA,total,1999,5842564\n",
      "WA,under18,1999,1507824\n",
      "WA,total,2001,5985722\n",
      "WA,under18,2001,1517527\n",
      "WA,total,2002,6052349\n",
      "WA,under18,2002,1517655\n",
      "WA,total,2004,6178645\n",
      "WA,under18,2004,1520751\n",
      "WA,total,2003,6104115\n",
      "WA,under18,2003,1514877\n",
      "WA,total,2005,6257305\n",
      "WA,under18,2005,1523890\n",
      "WA,total,2006,6370753\n",
      "WA,under18,2006,1536926\n",
      "WA,total,2008,6562231\n",
      "WA,under18,2008,1560302\n",
      "WA,total,2007,6461587\n",
      "WA,under18,2007,1549582\n",
      "WA,under18,2013,1595795\n",
      "WA,total,2013,6971406\n",
      "WA,total,2009,6667426\n",
      "WA,under18,2009,1574403\n",
      "WA,total,2010,6742256\n",
      "WA,under18,2010,1581436\n",
      "WA,under18,2011,1584709\n",
      "WA,total,2011,6821481\n",
      "WA,under18,2012,1588451\n",
      "WA,total,2012,6895318\n",
      "WV,total,2012,1856680\n",
      "WV,under18,2012,384030\n",
      "WV,total,2011,1855184\n",
      "WV,under18,2011,385283\n",
      "WV,under18,2010,387224\n",
      "WV,total,2010,1854146\n",
      "WV,total,2009,1847775\n",
      "WV,under18,2009,389036\n",
      "WV,total,2013,1854304\n",
      "WV,under18,2013,381678\n",
      "WV,total,2007,1834052\n",
      "WV,under18,2007,390661\n",
      "WV,total,2008,1840310\n",
      "WV,under18,2008,390210\n",
      "WV,total,2006,1827912\n",
      "WV,under18,2006,390637\n",
      "WV,total,2005,1820492\n",
      "WV,under18,2005,390431\n",
      "WV,total,2003,1812295\n",
      "WV,under18,2003,392460\n",
      "WV,total,2004,1816438\n",
      "WV,under18,2004,391856\n",
      "WV,total,2002,1805414\n",
      "WV,under18,2002,393569\n",
      "WV,total,2001,1801481\n",
      "WV,under18,2001,395307\n",
      "WV,total,1999,1811799\n",
      "WV,under18,1999,406784\n",
      "WV,total,2000,1807021\n",
      "WV,under18,2000,401062\n",
      "WV,total,1997,1819113\n",
      "WV,under18,1997,418037\n",
      "WV,under18,1998,412793\n",
      "WV,total,1998,1815609\n",
      "WV,under18,1996,422831\n",
      "WV,total,1996,1822808\n",
      "WV,total,1995,1823700\n",
      "WV,under18,1995,428790\n",
      "WV,under18,1994,429128\n",
      "WV,total,1994,1820421\n",
      "WV,under18,1992,433116\n",
      "WV,total,1992,1806451\n",
      "WV,total,1993,1817539\n",
      "WV,under18,1993,432364\n",
      "WV,total,1991,1798735\n",
      "WV,under18,1991,433918\n",
      "WV,under18,1990,436797\n",
      "WV,total,1990,1792548\n",
      "WI,under18,1990,1302869\n",
      "WI,total,1990,4904562\n",
      "WI,total,1991,4964343\n",
      "WI,under18,1991,1314855\n",
      "WI,total,1993,5084889\n",
      "WI,under18,1993,1337334\n",
      "WI,under18,1992,1330555\n",
      "WI,total,1992,5025398\n",
      "WI,under18,1994,1348110\n",
      "WI,total,1994,5133678\n",
      "WI,total,1995,5184836\n",
      "WI,under18,1995,1351343\n",
      "WI,under18,1996,1352877\n",
      "WI,total,1996,5229986\n",
      "WI,under18,1998,1362907\n",
      "WI,total,1998,5297673\n",
      "WI,total,1997,5266213\n",
      "WI,under18,1997,1359712\n",
      "WI,total,1999,5332666\n",
      "WI,under18,1999,1367019\n",
      "WI,total,2000,5373999\n",
      "WI,under18,2000,1370440\n",
      "WI,total,2001,5406835\n",
      "WI,under18,2001,1367593\n",
      "WI,total,2002,5445162\n",
      "WI,under18,2002,1365315\n",
      "WI,total,2004,5514026\n",
      "WI,under18,2004,1354643\n",
      "WI,total,2003,5479203\n",
      "WI,under18,2003,1358505\n",
      "WI,total,2005,5546166\n",
      "WI,under18,2005,1349866\n",
      "WI,total,2006,5577655\n",
      "WI,under18,2006,1348785\n",
      "WI,total,2008,5640996\n",
      "WI,under18,2008,1345573\n",
      "WI,total,2007,5610775\n",
      "WI,under18,2007,1348901\n",
      "WI,under18,2013,1307776\n",
      "WI,total,2013,5742713\n",
      "WI,total,2009,5669264\n",
      "WI,under18,2009,1342411\n",
      "WI,total,2010,5689060\n",
      "WI,under18,2010,1336094\n",
      "WI,under18,2011,1325870\n",
      "WI,total,2011,5708785\n",
      "WI,under18,2012,1316113\n",
      "WI,total,2012,5724554\n",
      "WY,total,2012,576626\n",
      "WY,under18,2012,136526\n",
      "WY,total,2011,567329\n",
      "WY,under18,2011,135407\n",
      "WY,under18,2010,135351\n",
      "WY,total,2010,564222\n",
      "WY,total,2009,559851\n",
      "WY,under18,2009,134960\n",
      "WY,total,2013,582658\n",
      "WY,under18,2013,137679\n",
      "WY,total,2007,534876\n",
      "WY,under18,2007,128760\n",
      "WY,total,2008,546043\n",
      "WY,under18,2008,131511\n",
      "WY,total,2006,522667\n",
      "WY,under18,2006,125525\n",
      "WY,total,2005,514157\n",
      "WY,under18,2005,124022\n",
      "WY,total,2003,503453\n",
      "WY,under18,2003,124182\n",
      "WY,total,2004,509106\n",
      "WY,under18,2004,123974\n",
      "WY,total,2002,500017\n",
      "WY,under18,2002,125495\n",
      "WY,total,2001,494657\n",
      "WY,under18,2001,126212\n",
      "WY,total,2000,494300\n",
      "WY,under18,2000,128774\n",
      "WY,total,1999,491780\n",
      "WY,under18,1999,130793\n",
      "WY,total,1997,489452\n",
      "WY,under18,1997,134328\n",
      "WY,under18,1998,132602\n",
      "WY,total,1998,490787\n",
      "WY,under18,1996,135698\n",
      "WY,total,1996,488167\n",
      "WY,total,1995,485160\n",
      "WY,under18,1995,136785\n",
      "WY,under18,1994,137733\n",
      "WY,total,1994,480283\n",
      "WY,under18,1992,137308\n",
      "WY,total,1992,466251\n",
      "WY,total,1993,473081\n",
      "WY,under18,1993,137458\n",
      "WY,total,1991,459260\n",
      "WY,under18,1991,136720\n",
      "WY,under18,1990,136078\n",
      "WY,total,1990,453690\n",
      "PR,under18,1990,NaN\n",
      "PR,total,1990,NaN\n",
      "PR,total,1991,NaN\n",
      "PR,under18,1991,NaN\n",
      "PR,total,1993,NaN\n",
      "PR,under18,1993,NaN\n",
      "PR,under18,1992,NaN\n",
      "PR,total,1992,NaN\n",
      "PR,under18,1994,NaN\n",
      "PR,total,1994,NaN\n",
      "PR,total,1995,NaN\n",
      "PR,under18,1995,NaN\n",
      "PR,under18,1996,NaN\n",
      "PR,total,1996,NaN\n",
      "PR,under18,1998,NaN\n",
      "PR,total,1998,NaN\n",
      "PR,total,1997,NaN\n",
      "PR,under18,1997,NaN\n",
      "PR,total,1999,NaN\n",
      "PR,under18,1999,NaN\n",
      "PR,total,2000,3810605\n",
      "PR,under18,2000,1089063\n",
      "PR,total,2001,3818774\n",
      "PR,under18,2001,1077566\n",
      "PR,total,2002,3823701\n",
      "PR,under18,2002,1065051\n",
      "PR,total,2004,3826878\n",
      "PR,under18,2004,1035919\n",
      "PR,total,2003,3826095\n",
      "PR,under18,2003,1050615\n",
      "PR,total,2005,3821362\n",
      "PR,under18,2005,1019447\n",
      "PR,total,2006,3805214\n",
      "PR,under18,2006,998543\n",
      "PR,total,2007,3782995\n",
      "PR,under18,2007,973613\n",
      "PR,total,2008,3760866\n",
      "PR,under18,2008,945705\n",
      "PR,under18,2013,814068\n",
      "PR,total,2013,3615086\n",
      "PR,total,2009,3740410\n",
      "PR,under18,2009,920794\n",
      "PR,total,2010,3721208\n",
      "PR,under18,2010,896945\n",
      "PR,under18,2011,869327\n",
      "PR,total,2011,3686580\n",
      "PR,under18,2012,841740\n",
      "PR,total,2012,3651545\n",
      "USA,under18,1990,64218512\n",
      "USA,total,1990,249622814\n"
     ]
    },
    {
     "name": "stdout",
     "output_type": "stream",
     "text": [
      "USA,total,1991,252980942\n",
      "USA,under18,1991,65313018\n",
      "USA,under18,1992,66509177\n",
      "USA,total,1992,256514231\n",
      "USA,total,1993,259918595\n",
      "USA,under18,1993,67594938\n",
      "USA,under18,1994,68640936\n",
      "USA,total,1994,263125826\n",
      "USA,under18,1995,69473140\n",
      "USA,under18,1996,70233512\n",
      "USA,total,1995,266278403\n",
      "USA,total,1996,269394291\n",
      "USA,total,1997,272646932\n",
      "USA,under18,1997,70920738\n",
      "USA,under18,1998,71431406\n",
      "USA,total,1998,275854116\n",
      "USA,under18,1999,71946051\n",
      "USA,total,2000,282162411\n",
      "USA,under18,2000,72376189\n",
      "USA,total,1999,279040181\n",
      "USA,total,2001,284968955\n",
      "USA,under18,2001,72671175\n",
      "USA,total,2002,287625193\n",
      "USA,under18,2002,72936457\n",
      "USA,total,2003,290107933\n",
      "USA,under18,2003,73100758\n",
      "USA,total,2004,292805298\n",
      "USA,under18,2004,73297735\n",
      "USA,total,2005,295516599\n",
      "USA,under18,2005,73523669\n",
      "USA,total,2006,298379912\n",
      "USA,under18,2006,73757714\n",
      "USA,total,2007,301231207\n",
      "USA,under18,2007,74019405\n",
      "USA,total,2008,304093966\n",
      "USA,under18,2008,74104602\n",
      "USA,under18,2013,73585872\n",
      "USA,total,2013,316128839\n",
      "USA,total,2009,306771529\n",
      "USA,under18,2009,74134167\n",
      "USA,under18,2010,74119556\n",
      "USA,total,2010,309326295\n",
      "USA,under18,2011,73902222\n",
      "USA,total,2011,311582564\n",
      "USA,under18,2012,73708179\n",
      "USA,total,2012,313873685\n",
      "state,area (sq. mi)\n",
      "Alabama,52423\n",
      "Alaska,656425\n",
      "Arizona,114006\n",
      "Arkansas,53182\n",
      "California,163707\n",
      "Colorado,104100\n",
      "Connecticut,5544\n",
      "Delaware,1954\n",
      "Florida,65758\n",
      "Georgia,59441\n",
      "Hawaii,10932\n",
      "Idaho,83574\n",
      "Illinois,57918\n",
      "Indiana,36420\n",
      "Iowa,56276\n",
      "Kansas,82282\n",
      "Kentucky,40411\n",
      "Louisiana,51843\n",
      "Maine,35387\n",
      "Maryland,12407\n",
      "Massachusetts,10555\n",
      "Michigan,96810\n",
      "Minnesota,86943\n",
      "Mississippi,48434\n",
      "Missouri,69709\n",
      "Montana,147046\n",
      "Nebraska,77358\n",
      "Nevada,110567\n",
      "New Hampshire,9351\n",
      "New Jersey,8722\n",
      "New Mexico,121593\n",
      "New York,54475\n",
      "North Carolina,53821\n",
      "North Dakota,70704\n",
      "Ohio,44828\n",
      "Oklahoma,69903\n",
      "Oregon,98386\n",
      "Pennsylvania,46058\n",
      "Rhode Island,1545\n",
      "South Carolina,32007\n",
      "South Dakota,77121\n",
      "Tennessee,42146\n",
      "Texas,268601\n",
      "Utah,84904\n",
      "Vermont,9615\n",
      "Virginia,42769\n",
      "Washington,71303\n",
      "West Virginia,24231\n",
      "Wisconsin,65503\n",
      "Wyoming,97818\n",
      "District of Columbia,68\n",
      "Puerto Rico,3515\n"
     ]
    },
    {
     "name": "stderr",
     "output_type": "stream",
     "text": [
      "  % Total    % Received % Xferd  Average Speed   Time    Time     Time  Current\n",
      "                                 Dload  Upload   Total   Spent    Left  Speed\n",
      "\n",
      "  0     0    0     0    0     0      0      0 --:--:-- --:--:-- --:--:--     0\n",
      "100   835  100   835    0     0   3047      0 --:--:-- --:--:-- --:--:--  3069\n"
     ]
    },
    {
     "name": "stdout",
     "output_type": "stream",
     "text": [
      "\"state\",\"abbreviation\"\n",
      "\"Alabama\",\"AL\"\n",
      "\"Alaska\",\"AK\"\n",
      "\"Arizona\",\"AZ\"\n",
      "\"Arkansas\",\"AR\"\n",
      "\"California\",\"CA\"\n",
      "\"Colorado\",\"CO\"\n",
      "\"Connecticut\",\"CT\"\n",
      "\"Delaware\",\"DE\"\n",
      "\"District of Columbia\",\"DC\"\n",
      "\"Florida\",\"FL\"\n",
      "\"Georgia\",\"GA\"\n",
      "\"Hawaii\",\"HI\"\n",
      "\"Idaho\",\"ID\"\n",
      "\"Illinois\",\"IL\"\n",
      "\"Indiana\",\"IN\"\n",
      "\"Iowa\",\"IA\"\n",
      "\"Kansas\",\"KS\"\n",
      "\"Kentucky\",\"KY\"\n",
      "\"Louisiana\",\"LA\"\n",
      "\"Maine\",\"ME\"\n",
      "\"Montana\",\"MT\"\n",
      "\"Nebraska\",\"NE\"\n",
      "\"Nevada\",\"NV\"\n",
      "\"New Hampshire\",\"NH\"\n",
      "\"New Jersey\",\"NJ\"\n",
      "\"New Mexico\",\"NM\"\n",
      "\"New York\",\"NY\"\n",
      "\"North Carolina\",\"NC\"\n",
      "\"North Dakota\",\"ND\"\n",
      "\"Ohio\",\"OH\"\n",
      "\"Oklahoma\",\"OK\"\n",
      "\"Oregon\",\"OR\"\n",
      "\"Maryland\",\"MD\"\n",
      "\"Massachusetts\",\"MA\"\n",
      "\"Michigan\",\"MI\"\n",
      "\"Minnesota\",\"MN\"\n",
      "\"Mississippi\",\"MS\"\n",
      "\"Missouri\",\"MO\"\n",
      "\"Pennsylvania\",\"PA\"\n",
      "\"Rhode Island\",\"RI\"\n",
      "\"South Carolina\",\"SC\"\n",
      "\"South Dakota\",\"SD\"\n",
      "\"Tennessee\",\"TN\"\n",
      "\"Texas\",\"TX\"\n",
      "\"Utah\",\"UT\"\n",
      "\"Vermont\",\"VT\"\n",
      "\"Virginia\",\"VA\"\n",
      "\"Washington\",\"WA\"\n",
      "\"West Virginia\",\"WV\"\n",
      "\"Wisconsin\",\"WI\"\n",
      "\"Wyoming\",\"WY\"\n"
     ]
    },
    {
     "name": "stderr",
     "output_type": "stream",
     "text": [
      "  % Total    % Received % Xferd  Average Speed   Time    Time     Time  Current\n",
      "                                 Dload  Upload   Total   Spent    Left  Speed\n",
      "\n",
      "  0     0    0     0    0     0      0      0 --:--:-- --:--:-- --:--:--     0\n",
      "  0     0    0     0    0     0      0      0 --:--:-- --:--:-- --:--:--     0\n",
      "100   872  100   872    0     0   3488      0 --:--:-- --:--:-- --:--:--  3502\n"
     ]
    }
   ],
   "source": [
    "!curl -0 https://raw.githubusercontent.com/jakevdp/data-USstates/master/state-population.csv\n",
    "!curl -0 https://raw.githubusercontent.com/jakevdp/data-USstates/master/state-areas.csv\n",
    "!curl -0 https://raw.githubusercontent.com/jakevdp/data-USstates/master/state-abbrevs.csv"
   ]
  },
  {
   "cell_type": "markdown",
   "metadata": {
    "solution2": "hidden",
    "solution2_first": true
   },
   "source": [
    "11.1 Save the csv files as follow:\n",
    "     \n",
    "     state-population as pop\n",
    "     state-areas as areas\n",
    "     state-abbrevs as abbrevs"
   ]
  },
  {
   "cell_type": "code",
   "execution_count": 423,
   "metadata": {
    "solution2": "hidden"
   },
   "outputs": [],
   "source": [
    "pop = pd.read_csv(\"state-population.csv\")\n",
    "areas = pd.read_csv(\"state-areas.csv\")\n",
    "abbrevs = pd.read_csv(\"state-abbrevs.csv\")"
   ]
  },
  {
   "cell_type": "code",
   "execution_count": 424,
   "metadata": {
    "solution": "hidden"
   },
   "outputs": [],
   "source": [
    "#enter solution\n"
   ]
  },
  {
   "cell_type": "markdown",
   "metadata": {
    "solution2": "hidden",
    "solution2_first": true
   },
   "source": [
    "11.2 Print the first five rows of each dataset"
   ]
  },
  {
   "cell_type": "code",
   "execution_count": 425,
   "metadata": {
    "solution2": "hidden"
   },
   "outputs": [
    {
     "name": "stdout",
     "output_type": "stream",
     "text": [
      "  state/region     ages  year  population\n",
      "0           AL  under18  2012   1117489.0\n",
      "1           AL    total  2012   4817528.0\n",
      "2           AL  under18  2010   1130966.0\n",
      "3           AL    total  2010   4785570.0\n",
      "4           AL  under18  2011   1125763.0\n",
      "        state  area (sq. mi)\n",
      "0     Alabama          52423\n",
      "1      Alaska         656425\n",
      "2     Arizona         114006\n",
      "3    Arkansas          53182\n",
      "4  California         163707\n",
      "        state abbreviation\n",
      "0     Alabama           AL\n",
      "1      Alaska           AK\n",
      "2     Arizona           AZ\n",
      "3    Arkansas           AR\n",
      "4  California           CA\n"
     ]
    },
    {
     "data": {
      "text/plain": [
       "(None, None, None)"
      ]
     },
     "execution_count": 425,
     "metadata": {},
     "output_type": "execute_result"
    }
   ],
   "source": [
    "print(pop.head()), print(areas.head()), print(abbrevs.head())"
   ]
  },
  {
   "cell_type": "code",
   "execution_count": 426,
   "metadata": {},
   "outputs": [],
   "source": [
    "#enter solution\n"
   ]
  },
  {
   "cell_type": "markdown",
   "metadata": {
    "solution2": "hidden",
    "solution2_first": true
   },
   "source": [
    "11.3 Merge the df's pop and abbrevs, so you get the following columns:\n",
    "    \n",
    "    state/region | ages | year | population | state"
   ]
  },
  {
   "cell_type": "code",
   "execution_count": 429,
   "metadata": {
    "solution2": "hidden"
   },
   "outputs": [
    {
     "data": {
      "text/html": [
       "<div>\n",
       "<style scoped>\n",
       "    .dataframe tbody tr th:only-of-type {\n",
       "        vertical-align: middle;\n",
       "    }\n",
       "\n",
       "    .dataframe tbody tr th {\n",
       "        vertical-align: top;\n",
       "    }\n",
       "\n",
       "    .dataframe thead th {\n",
       "        text-align: right;\n",
       "    }\n",
       "</style>\n",
       "<table border=\"1\" class=\"dataframe\">\n",
       "  <thead>\n",
       "    <tr style=\"text-align: right;\">\n",
       "      <th></th>\n",
       "      <th>state/region</th>\n",
       "      <th>ages</th>\n",
       "      <th>year</th>\n",
       "      <th>population</th>\n",
       "      <th>state</th>\n",
       "    </tr>\n",
       "  </thead>\n",
       "  <tbody>\n",
       "    <tr>\n",
       "      <th>0</th>\n",
       "      <td>AL</td>\n",
       "      <td>under18</td>\n",
       "      <td>2012</td>\n",
       "      <td>1117489.0</td>\n",
       "      <td>Alabama</td>\n",
       "    </tr>\n",
       "    <tr>\n",
       "      <th>1</th>\n",
       "      <td>AL</td>\n",
       "      <td>total</td>\n",
       "      <td>2012</td>\n",
       "      <td>4817528.0</td>\n",
       "      <td>Alabama</td>\n",
       "    </tr>\n",
       "    <tr>\n",
       "      <th>2</th>\n",
       "      <td>AL</td>\n",
       "      <td>under18</td>\n",
       "      <td>2010</td>\n",
       "      <td>1130966.0</td>\n",
       "      <td>Alabama</td>\n",
       "    </tr>\n",
       "    <tr>\n",
       "      <th>3</th>\n",
       "      <td>AL</td>\n",
       "      <td>total</td>\n",
       "      <td>2010</td>\n",
       "      <td>4785570.0</td>\n",
       "      <td>Alabama</td>\n",
       "    </tr>\n",
       "    <tr>\n",
       "      <th>4</th>\n",
       "      <td>AL</td>\n",
       "      <td>under18</td>\n",
       "      <td>2011</td>\n",
       "      <td>1125763.0</td>\n",
       "      <td>Alabama</td>\n",
       "    </tr>\n",
       "  </tbody>\n",
       "</table>\n",
       "</div>"
      ],
      "text/plain": [
       "  state/region     ages  year  population    state\n",
       "0           AL  under18  2012   1117489.0  Alabama\n",
       "1           AL    total  2012   4817528.0  Alabama\n",
       "2           AL  under18  2010   1130966.0  Alabama\n",
       "3           AL    total  2010   4785570.0  Alabama\n",
       "4           AL  under18  2011   1125763.0  Alabama"
      ]
     },
     "execution_count": 429,
     "metadata": {},
     "output_type": "execute_result"
    }
   ],
   "source": [
    "merged = pd.merge(pop, abbrevs, how= \"outer\", left_on= \"state/region\", right_on = \"abbreviation\")\n",
    "merged = merged.drop(\"abbreviation\", 1)\n",
    "merged.head()"
   ]
  },
  {
   "cell_type": "code",
   "execution_count": 430,
   "metadata": {},
   "outputs": [],
   "source": [
    "#enter solution\n"
   ]
  },
  {
   "cell_type": "markdown",
   "metadata": {
    "solution2": "hidden",
    "solution2_first": true
   },
   "source": [
    "11.4 Check if there are any Null values"
   ]
  },
  {
   "cell_type": "code",
   "execution_count": 431,
   "metadata": {
    "solution2": "hidden"
   },
   "outputs": [
    {
     "data": {
      "text/plain": [
       "state/region    False\n",
       "ages            False\n",
       "year            False\n",
       "population       True\n",
       "state            True\n",
       "dtype: bool"
      ]
     },
     "execution_count": 431,
     "metadata": {},
     "output_type": "execute_result"
    }
   ],
   "source": [
    "merged.isnull().any()"
   ]
  },
  {
   "cell_type": "code",
   "execution_count": 432,
   "metadata": {},
   "outputs": [],
   "source": [
    "#enter solution\n"
   ]
  },
  {
   "cell_type": "markdown",
   "metadata": {
    "solution2": "hidden",
    "solution2_first": true
   },
   "source": [
    "11.5 Show the data with the Null value"
   ]
  },
  {
   "cell_type": "code",
   "execution_count": 437,
   "metadata": {
    "solution2": "hidden"
   },
   "outputs": [
    {
     "name": "stdout",
     "output_type": "stream",
     "text": [
      "     state/region     ages  year  population state\n",
      "2448           PR  under18  1990         NaN   NaN\n",
      "2449           PR    total  1990         NaN   NaN\n",
      "2450           PR    total  1991         NaN   NaN\n",
      "2451           PR  under18  1991         NaN   NaN\n",
      "2452           PR    total  1993         NaN   NaN\n",
      "2453           PR  under18  1993         NaN   NaN\n",
      "2454           PR  under18  1992         NaN   NaN\n",
      "2455           PR    total  1992         NaN   NaN\n",
      "2456           PR  under18  1994         NaN   NaN\n",
      "2457           PR    total  1994         NaN   NaN\n",
      "2458           PR    total  1995         NaN   NaN\n",
      "2459           PR  under18  1995         NaN   NaN\n",
      "2460           PR  under18  1996         NaN   NaN\n",
      "2461           PR    total  1996         NaN   NaN\n",
      "2462           PR  under18  1998         NaN   NaN\n",
      "2463           PR    total  1998         NaN   NaN\n",
      "2464           PR    total  1997         NaN   NaN\n",
      "2465           PR  under18  1997         NaN   NaN\n",
      "2466           PR    total  1999         NaN   NaN\n",
      "2467           PR  under18  1999         NaN   NaN\n",
      "     state/region     ages  year   population state\n",
      "2448           PR  under18  1990          NaN   NaN\n",
      "2449           PR    total  1990          NaN   NaN\n",
      "2450           PR    total  1991          NaN   NaN\n",
      "2451           PR  under18  1991          NaN   NaN\n",
      "2452           PR    total  1993          NaN   NaN\n",
      "...           ...      ...   ...          ...   ...\n",
      "2539          USA    total  2010  309326295.0   NaN\n",
      "2540          USA  under18  2011   73902222.0   NaN\n",
      "2541          USA    total  2011  311582564.0   NaN\n",
      "2542          USA  under18  2012   73708179.0   NaN\n",
      "2543          USA    total  2012  313873685.0   NaN\n",
      "\n",
      "[96 rows x 5 columns]\n"
     ]
    }
   ],
   "source": [
    "print(merged[merged[\"population\"].isnull()])\n",
    "print(merged[merged[\"state\"].isnull()])"
   ]
  },
  {
   "cell_type": "code",
   "execution_count": 434,
   "metadata": {},
   "outputs": [],
   "source": [
    "#enter solution\n"
   ]
  },
  {
   "cell_type": "markdown",
   "metadata": {
    "solution2": "hidden",
    "solution2_first": true
   },
   "source": [
    "11.6 Find out which regions lack the data"
   ]
  },
  {
   "cell_type": "code",
   "execution_count": 438,
   "metadata": {
    "solution2": "hidden"
   },
   "outputs": [
    {
     "data": {
      "text/plain": [
       "array(['PR', 'USA'], dtype=object)"
      ]
     },
     "execution_count": 438,
     "metadata": {},
     "output_type": "execute_result"
    }
   ],
   "source": [
    "merged.loc[merged[\"state\"].isnull(), \"state/region\"].unique()"
   ]
  },
  {
   "cell_type": "code",
   "execution_count": 439,
   "metadata": {},
   "outputs": [],
   "source": [
    "#enter solution\n"
   ]
  },
  {
   "cell_type": "markdown",
   "metadata": {
    "solution2": "hidden",
    "solution2_first": true
   },
   "source": [
    "11.7 Change \"state\" of \"region\" \"PR\" and \"USA\" to \"Puerto Rico\" and \"United States\", after check again for Null values"
   ]
  },
  {
   "cell_type": "code",
   "execution_count": 440,
   "metadata": {
    "solution2": "hidden"
   },
   "outputs": [
    {
     "data": {
      "text/plain": [
       "state/region    False\n",
       "ages            False\n",
       "year            False\n",
       "population       True\n",
       "state           False\n",
       "dtype: bool"
      ]
     },
     "execution_count": 440,
     "metadata": {},
     "output_type": "execute_result"
    }
   ],
   "source": [
    "merged.loc[merged[\"state/region\"] == \"PR\", \"state\"] = \"Puerto Rico\"\n",
    "merged.loc[merged[\"state/region\"] == \"USA\", \"state\"] = \"United States\"\n",
    "merged.isnull().any()"
   ]
  },
  {
   "cell_type": "code",
   "execution_count": 441,
   "metadata": {},
   "outputs": [],
   "source": [
    "#enter solution\n"
   ]
  },
  {
   "cell_type": "markdown",
   "metadata": {
    "solution2": "hidden",
    "solution2_first": true
   },
   "source": [
    "11.8 Merge the dataset with the df **areas**"
   ]
  },
  {
   "cell_type": "code",
   "execution_count": 444,
   "metadata": {
    "solution2": "hidden"
   },
   "outputs": [
    {
     "data": {
      "text/html": [
       "<div>\n",
       "<style scoped>\n",
       "    .dataframe tbody tr th:only-of-type {\n",
       "        vertical-align: middle;\n",
       "    }\n",
       "\n",
       "    .dataframe tbody tr th {\n",
       "        vertical-align: top;\n",
       "    }\n",
       "\n",
       "    .dataframe thead th {\n",
       "        text-align: right;\n",
       "    }\n",
       "</style>\n",
       "<table border=\"1\" class=\"dataframe\">\n",
       "  <thead>\n",
       "    <tr style=\"text-align: right;\">\n",
       "      <th></th>\n",
       "      <th>state/region</th>\n",
       "      <th>ages</th>\n",
       "      <th>year</th>\n",
       "      <th>population</th>\n",
       "      <th>state</th>\n",
       "      <th>area (sq. mi)</th>\n",
       "    </tr>\n",
       "  </thead>\n",
       "  <tbody>\n",
       "    <tr>\n",
       "      <th>0</th>\n",
       "      <td>AL</td>\n",
       "      <td>under18</td>\n",
       "      <td>2012</td>\n",
       "      <td>1117489.0</td>\n",
       "      <td>Alabama</td>\n",
       "      <td>52423.0</td>\n",
       "    </tr>\n",
       "    <tr>\n",
       "      <th>1</th>\n",
       "      <td>AL</td>\n",
       "      <td>total</td>\n",
       "      <td>2012</td>\n",
       "      <td>4817528.0</td>\n",
       "      <td>Alabama</td>\n",
       "      <td>52423.0</td>\n",
       "    </tr>\n",
       "    <tr>\n",
       "      <th>2</th>\n",
       "      <td>AL</td>\n",
       "      <td>under18</td>\n",
       "      <td>2010</td>\n",
       "      <td>1130966.0</td>\n",
       "      <td>Alabama</td>\n",
       "      <td>52423.0</td>\n",
       "    </tr>\n",
       "    <tr>\n",
       "      <th>3</th>\n",
       "      <td>AL</td>\n",
       "      <td>total</td>\n",
       "      <td>2010</td>\n",
       "      <td>4785570.0</td>\n",
       "      <td>Alabama</td>\n",
       "      <td>52423.0</td>\n",
       "    </tr>\n",
       "    <tr>\n",
       "      <th>4</th>\n",
       "      <td>AL</td>\n",
       "      <td>under18</td>\n",
       "      <td>2011</td>\n",
       "      <td>1125763.0</td>\n",
       "      <td>Alabama</td>\n",
       "      <td>52423.0</td>\n",
       "    </tr>\n",
       "  </tbody>\n",
       "</table>\n",
       "</div>"
      ],
      "text/plain": [
       "  state/region     ages  year  population    state  area (sq. mi)\n",
       "0           AL  under18  2012   1117489.0  Alabama        52423.0\n",
       "1           AL    total  2012   4817528.0  Alabama        52423.0\n",
       "2           AL  under18  2010   1130966.0  Alabama        52423.0\n",
       "3           AL    total  2010   4785570.0  Alabama        52423.0\n",
       "4           AL  under18  2011   1125763.0  Alabama        52423.0"
      ]
     },
     "execution_count": 444,
     "metadata": {},
     "output_type": "execute_result"
    }
   ],
   "source": [
    "final = pd.merge(merged,areas, on=\"state\", how=\"left\")\n",
    "final.head()"
   ]
  },
  {
   "cell_type": "code",
   "execution_count": 445,
   "metadata": {},
   "outputs": [],
   "source": [
    "#enter solution\n"
   ]
  },
  {
   "cell_type": "markdown",
   "metadata": {
    "solution2": "hidden",
    "solution2_first": true
   },
   "source": [
    "11.9 Check for Null values"
   ]
  },
  {
   "cell_type": "code",
   "execution_count": 446,
   "metadata": {
    "solution2": "hidden"
   },
   "outputs": [
    {
     "data": {
      "text/plain": [
       "state/region     False\n",
       "ages             False\n",
       "year             False\n",
       "population        True\n",
       "state            False\n",
       "area (sq. mi)     True\n",
       "dtype: bool"
      ]
     },
     "execution_count": 446,
     "metadata": {},
     "output_type": "execute_result"
    }
   ],
   "source": [
    "final.isnull().any()"
   ]
  },
  {
   "cell_type": "code",
   "execution_count": 447,
   "metadata": {},
   "outputs": [],
   "source": [
    "#enter solution\n"
   ]
  },
  {
   "cell_type": "markdown",
   "metadata": {
    "solution2": "hidden",
    "solution2_first": true
   },
   "source": [
    "11.10 Check which regions have a Null value in the area column"
   ]
  },
  {
   "cell_type": "code",
   "execution_count": 448,
   "metadata": {
    "solution2": "hidden"
   },
   "outputs": [
    {
     "data": {
      "text/plain": [
       "array(['United States'], dtype=object)"
      ]
     },
     "execution_count": 448,
     "metadata": {},
     "output_type": "execute_result"
    }
   ],
   "source": [
    "final[\"state\"][final[\"area (sq. mi)\"].isnull()].unique()"
   ]
  },
  {
   "cell_type": "code",
   "execution_count": 449,
   "metadata": {},
   "outputs": [],
   "source": [
    "#enter solution\n"
   ]
  },
  {
   "cell_type": "markdown",
   "metadata": {
    "solution2": "hidden",
    "solution2_first": true
   },
   "source": [
    "11.11 Drop the rows with the Null values"
   ]
  },
  {
   "cell_type": "code",
   "execution_count": 451,
   "metadata": {
    "solution2": "hidden"
   },
   "outputs": [
    {
     "data": {
      "text/html": [
       "<div>\n",
       "<style scoped>\n",
       "    .dataframe tbody tr th:only-of-type {\n",
       "        vertical-align: middle;\n",
       "    }\n",
       "\n",
       "    .dataframe tbody tr th {\n",
       "        vertical-align: top;\n",
       "    }\n",
       "\n",
       "    .dataframe thead th {\n",
       "        text-align: right;\n",
       "    }\n",
       "</style>\n",
       "<table border=\"1\" class=\"dataframe\">\n",
       "  <thead>\n",
       "    <tr style=\"text-align: right;\">\n",
       "      <th></th>\n",
       "      <th>state/region</th>\n",
       "      <th>ages</th>\n",
       "      <th>year</th>\n",
       "      <th>population</th>\n",
       "      <th>state</th>\n",
       "      <th>area (sq. mi)</th>\n",
       "    </tr>\n",
       "  </thead>\n",
       "  <tbody>\n",
       "    <tr>\n",
       "      <th>0</th>\n",
       "      <td>AL</td>\n",
       "      <td>under18</td>\n",
       "      <td>2012</td>\n",
       "      <td>1117489.0</td>\n",
       "      <td>Alabama</td>\n",
       "      <td>52423.0</td>\n",
       "    </tr>\n",
       "    <tr>\n",
       "      <th>1</th>\n",
       "      <td>AL</td>\n",
       "      <td>total</td>\n",
       "      <td>2012</td>\n",
       "      <td>4817528.0</td>\n",
       "      <td>Alabama</td>\n",
       "      <td>52423.0</td>\n",
       "    </tr>\n",
       "    <tr>\n",
       "      <th>2</th>\n",
       "      <td>AL</td>\n",
       "      <td>under18</td>\n",
       "      <td>2010</td>\n",
       "      <td>1130966.0</td>\n",
       "      <td>Alabama</td>\n",
       "      <td>52423.0</td>\n",
       "    </tr>\n",
       "    <tr>\n",
       "      <th>3</th>\n",
       "      <td>AL</td>\n",
       "      <td>total</td>\n",
       "      <td>2010</td>\n",
       "      <td>4785570.0</td>\n",
       "      <td>Alabama</td>\n",
       "      <td>52423.0</td>\n",
       "    </tr>\n",
       "    <tr>\n",
       "      <th>4</th>\n",
       "      <td>AL</td>\n",
       "      <td>under18</td>\n",
       "      <td>2011</td>\n",
       "      <td>1125763.0</td>\n",
       "      <td>Alabama</td>\n",
       "      <td>52423.0</td>\n",
       "    </tr>\n",
       "  </tbody>\n",
       "</table>\n",
       "</div>"
      ],
      "text/plain": [
       "  state/region     ages  year  population    state  area (sq. mi)\n",
       "0           AL  under18  2012   1117489.0  Alabama        52423.0\n",
       "1           AL    total  2012   4817528.0  Alabama        52423.0\n",
       "2           AL  under18  2010   1130966.0  Alabama        52423.0\n",
       "3           AL    total  2010   4785570.0  Alabama        52423.0\n",
       "4           AL  under18  2011   1125763.0  Alabama        52423.0"
      ]
     },
     "execution_count": 451,
     "metadata": {},
     "output_type": "execute_result"
    }
   ],
   "source": [
    "final.dropna(inplace= True)\n",
    "final.head()"
   ]
  },
  {
   "cell_type": "code",
   "execution_count": 450,
   "metadata": {},
   "outputs": [],
   "source": [
    "#enter solution\n"
   ]
  },
  {
   "cell_type": "markdown",
   "metadata": {
    "solution2": "hidden",
    "solution2_first": true
   },
   "source": [
    "11.12 Query all data, where year is equal to 2010 and ages is equal to \"total\""
   ]
  },
  {
   "cell_type": "code",
   "execution_count": 453,
   "metadata": {
    "solution2": "hidden"
   },
   "outputs": [
    {
     "data": {
      "text/html": [
       "<div>\n",
       "<style scoped>\n",
       "    .dataframe tbody tr th:only-of-type {\n",
       "        vertical-align: middle;\n",
       "    }\n",
       "\n",
       "    .dataframe tbody tr th {\n",
       "        vertical-align: top;\n",
       "    }\n",
       "\n",
       "    .dataframe thead th {\n",
       "        text-align: right;\n",
       "    }\n",
       "</style>\n",
       "<table border=\"1\" class=\"dataframe\">\n",
       "  <thead>\n",
       "    <tr style=\"text-align: right;\">\n",
       "      <th></th>\n",
       "      <th>state/region</th>\n",
       "      <th>ages</th>\n",
       "      <th>year</th>\n",
       "      <th>population</th>\n",
       "      <th>state</th>\n",
       "      <th>area (sq. mi)</th>\n",
       "    </tr>\n",
       "  </thead>\n",
       "  <tbody>\n",
       "    <tr>\n",
       "      <th>3</th>\n",
       "      <td>AL</td>\n",
       "      <td>total</td>\n",
       "      <td>2010</td>\n",
       "      <td>4785570.0</td>\n",
       "      <td>Alabama</td>\n",
       "      <td>52423.0</td>\n",
       "    </tr>\n",
       "    <tr>\n",
       "      <th>91</th>\n",
       "      <td>AK</td>\n",
       "      <td>total</td>\n",
       "      <td>2010</td>\n",
       "      <td>713868.0</td>\n",
       "      <td>Alaska</td>\n",
       "      <td>656425.0</td>\n",
       "    </tr>\n",
       "    <tr>\n",
       "      <th>101</th>\n",
       "      <td>AZ</td>\n",
       "      <td>total</td>\n",
       "      <td>2010</td>\n",
       "      <td>6408790.0</td>\n",
       "      <td>Arizona</td>\n",
       "      <td>114006.0</td>\n",
       "    </tr>\n",
       "    <tr>\n",
       "      <th>189</th>\n",
       "      <td>AR</td>\n",
       "      <td>total</td>\n",
       "      <td>2010</td>\n",
       "      <td>2922280.0</td>\n",
       "      <td>Arkansas</td>\n",
       "      <td>53182.0</td>\n",
       "    </tr>\n",
       "    <tr>\n",
       "      <th>197</th>\n",
       "      <td>CA</td>\n",
       "      <td>total</td>\n",
       "      <td>2010</td>\n",
       "      <td>37333601.0</td>\n",
       "      <td>California</td>\n",
       "      <td>163707.0</td>\n",
       "    </tr>\n",
       "  </tbody>\n",
       "</table>\n",
       "</div>"
      ],
      "text/plain": [
       "    state/region   ages  year  population       state  area (sq. mi)\n",
       "3             AL  total  2010   4785570.0     Alabama        52423.0\n",
       "91            AK  total  2010    713868.0      Alaska       656425.0\n",
       "101           AZ  total  2010   6408790.0     Arizona       114006.0\n",
       "189           AR  total  2010   2922280.0    Arkansas        53182.0\n",
       "197           CA  total  2010  37333601.0  California       163707.0"
      ]
     },
     "execution_count": 453,
     "metadata": {},
     "output_type": "execute_result"
    }
   ],
   "source": [
    "data2010 = final.query(\"year == 2010 & ages == 'total'\")\n",
    "data2010.head()"
   ]
  },
  {
   "cell_type": "code",
   "execution_count": 454,
   "metadata": {},
   "outputs": [],
   "source": [
    "#enter solution\n"
   ]
  },
  {
   "cell_type": "markdown",
   "metadata": {
    "solution2": "hidden",
    "solution2_first": true
   },
   "source": [
    "11.13 Set the column \"state\" as index"
   ]
  },
  {
   "cell_type": "code",
   "execution_count": 457,
   "metadata": {
    "solution2": "hidden"
   },
   "outputs": [
    {
     "data": {
      "text/html": [
       "<div>\n",
       "<style scoped>\n",
       "    .dataframe tbody tr th:only-of-type {\n",
       "        vertical-align: middle;\n",
       "    }\n",
       "\n",
       "    .dataframe tbody tr th {\n",
       "        vertical-align: top;\n",
       "    }\n",
       "\n",
       "    .dataframe thead th {\n",
       "        text-align: right;\n",
       "    }\n",
       "</style>\n",
       "<table border=\"1\" class=\"dataframe\">\n",
       "  <thead>\n",
       "    <tr style=\"text-align: right;\">\n",
       "      <th></th>\n",
       "      <th>state/region</th>\n",
       "      <th>ages</th>\n",
       "      <th>year</th>\n",
       "      <th>population</th>\n",
       "      <th>area (sq. mi)</th>\n",
       "    </tr>\n",
       "    <tr>\n",
       "      <th>state</th>\n",
       "      <th></th>\n",
       "      <th></th>\n",
       "      <th></th>\n",
       "      <th></th>\n",
       "      <th></th>\n",
       "    </tr>\n",
       "  </thead>\n",
       "  <tbody>\n",
       "    <tr>\n",
       "      <th>Alabama</th>\n",
       "      <td>AL</td>\n",
       "      <td>total</td>\n",
       "      <td>2010</td>\n",
       "      <td>4785570.0</td>\n",
       "      <td>52423.0</td>\n",
       "    </tr>\n",
       "    <tr>\n",
       "      <th>Alaska</th>\n",
       "      <td>AK</td>\n",
       "      <td>total</td>\n",
       "      <td>2010</td>\n",
       "      <td>713868.0</td>\n",
       "      <td>656425.0</td>\n",
       "    </tr>\n",
       "    <tr>\n",
       "      <th>Arizona</th>\n",
       "      <td>AZ</td>\n",
       "      <td>total</td>\n",
       "      <td>2010</td>\n",
       "      <td>6408790.0</td>\n",
       "      <td>114006.0</td>\n",
       "    </tr>\n",
       "    <tr>\n",
       "      <th>Arkansas</th>\n",
       "      <td>AR</td>\n",
       "      <td>total</td>\n",
       "      <td>2010</td>\n",
       "      <td>2922280.0</td>\n",
       "      <td>53182.0</td>\n",
       "    </tr>\n",
       "    <tr>\n",
       "      <th>California</th>\n",
       "      <td>CA</td>\n",
       "      <td>total</td>\n",
       "      <td>2010</td>\n",
       "      <td>37333601.0</td>\n",
       "      <td>163707.0</td>\n",
       "    </tr>\n",
       "  </tbody>\n",
       "</table>\n",
       "</div>"
      ],
      "text/plain": [
       "           state/region   ages  year  population  area (sq. mi)\n",
       "state                                                          \n",
       "Alabama              AL  total  2010   4785570.0        52423.0\n",
       "Alaska               AK  total  2010    713868.0       656425.0\n",
       "Arizona              AZ  total  2010   6408790.0       114006.0\n",
       "Arkansas             AR  total  2010   2922280.0        53182.0\n",
       "California           CA  total  2010  37333601.0       163707.0"
      ]
     },
     "execution_count": 457,
     "metadata": {},
     "output_type": "execute_result"
    }
   ],
   "source": [
    "data2010.set_index(\"state\", inplace= True)\n",
    "data2010.head()"
   ]
  },
  {
   "cell_type": "code",
   "execution_count": 458,
   "metadata": {},
   "outputs": [],
   "source": [
    "#enter solution\n"
   ]
  },
  {
   "cell_type": "markdown",
   "metadata": {
    "solution2": "hidden",
    "solution2_first": true
   },
   "source": [
    "11.14 Compute the density and save it in a variable"
   ]
  },
  {
   "cell_type": "code",
   "execution_count": 460,
   "metadata": {
    "solution2": "hidden"
   },
   "outputs": [
    {
     "data": {
      "text/plain": [
       "state\n",
       "Alabama        91.287603\n",
       "Alaska          1.087509\n",
       "Arizona        56.214497\n",
       "Arkansas       54.948667\n",
       "California    228.051342\n",
       "dtype: float64"
      ]
     },
     "execution_count": 460,
     "metadata": {},
     "output_type": "execute_result"
    }
   ],
   "source": [
    "density = data2010[\"population\"] / data2010[\"area (sq. mi)\"]\n",
    "density.head()"
   ]
  },
  {
   "cell_type": "code",
   "execution_count": 461,
   "metadata": {},
   "outputs": [],
   "source": [
    "#enter solution\n"
   ]
  },
  {
   "cell_type": "markdown",
   "metadata": {
    "solution2": "hidden",
    "solution2_first": true
   },
   "source": [
    "11.15 Display the dataset in order, showing the top 5 highest densities"
   ]
  },
  {
   "cell_type": "code",
   "execution_count": 462,
   "metadata": {
    "solution2": "hidden"
   },
   "outputs": [
    {
     "data": {
      "text/plain": [
       "state\n",
       "District of Columbia    8898.897059\n",
       "Puerto Rico             1058.665149\n",
       "New Jersey              1009.253268\n",
       "Rhode Island             681.339159\n",
       "Connecticut              645.600649\n",
       "dtype: float64"
      ]
     },
     "execution_count": 462,
     "metadata": {},
     "output_type": "execute_result"
    }
   ],
   "source": [
    "density.sort_values(ascending= False, inplace= True)\n",
    "density.head()"
   ]
  },
  {
   "cell_type": "code",
   "execution_count": 463,
   "metadata": {},
   "outputs": [],
   "source": [
    "#enter solution\n"
   ]
  },
  {
   "cell_type": "markdown",
   "metadata": {
    "solution2": "hidden",
    "solution2_first": true
   },
   "source": [
    "11.16 Display the lowest 5 densities"
   ]
  },
  {
   "cell_type": "code",
   "execution_count": 464,
   "metadata": {
    "solution2": "hidden"
   },
   "outputs": [
    {
     "data": {
      "text/plain": [
       "state\n",
       "South Dakota    10.583512\n",
       "North Dakota     9.537565\n",
       "Montana          6.736171\n",
       "Wyoming          5.768079\n",
       "Alaska           1.087509\n",
       "dtype: float64"
      ]
     },
     "execution_count": 464,
     "metadata": {},
     "output_type": "execute_result"
    }
   ],
   "source": [
    "density.tail()"
   ]
  },
  {
   "cell_type": "code",
   "execution_count": 465,
   "metadata": {},
   "outputs": [],
   "source": [
    "#enter solution\n"
   ]
  },
  {
   "cell_type": "markdown",
   "metadata": {},
   "source": [
    "#### Task 12 Aggregation and Grouping\n",
    "    \n",
    "    get the planets dataset from seaborn"
   ]
  },
  {
   "cell_type": "markdown",
   "metadata": {
    "solution2": "hidden",
    "solution2_first": true
   },
   "source": [
    "12.1 Import seaborn"
   ]
  },
  {
   "cell_type": "code",
   "execution_count": 466,
   "metadata": {
    "solution2": "hidden"
   },
   "outputs": [],
   "source": [
    "import seaborn as sns"
   ]
  },
  {
   "cell_type": "code",
   "execution_count": 467,
   "metadata": {},
   "outputs": [],
   "source": [
    "#enter solution\n"
   ]
  },
  {
   "cell_type": "markdown",
   "metadata": {
    "solution2": "hidden",
    "solution2_first": true
   },
   "source": [
    "12.2 Save the planets dataset in a variable"
   ]
  },
  {
   "cell_type": "code",
   "execution_count": 468,
   "metadata": {
    "solution2": "hidden"
   },
   "outputs": [],
   "source": [
    "planets = sns.load_dataset(\"planets\")"
   ]
  },
  {
   "cell_type": "code",
   "execution_count": 469,
   "metadata": {},
   "outputs": [],
   "source": [
    "#enter solution\n"
   ]
  },
  {
   "cell_type": "markdown",
   "metadata": {
    "solution2": "hidden",
    "solution2_first": true
   },
   "source": [
    "12.3 Show the shape of the dataset"
   ]
  },
  {
   "cell_type": "code",
   "execution_count": 470,
   "metadata": {
    "solution2": "hidden"
   },
   "outputs": [
    {
     "data": {
      "text/plain": [
       "(1035, 6)"
      ]
     },
     "execution_count": 470,
     "metadata": {},
     "output_type": "execute_result"
    }
   ],
   "source": [
    "planets.shape"
   ]
  },
  {
   "cell_type": "code",
   "execution_count": 471,
   "metadata": {},
   "outputs": [],
   "source": [
    "#enter solution\n"
   ]
  },
  {
   "cell_type": "markdown",
   "metadata": {
    "solution2": "hidden",
    "solution2_first": true
   },
   "source": [
    "12.4 Show the first five rows of the dataset"
   ]
  },
  {
   "cell_type": "code",
   "execution_count": 472,
   "metadata": {
    "solution2": "hidden"
   },
   "outputs": [
    {
     "data": {
      "text/html": [
       "<div>\n",
       "<style scoped>\n",
       "    .dataframe tbody tr th:only-of-type {\n",
       "        vertical-align: middle;\n",
       "    }\n",
       "\n",
       "    .dataframe tbody tr th {\n",
       "        vertical-align: top;\n",
       "    }\n",
       "\n",
       "    .dataframe thead th {\n",
       "        text-align: right;\n",
       "    }\n",
       "</style>\n",
       "<table border=\"1\" class=\"dataframe\">\n",
       "  <thead>\n",
       "    <tr style=\"text-align: right;\">\n",
       "      <th></th>\n",
       "      <th>method</th>\n",
       "      <th>number</th>\n",
       "      <th>orbital_period</th>\n",
       "      <th>mass</th>\n",
       "      <th>distance</th>\n",
       "      <th>year</th>\n",
       "    </tr>\n",
       "  </thead>\n",
       "  <tbody>\n",
       "    <tr>\n",
       "      <th>0</th>\n",
       "      <td>Radial Velocity</td>\n",
       "      <td>1</td>\n",
       "      <td>269.300</td>\n",
       "      <td>7.10</td>\n",
       "      <td>77.40</td>\n",
       "      <td>2006</td>\n",
       "    </tr>\n",
       "    <tr>\n",
       "      <th>1</th>\n",
       "      <td>Radial Velocity</td>\n",
       "      <td>1</td>\n",
       "      <td>874.774</td>\n",
       "      <td>2.21</td>\n",
       "      <td>56.95</td>\n",
       "      <td>2008</td>\n",
       "    </tr>\n",
       "    <tr>\n",
       "      <th>2</th>\n",
       "      <td>Radial Velocity</td>\n",
       "      <td>1</td>\n",
       "      <td>763.000</td>\n",
       "      <td>2.60</td>\n",
       "      <td>19.84</td>\n",
       "      <td>2011</td>\n",
       "    </tr>\n",
       "    <tr>\n",
       "      <th>3</th>\n",
       "      <td>Radial Velocity</td>\n",
       "      <td>1</td>\n",
       "      <td>326.030</td>\n",
       "      <td>19.40</td>\n",
       "      <td>110.62</td>\n",
       "      <td>2007</td>\n",
       "    </tr>\n",
       "    <tr>\n",
       "      <th>4</th>\n",
       "      <td>Radial Velocity</td>\n",
       "      <td>1</td>\n",
       "      <td>516.220</td>\n",
       "      <td>10.50</td>\n",
       "      <td>119.47</td>\n",
       "      <td>2009</td>\n",
       "    </tr>\n",
       "  </tbody>\n",
       "</table>\n",
       "</div>"
      ],
      "text/plain": [
       "            method  number  orbital_period   mass  distance  year\n",
       "0  Radial Velocity       1         269.300   7.10     77.40  2006\n",
       "1  Radial Velocity       1         874.774   2.21     56.95  2008\n",
       "2  Radial Velocity       1         763.000   2.60     19.84  2011\n",
       "3  Radial Velocity       1         326.030  19.40    110.62  2007\n",
       "4  Radial Velocity       1         516.220  10.50    119.47  2009"
      ]
     },
     "execution_count": 472,
     "metadata": {},
     "output_type": "execute_result"
    }
   ],
   "source": [
    "planets.head()"
   ]
  },
  {
   "cell_type": "code",
   "execution_count": 473,
   "metadata": {},
   "outputs": [],
   "source": [
    "#enter solution\n"
   ]
  },
  {
   "cell_type": "markdown",
   "metadata": {
    "solution2": "hidden",
    "solution2_first": true
   },
   "source": [
    "12.5 Drop the Null values of the data and show the description of the dataset"
   ]
  },
  {
   "cell_type": "code",
   "execution_count": 474,
   "metadata": {
    "solution2": "hidden"
   },
   "outputs": [
    {
     "data": {
      "text/html": [
       "<div>\n",
       "<style scoped>\n",
       "    .dataframe tbody tr th:only-of-type {\n",
       "        vertical-align: middle;\n",
       "    }\n",
       "\n",
       "    .dataframe tbody tr th {\n",
       "        vertical-align: top;\n",
       "    }\n",
       "\n",
       "    .dataframe thead th {\n",
       "        text-align: right;\n",
       "    }\n",
       "</style>\n",
       "<table border=\"1\" class=\"dataframe\">\n",
       "  <thead>\n",
       "    <tr style=\"text-align: right;\">\n",
       "      <th></th>\n",
       "      <th>number</th>\n",
       "      <th>orbital_period</th>\n",
       "      <th>mass</th>\n",
       "      <th>distance</th>\n",
       "      <th>year</th>\n",
       "    </tr>\n",
       "  </thead>\n",
       "  <tbody>\n",
       "    <tr>\n",
       "      <th>count</th>\n",
       "      <td>498.00000</td>\n",
       "      <td>498.000000</td>\n",
       "      <td>498.000000</td>\n",
       "      <td>498.000000</td>\n",
       "      <td>498.000000</td>\n",
       "    </tr>\n",
       "    <tr>\n",
       "      <th>mean</th>\n",
       "      <td>1.73494</td>\n",
       "      <td>835.778671</td>\n",
       "      <td>2.509320</td>\n",
       "      <td>52.068213</td>\n",
       "      <td>2007.377510</td>\n",
       "    </tr>\n",
       "    <tr>\n",
       "      <th>std</th>\n",
       "      <td>1.17572</td>\n",
       "      <td>1469.128259</td>\n",
       "      <td>3.636274</td>\n",
       "      <td>46.596041</td>\n",
       "      <td>4.167284</td>\n",
       "    </tr>\n",
       "    <tr>\n",
       "      <th>min</th>\n",
       "      <td>1.00000</td>\n",
       "      <td>1.328300</td>\n",
       "      <td>0.003600</td>\n",
       "      <td>1.350000</td>\n",
       "      <td>1989.000000</td>\n",
       "    </tr>\n",
       "    <tr>\n",
       "      <th>25%</th>\n",
       "      <td>1.00000</td>\n",
       "      <td>38.272250</td>\n",
       "      <td>0.212500</td>\n",
       "      <td>24.497500</td>\n",
       "      <td>2005.000000</td>\n",
       "    </tr>\n",
       "    <tr>\n",
       "      <th>50%</th>\n",
       "      <td>1.00000</td>\n",
       "      <td>357.000000</td>\n",
       "      <td>1.245000</td>\n",
       "      <td>39.940000</td>\n",
       "      <td>2009.000000</td>\n",
       "    </tr>\n",
       "    <tr>\n",
       "      <th>75%</th>\n",
       "      <td>2.00000</td>\n",
       "      <td>999.600000</td>\n",
       "      <td>2.867500</td>\n",
       "      <td>59.332500</td>\n",
       "      <td>2011.000000</td>\n",
       "    </tr>\n",
       "    <tr>\n",
       "      <th>max</th>\n",
       "      <td>6.00000</td>\n",
       "      <td>17337.500000</td>\n",
       "      <td>25.000000</td>\n",
       "      <td>354.000000</td>\n",
       "      <td>2014.000000</td>\n",
       "    </tr>\n",
       "  </tbody>\n",
       "</table>\n",
       "</div>"
      ],
      "text/plain": [
       "          number  orbital_period        mass    distance         year\n",
       "count  498.00000      498.000000  498.000000  498.000000   498.000000\n",
       "mean     1.73494      835.778671    2.509320   52.068213  2007.377510\n",
       "std      1.17572     1469.128259    3.636274   46.596041     4.167284\n",
       "min      1.00000        1.328300    0.003600    1.350000  1989.000000\n",
       "25%      1.00000       38.272250    0.212500   24.497500  2005.000000\n",
       "50%      1.00000      357.000000    1.245000   39.940000  2009.000000\n",
       "75%      2.00000      999.600000    2.867500   59.332500  2011.000000\n",
       "max      6.00000    17337.500000   25.000000  354.000000  2014.000000"
      ]
     },
     "execution_count": 474,
     "metadata": {},
     "output_type": "execute_result"
    }
   ],
   "source": [
    "planets.dropna().describe()"
   ]
  },
  {
   "cell_type": "code",
   "execution_count": 475,
   "metadata": {},
   "outputs": [],
   "source": [
    "#enter solution\n"
   ]
  },
  {
   "cell_type": "markdown",
   "metadata": {
    "solution2": "hidden",
    "solution2_first": true
   },
   "source": [
    "12.6 Group the following df by the column \"key\" and get the sum for each value"
   ]
  },
  {
   "cell_type": "code",
   "execution_count": 478,
   "metadata": {
    "solution2": "hidden"
   },
   "outputs": [
    {
     "name": "stdout",
     "output_type": "stream",
     "text": [
      "  key  data\n",
      "0   A     0\n",
      "1   B     1\n",
      "2   C     2\n",
      "3   A     3\n",
      "4   B     4\n",
      "5   C     5\n"
     ]
    },
    {
     "data": {
      "text/html": [
       "<div>\n",
       "<style scoped>\n",
       "    .dataframe tbody tr th:only-of-type {\n",
       "        vertical-align: middle;\n",
       "    }\n",
       "\n",
       "    .dataframe tbody tr th {\n",
       "        vertical-align: top;\n",
       "    }\n",
       "\n",
       "    .dataframe thead th {\n",
       "        text-align: right;\n",
       "    }\n",
       "</style>\n",
       "<table border=\"1\" class=\"dataframe\">\n",
       "  <thead>\n",
       "    <tr style=\"text-align: right;\">\n",
       "      <th></th>\n",
       "      <th>data</th>\n",
       "    </tr>\n",
       "    <tr>\n",
       "      <th>key</th>\n",
       "      <th></th>\n",
       "    </tr>\n",
       "  </thead>\n",
       "  <tbody>\n",
       "    <tr>\n",
       "      <th>A</th>\n",
       "      <td>3</td>\n",
       "    </tr>\n",
       "    <tr>\n",
       "      <th>B</th>\n",
       "      <td>5</td>\n",
       "    </tr>\n",
       "    <tr>\n",
       "      <th>C</th>\n",
       "      <td>7</td>\n",
       "    </tr>\n",
       "  </tbody>\n",
       "</table>\n",
       "</div>"
      ],
      "text/plain": [
       "     data\n",
       "key      \n",
       "A       3\n",
       "B       5\n",
       "C       7"
      ]
     },
     "execution_count": 478,
     "metadata": {},
     "output_type": "execute_result"
    }
   ],
   "source": [
    "df = pd.DataFrame({\"key\": [\"A\", \"B\", \"C\", \"A\", \"B\", \"C\"], \"data\": range(6)},columns= [\"key\", \"data\"])\n",
    "print(df)\n",
    "df.groupby(\"key\").sum()"
   ]
  },
  {
   "cell_type": "code",
   "execution_count": 479,
   "metadata": {},
   "outputs": [],
   "source": [
    "#enter solution\n"
   ]
  },
  {
   "cell_type": "markdown",
   "metadata": {
    "solution2": "hidden",
    "solution2_first": true
   },
   "source": [
    "12.7 Get the median of the \"orbital_period\" column for the df **planets** grouped by the column \"method\""
   ]
  },
  {
   "cell_type": "code",
   "execution_count": 480,
   "metadata": {
    "solution2": "hidden"
   },
   "outputs": [
    {
     "data": {
      "text/plain": [
       "method\n",
       "Astrometry                         631.180000\n",
       "Eclipse Timing Variations         4343.500000\n",
       "Imaging                          27500.000000\n",
       "Microlensing                      3300.000000\n",
       "Orbital Brightness Modulation        0.342887\n",
       "Pulsar Timing                       66.541900\n",
       "Pulsation Timing Variations       1170.000000\n",
       "Radial Velocity                    360.200000\n",
       "Transit                              5.714932\n",
       "Transit Timing Variations           57.011000\n",
       "Name: orbital_period, dtype: float64"
      ]
     },
     "execution_count": 480,
     "metadata": {},
     "output_type": "execute_result"
    }
   ],
   "source": [
    "planets.groupby(\"method\")[\"orbital_period\"].median()"
   ]
  },
  {
   "cell_type": "code",
   "execution_count": 481,
   "metadata": {},
   "outputs": [],
   "source": [
    "#enter solution\n"
   ]
  },
  {
   "cell_type": "markdown",
   "metadata": {
    "solution2": "hidden",
    "solution2_first": true
   },
   "source": [
    "12.8 Get the description for the column \"year\" of the DataFrame grouped by column \"method\" "
   ]
  },
  {
   "cell_type": "code",
   "execution_count": 482,
   "metadata": {
    "solution2": "hidden"
   },
   "outputs": [
    {
     "data": {
      "text/html": [
       "<div>\n",
       "<style scoped>\n",
       "    .dataframe tbody tr th:only-of-type {\n",
       "        vertical-align: middle;\n",
       "    }\n",
       "\n",
       "    .dataframe tbody tr th {\n",
       "        vertical-align: top;\n",
       "    }\n",
       "\n",
       "    .dataframe thead th {\n",
       "        text-align: right;\n",
       "    }\n",
       "</style>\n",
       "<table border=\"1\" class=\"dataframe\">\n",
       "  <thead>\n",
       "    <tr style=\"text-align: right;\">\n",
       "      <th></th>\n",
       "      <th>count</th>\n",
       "      <th>mean</th>\n",
       "      <th>std</th>\n",
       "      <th>min</th>\n",
       "      <th>25%</th>\n",
       "      <th>50%</th>\n",
       "      <th>75%</th>\n",
       "      <th>max</th>\n",
       "    </tr>\n",
       "    <tr>\n",
       "      <th>method</th>\n",
       "      <th></th>\n",
       "      <th></th>\n",
       "      <th></th>\n",
       "      <th></th>\n",
       "      <th></th>\n",
       "      <th></th>\n",
       "      <th></th>\n",
       "      <th></th>\n",
       "    </tr>\n",
       "  </thead>\n",
       "  <tbody>\n",
       "    <tr>\n",
       "      <th>Astrometry</th>\n",
       "      <td>2.0</td>\n",
       "      <td>2011.500000</td>\n",
       "      <td>2.121320</td>\n",
       "      <td>2010.0</td>\n",
       "      <td>2010.75</td>\n",
       "      <td>2011.5</td>\n",
       "      <td>2012.25</td>\n",
       "      <td>2013.0</td>\n",
       "    </tr>\n",
       "    <tr>\n",
       "      <th>Eclipse Timing Variations</th>\n",
       "      <td>9.0</td>\n",
       "      <td>2010.000000</td>\n",
       "      <td>1.414214</td>\n",
       "      <td>2008.0</td>\n",
       "      <td>2009.00</td>\n",
       "      <td>2010.0</td>\n",
       "      <td>2011.00</td>\n",
       "      <td>2012.0</td>\n",
       "    </tr>\n",
       "    <tr>\n",
       "      <th>Imaging</th>\n",
       "      <td>38.0</td>\n",
       "      <td>2009.131579</td>\n",
       "      <td>2.781901</td>\n",
       "      <td>2004.0</td>\n",
       "      <td>2008.00</td>\n",
       "      <td>2009.0</td>\n",
       "      <td>2011.00</td>\n",
       "      <td>2013.0</td>\n",
       "    </tr>\n",
       "    <tr>\n",
       "      <th>Microlensing</th>\n",
       "      <td>23.0</td>\n",
       "      <td>2009.782609</td>\n",
       "      <td>2.859697</td>\n",
       "      <td>2004.0</td>\n",
       "      <td>2008.00</td>\n",
       "      <td>2010.0</td>\n",
       "      <td>2012.00</td>\n",
       "      <td>2013.0</td>\n",
       "    </tr>\n",
       "    <tr>\n",
       "      <th>Orbital Brightness Modulation</th>\n",
       "      <td>3.0</td>\n",
       "      <td>2011.666667</td>\n",
       "      <td>1.154701</td>\n",
       "      <td>2011.0</td>\n",
       "      <td>2011.00</td>\n",
       "      <td>2011.0</td>\n",
       "      <td>2012.00</td>\n",
       "      <td>2013.0</td>\n",
       "    </tr>\n",
       "    <tr>\n",
       "      <th>Pulsar Timing</th>\n",
       "      <td>5.0</td>\n",
       "      <td>1998.400000</td>\n",
       "      <td>8.384510</td>\n",
       "      <td>1992.0</td>\n",
       "      <td>1992.00</td>\n",
       "      <td>1994.0</td>\n",
       "      <td>2003.00</td>\n",
       "      <td>2011.0</td>\n",
       "    </tr>\n",
       "    <tr>\n",
       "      <th>Pulsation Timing Variations</th>\n",
       "      <td>1.0</td>\n",
       "      <td>2007.000000</td>\n",
       "      <td>NaN</td>\n",
       "      <td>2007.0</td>\n",
       "      <td>2007.00</td>\n",
       "      <td>2007.0</td>\n",
       "      <td>2007.00</td>\n",
       "      <td>2007.0</td>\n",
       "    </tr>\n",
       "    <tr>\n",
       "      <th>Radial Velocity</th>\n",
       "      <td>553.0</td>\n",
       "      <td>2007.518987</td>\n",
       "      <td>4.249052</td>\n",
       "      <td>1989.0</td>\n",
       "      <td>2005.00</td>\n",
       "      <td>2009.0</td>\n",
       "      <td>2011.00</td>\n",
       "      <td>2014.0</td>\n",
       "    </tr>\n",
       "    <tr>\n",
       "      <th>Transit</th>\n",
       "      <td>397.0</td>\n",
       "      <td>2011.236776</td>\n",
       "      <td>2.077867</td>\n",
       "      <td>2002.0</td>\n",
       "      <td>2010.00</td>\n",
       "      <td>2012.0</td>\n",
       "      <td>2013.00</td>\n",
       "      <td>2014.0</td>\n",
       "    </tr>\n",
       "    <tr>\n",
       "      <th>Transit Timing Variations</th>\n",
       "      <td>4.0</td>\n",
       "      <td>2012.500000</td>\n",
       "      <td>1.290994</td>\n",
       "      <td>2011.0</td>\n",
       "      <td>2011.75</td>\n",
       "      <td>2012.5</td>\n",
       "      <td>2013.25</td>\n",
       "      <td>2014.0</td>\n",
       "    </tr>\n",
       "  </tbody>\n",
       "</table>\n",
       "</div>"
      ],
      "text/plain": [
       "                               count         mean       std     min      25%  \\\n",
       "method                                                                         \n",
       "Astrometry                       2.0  2011.500000  2.121320  2010.0  2010.75   \n",
       "Eclipse Timing Variations        9.0  2010.000000  1.414214  2008.0  2009.00   \n",
       "Imaging                         38.0  2009.131579  2.781901  2004.0  2008.00   \n",
       "Microlensing                    23.0  2009.782609  2.859697  2004.0  2008.00   \n",
       "Orbital Brightness Modulation    3.0  2011.666667  1.154701  2011.0  2011.00   \n",
       "Pulsar Timing                    5.0  1998.400000  8.384510  1992.0  1992.00   \n",
       "Pulsation Timing Variations      1.0  2007.000000       NaN  2007.0  2007.00   \n",
       "Radial Velocity                553.0  2007.518987  4.249052  1989.0  2005.00   \n",
       "Transit                        397.0  2011.236776  2.077867  2002.0  2010.00   \n",
       "Transit Timing Variations        4.0  2012.500000  1.290994  2011.0  2011.75   \n",
       "\n",
       "                                  50%      75%     max  \n",
       "method                                                  \n",
       "Astrometry                     2011.5  2012.25  2013.0  \n",
       "Eclipse Timing Variations      2010.0  2011.00  2012.0  \n",
       "Imaging                        2009.0  2011.00  2013.0  \n",
       "Microlensing                   2010.0  2012.00  2013.0  \n",
       "Orbital Brightness Modulation  2011.0  2012.00  2013.0  \n",
       "Pulsar Timing                  1994.0  2003.00  2011.0  \n",
       "Pulsation Timing Variations    2007.0  2007.00  2007.0  \n",
       "Radial Velocity                2009.0  2011.00  2014.0  \n",
       "Transit                        2012.0  2013.00  2014.0  \n",
       "Transit Timing Variations      2012.5  2013.25  2014.0  "
      ]
     },
     "execution_count": 482,
     "metadata": {},
     "output_type": "execute_result"
    }
   ],
   "source": [
    "planets.groupby(\"method\")[\"year\"].describe()"
   ]
  },
  {
   "cell_type": "code",
   "execution_count": 487,
   "metadata": {},
   "outputs": [],
   "source": [
    "#enter solution\n"
   ]
  },
  {
   "cell_type": "markdown",
   "metadata": {
    "solution2": "hidden",
    "solution2_first": true
   },
   "source": [
    "12.9 Get the minimun, median and max for each other column grouped by the column \"key\""
   ]
  },
  {
   "cell_type": "code",
   "execution_count": 491,
   "metadata": {
    "solution2": "hidden"
   },
   "outputs": [
    {
     "name": "stdout",
     "output_type": "stream",
     "text": [
      "  key  data1  data2\n",
      "0   A      0      5\n",
      "1   B      1      0\n",
      "2   C      2      3\n",
      "3   A      3      3\n",
      "4   B      4      7\n",
      "5   C      5      9\n"
     ]
    },
    {
     "data": {
      "text/html": [
       "<div>\n",
       "<style scoped>\n",
       "    .dataframe tbody tr th:only-of-type {\n",
       "        vertical-align: middle;\n",
       "    }\n",
       "\n",
       "    .dataframe tbody tr th {\n",
       "        vertical-align: top;\n",
       "    }\n",
       "\n",
       "    .dataframe thead tr th {\n",
       "        text-align: left;\n",
       "    }\n",
       "\n",
       "    .dataframe thead tr:last-of-type th {\n",
       "        text-align: right;\n",
       "    }\n",
       "</style>\n",
       "<table border=\"1\" class=\"dataframe\">\n",
       "  <thead>\n",
       "    <tr>\n",
       "      <th></th>\n",
       "      <th colspan=\"3\" halign=\"left\">data1</th>\n",
       "      <th colspan=\"3\" halign=\"left\">data2</th>\n",
       "    </tr>\n",
       "    <tr>\n",
       "      <th></th>\n",
       "      <th>min</th>\n",
       "      <th>median</th>\n",
       "      <th>max</th>\n",
       "      <th>min</th>\n",
       "      <th>median</th>\n",
       "      <th>max</th>\n",
       "    </tr>\n",
       "    <tr>\n",
       "      <th>key</th>\n",
       "      <th></th>\n",
       "      <th></th>\n",
       "      <th></th>\n",
       "      <th></th>\n",
       "      <th></th>\n",
       "      <th></th>\n",
       "    </tr>\n",
       "  </thead>\n",
       "  <tbody>\n",
       "    <tr>\n",
       "      <th>A</th>\n",
       "      <td>0</td>\n",
       "      <td>1.5</td>\n",
       "      <td>3</td>\n",
       "      <td>3</td>\n",
       "      <td>4.0</td>\n",
       "      <td>5</td>\n",
       "    </tr>\n",
       "    <tr>\n",
       "      <th>B</th>\n",
       "      <td>1</td>\n",
       "      <td>2.5</td>\n",
       "      <td>4</td>\n",
       "      <td>0</td>\n",
       "      <td>3.5</td>\n",
       "      <td>7</td>\n",
       "    </tr>\n",
       "    <tr>\n",
       "      <th>C</th>\n",
       "      <td>2</td>\n",
       "      <td>3.5</td>\n",
       "      <td>5</td>\n",
       "      <td>3</td>\n",
       "      <td>6.0</td>\n",
       "      <td>9</td>\n",
       "    </tr>\n",
       "  </tbody>\n",
       "</table>\n",
       "</div>"
      ],
      "text/plain": [
       "    data1            data2           \n",
       "      min median max   min median max\n",
       "key                                  \n",
       "A       0    1.5   3     3    4.0   5\n",
       "B       1    2.5   4     0    3.5   7\n",
       "C       2    3.5   5     3    6.0   9"
      ]
     },
     "execution_count": 491,
     "metadata": {},
     "output_type": "execute_result"
    }
   ],
   "source": [
    "rng = np.random.RandomState(0)\n",
    "df = pd.DataFrame({\"key\": [\"A\", \"B\", \"C\", \"A\", \"B\", \"C\"], \n",
    "                  \"data1\": range(6), \n",
    "                  \"data2\": rng.randint(0,10,6)}, \n",
    "                  columns = [\"key\", \"data1\", \"data2\"])\n",
    "print(df)\n",
    "\n",
    "df.groupby(\"key\").aggregate([\"min\", np.median, max])"
   ]
  },
  {
   "cell_type": "code",
   "execution_count": 492,
   "metadata": {},
   "outputs": [],
   "source": [
    "#enter solution\n"
   ]
  },
  {
   "cell_type": "markdown",
   "metadata": {
    "solution2": "hidden",
    "solution2_first": true
   },
   "source": [
    "12.10 Use the following function to filter the dataset **df** to get the grouped-by \"key\" data where the standard-deviation is greater than 4"
   ]
  },
  {
   "cell_type": "code",
   "execution_count": 494,
   "metadata": {
    "solution2": "hidden"
   },
   "outputs": [
    {
     "name": "stdout",
     "output_type": "stream",
     "text": [
      "  key  data1  data2\n",
      "0   A      0      5\n",
      "1   B      1      0\n",
      "2   C      2      3\n",
      "3   A      3      3\n",
      "4   B      4      7\n",
      "5   C      5      9\n",
      "       data1     data2\n",
      "key                   \n",
      "A    2.12132  1.414214\n",
      "B    2.12132  4.949747\n",
      "C    2.12132  4.242641\n",
      "  key  data1  data2\n",
      "1   B      1      0\n",
      "2   C      2      3\n",
      "4   B      4      7\n",
      "5   C      5      9\n"
     ]
    }
   ],
   "source": [
    "def filter_func(x):\n",
    "    return x[\"data2\"].std() > 4\n",
    "\n",
    "print(df), print(df.groupby(\"key\").std())\n",
    "print(df.groupby(\"key\").filter(filter_func))"
   ]
  },
  {
   "cell_type": "code",
   "execution_count": 495,
   "metadata": {},
   "outputs": [],
   "source": [
    "#enter solution\n"
   ]
  },
  {
   "cell_type": "markdown",
   "metadata": {
    "solution2": "hidden",
    "solution2_first": true
   },
   "source": [
    "12.11 Transform the dataset, grouping by \"key\" and transform the data by compute x - x.mean()"
   ]
  },
  {
   "cell_type": "code",
   "execution_count": 497,
   "metadata": {
    "solution2": "hidden"
   },
   "outputs": [
    {
     "data": {
      "text/html": [
       "<div>\n",
       "<style scoped>\n",
       "    .dataframe tbody tr th:only-of-type {\n",
       "        vertical-align: middle;\n",
       "    }\n",
       "\n",
       "    .dataframe tbody tr th {\n",
       "        vertical-align: top;\n",
       "    }\n",
       "\n",
       "    .dataframe thead th {\n",
       "        text-align: right;\n",
       "    }\n",
       "</style>\n",
       "<table border=\"1\" class=\"dataframe\">\n",
       "  <thead>\n",
       "    <tr style=\"text-align: right;\">\n",
       "      <th></th>\n",
       "      <th>data1</th>\n",
       "      <th>data2</th>\n",
       "    </tr>\n",
       "  </thead>\n",
       "  <tbody>\n",
       "    <tr>\n",
       "      <th>0</th>\n",
       "      <td>-1.5</td>\n",
       "      <td>1.0</td>\n",
       "    </tr>\n",
       "    <tr>\n",
       "      <th>1</th>\n",
       "      <td>-1.5</td>\n",
       "      <td>-3.5</td>\n",
       "    </tr>\n",
       "    <tr>\n",
       "      <th>2</th>\n",
       "      <td>-1.5</td>\n",
       "      <td>-3.0</td>\n",
       "    </tr>\n",
       "    <tr>\n",
       "      <th>3</th>\n",
       "      <td>1.5</td>\n",
       "      <td>-1.0</td>\n",
       "    </tr>\n",
       "    <tr>\n",
       "      <th>4</th>\n",
       "      <td>1.5</td>\n",
       "      <td>3.5</td>\n",
       "    </tr>\n",
       "    <tr>\n",
       "      <th>5</th>\n",
       "      <td>1.5</td>\n",
       "      <td>3.0</td>\n",
       "    </tr>\n",
       "  </tbody>\n",
       "</table>\n",
       "</div>"
      ],
      "text/plain": [
       "   data1  data2\n",
       "0   -1.5    1.0\n",
       "1   -1.5   -3.5\n",
       "2   -1.5   -3.0\n",
       "3    1.5   -1.0\n",
       "4    1.5    3.5\n",
       "5    1.5    3.0"
      ]
     },
     "execution_count": 497,
     "metadata": {},
     "output_type": "execute_result"
    }
   ],
   "source": [
    "df.groupby(\"key\").transform(lambda x: x - x.mean())"
   ]
  },
  {
   "cell_type": "code",
   "execution_count": 498,
   "metadata": {},
   "outputs": [],
   "source": [
    "#enter solution\n"
   ]
  },
  {
   "cell_type": "markdown",
   "metadata": {
    "solution2": "hidden",
    "solution2_first": true
   },
   "source": [
    "12.12 Create a new DataFrame where each unique value in the column \"key\" gets devided by the sum of the same key"
   ]
  },
  {
   "cell_type": "code",
   "execution_count": 501,
   "metadata": {
    "solution2": "hidden"
   },
   "outputs": [
    {
     "name": "stdout",
     "output_type": "stream",
     "text": [
      "  key  data1  data2\n",
      "0   A      0      5\n",
      "1   B      1      0\n",
      "2   C      2      3\n",
      "3   A      3      3\n",
      "4   B      4      7\n",
      "5   C      5      9\n",
      "  key     data1  data2\n",
      "0   A  0.000000      5\n",
      "1   B  0.142857      0\n",
      "2   C  0.166667      3\n",
      "3   A  0.375000      3\n",
      "4   B  0.571429      7\n",
      "5   C  0.416667      9\n"
     ]
    }
   ],
   "source": [
    "def norm_by_data2(x):\n",
    "    # x is a DataFrame of group values\n",
    "    x[\"data1\"] /= x[\"data2\"].sum()\n",
    "    return x\n",
    "\n",
    "print(df); print(df.groupby(\"key\").apply(norm_by_data2))"
   ]
  },
  {
   "cell_type": "code",
   "execution_count": 502,
   "metadata": {},
   "outputs": [],
   "source": [
    "#enter solution\n"
   ]
  },
  {
   "cell_type": "markdown",
   "metadata": {},
   "source": [
    "#### Task 13 Pivot Tables\n",
    "\n"
   ]
  },
  {
   "cell_type": "code",
   "execution_count": null,
   "metadata": {},
   "outputs": [],
   "source": []
  }
 ],
 "metadata": {
  "kernelspec": {
   "display_name": "Python 3",
   "language": "python",
   "name": "python3"
  },
  "language_info": {
   "codemirror_mode": {
    "name": "ipython",
    "version": 3
   },
   "file_extension": ".py",
   "mimetype": "text/x-python",
   "name": "python",
   "nbconvert_exporter": "python",
   "pygments_lexer": "ipython3",
   "version": "3.8.2"
  }
 },
 "nbformat": 4,
 "nbformat_minor": 4
}
